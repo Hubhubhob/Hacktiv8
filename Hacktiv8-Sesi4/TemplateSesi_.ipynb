{
 "cells": [
  {
   "cell_type": "markdown",
   "id": "f09e9cb8",
   "metadata": {},
   "source": [
    "# Catatan Sesi 4"
   ]
  },
  {
   "cell_type": "markdown",
   "id": "050f6e17",
   "metadata": {},
   "source": [
    "# PYTN-KS08-017"
   ]
  },
  {
   "cell_type": "markdown",
   "id": "511ce159",
   "metadata": {},
   "source": [
    "Andreas Dimas Christanto"
   ]
  },
  {
   "cell_type": "markdown",
   "id": "a0965ad4",
   "metadata": {},
   "source": [
    "## LIST VS NUMPY"
   ]
  },
  {
   "cell_type": "markdown",
   "id": "e157e595",
   "metadata": {},
   "source": [
    "LIST"
   ]
  },
  {
   "cell_type": "code",
   "execution_count": 3,
   "id": "d763f922",
   "metadata": {},
   "outputs": [
    {
     "name": "stdout",
     "output_type": "stream",
     "text": [
      "[0, 2, 12, 36, 80, 150, 252, 392, 576, 810]\n"
     ]
    }
   ],
   "source": [
    "def pythonsum(n):\n",
    "    a = b = list(range(n))\n",
    "    c = []\n",
    "    for i in range(len(a)):\n",
    "        x = a[i] ** 2\n",
    "        y = b[i] ** 3\n",
    "        c.append(x + y)\n",
    "    return c\n",
    "\n",
    "c = pythonsum(10)\n",
    "print(c)\n"
   ]
  },
  {
   "cell_type": "markdown",
   "id": "6170c26b",
   "metadata": {},
   "source": [
    "## NUMPY"
   ]
  },
  {
   "cell_type": "code",
   "execution_count": 7,
   "id": "abb76fa8",
   "metadata": {},
   "outputs": [
    {
     "data": {
      "text/plain": [
       "[0, 2, 12, 36, 80, 150, 252, 392, 576, 810]"
      ]
     },
     "execution_count": 7,
     "metadata": {},
     "output_type": "execute_result"
    }
   ],
   "source": [
    "import numpy as np \n",
    "def  numpysum(n):\n",
    "    a = np.arange(n) **2\n",
    "    b = np.arange(n) **3\n",
    "    c= a+b\n",
    "    return c\n",
    "c = pythonsum(10) \n",
    "c\n",
    "    "
   ]
  },
  {
   "cell_type": "markdown",
   "id": "7863a87d",
   "metadata": {},
   "source": [
    "Numpy Basic"
   ]
  },
  {
   "cell_type": "code",
   "execution_count": 8,
   "id": "78beebf1",
   "metadata": {},
   "outputs": [
    {
     "data": {
      "text/plain": [
       "array([1, 2, 3])"
      ]
     },
     "execution_count": 8,
     "metadata": {},
     "output_type": "execute_result"
    }
   ],
   "source": [
    "# Often to user to use\n",
    "import numpy as np \n",
    "np.array([1,2,3])"
   ]
  },
  {
   "cell_type": "code",
   "execution_count": 11,
   "id": "fc5201cb",
   "metadata": {},
   "outputs": [
    {
     "data": {
      "text/plain": [
       "array([1, 1, 1])"
      ]
     },
     "execution_count": 11,
     "metadata": {},
     "output_type": "execute_result"
    }
   ],
   "source": [
    "# Not Recomended\n",
    "from numpy import *\n",
    "array([1,1,1])"
   ]
  },
  {
   "cell_type": "code",
   "execution_count": 15,
   "id": "4c1761ad",
   "metadata": {},
   "outputs": [
    {
     "data": {
      "text/plain": [
       "array([  0,   1,   2,   3,   4,   5,   6,   7,   8,   9,  10,  11,  12,\n",
       "        13,  14,  15,  16,  17,  18,  19,  20,  21,  22,  23,  24,  25,\n",
       "        26,  27,  28,  29,  30,  31,  32,  33,  34,  35,  36,  37,  38,\n",
       "        39,  40,  41,  42,  43,  44,  45,  46,  47,  48,  49,  50,  51,\n",
       "        52,  53,  54,  55,  56,  57,  58,  59,  60,  61,  62,  63,  64,\n",
       "        65,  66,  67,  68,  69,  70,  71,  72,  73,  74,  75,  76,  77,\n",
       "        78,  79,  80,  81,  82,  83,  84,  85,  86,  87,  88,  89,  90,\n",
       "        91,  92,  93,  94,  95,  96,  97,  98,  99, 100])"
      ]
     },
     "execution_count": 15,
     "metadata": {},
     "output_type": "execute_result"
    }
   ],
   "source": [
    "array1 = np.arange(101)\n",
    "array1"
   ]
  },
  {
   "cell_type": "code",
   "execution_count": 18,
   "id": "899a6c7f",
   "metadata": {},
   "outputs": [
    {
     "data": {
      "text/plain": [
       "[0,\n",
       " 1,\n",
       " 2,\n",
       " 3,\n",
       " 4,\n",
       " 5,\n",
       " 6,\n",
       " 7,\n",
       " 8,\n",
       " 9,\n",
       " 10,\n",
       " 11,\n",
       " 12,\n",
       " 13,\n",
       " 14,\n",
       " 15,\n",
       " 16,\n",
       " 17,\n",
       " 18,\n",
       " 19,\n",
       " 20,\n",
       " 21,\n",
       " 22,\n",
       " 23,\n",
       " 24,\n",
       " 25,\n",
       " 26,\n",
       " 27,\n",
       " 28,\n",
       " 29,\n",
       " 30,\n",
       " 31,\n",
       " 32,\n",
       " 33,\n",
       " 34,\n",
       " 35,\n",
       " 36,\n",
       " 37,\n",
       " 38,\n",
       " 39,\n",
       " 40,\n",
       " 41,\n",
       " 42,\n",
       " 43,\n",
       " 44,\n",
       " 45,\n",
       " 46,\n",
       " 47,\n",
       " 48,\n",
       " 49,\n",
       " 50,\n",
       " 51,\n",
       " 52,\n",
       " 53,\n",
       " 54,\n",
       " 55,\n",
       " 56,\n",
       " 57,\n",
       " 58,\n",
       " 59,\n",
       " 60,\n",
       " 61,\n",
       " 62,\n",
       " 63,\n",
       " 64,\n",
       " 65,\n",
       " 66,\n",
       " 67,\n",
       " 68,\n",
       " 69,\n",
       " 70,\n",
       " 71,\n",
       " 72,\n",
       " 73,\n",
       " 74,\n",
       " 75,\n",
       " 76,\n",
       " 77,\n",
       " 78,\n",
       " 79,\n",
       " 80,\n",
       " 81,\n",
       " 82,\n",
       " 83,\n",
       " 84,\n",
       " 85,\n",
       " 86,\n",
       " 87,\n",
       " 88,\n",
       " 89,\n",
       " 90,\n",
       " 91,\n",
       " 92,\n",
       " 93,\n",
       " 94,\n",
       " 95,\n",
       " 96,\n",
       " 97,\n",
       " 98,\n",
       " 99]"
      ]
     },
     "execution_count": 18,
     "metadata": {},
     "output_type": "execute_result"
    }
   ],
   "source": [
    "array2 = list(range(100))\n",
    "array2"
   ]
  },
  {
   "cell_type": "code",
   "execution_count": 20,
   "id": "2e232fda",
   "metadata": {},
   "outputs": [],
   "source": [
    "# np.set_printoptio(threshold=10) >> i dont know mr.Gunawan write a code. But think this code just to show of the brief print like [ 0 1 2 ... 97 98 99]"
   ]
  },
  {
   "cell_type": "markdown",
   "id": "81b5a97c",
   "metadata": {},
   "source": [
    "Create An Ndarrays"
   ]
  },
  {
   "cell_type": "code",
   "execution_count": 22,
   "id": "5e4a5972",
   "metadata": {},
   "outputs": [
    {
     "name": "stdout",
     "output_type": "stream",
     "text": [
      "<class 'list'>\n"
     ]
    }
   ],
   "source": [
    "import numpy as np\n",
    "\n",
    "my_list = list(range(5))\n",
    "my_list\n",
    "print(type(my_list))"
   ]
  },
  {
   "cell_type": "code",
   "execution_count": null,
   "id": "c1a91d12",
   "metadata": {},
   "outputs": [],
   "source": [
    "# change list to array\n",
    "array3 = np.array(my_list)\n",
    "print(type(array3))\n",
    "array3"
   ]
  },
  {
   "cell_type": "code",
   "execution_count": 25,
   "id": "d36dbf82",
   "metadata": {},
   "outputs": [
    {
     "name": "stdout",
     "output_type": "stream",
     "text": [
      "[0 1 2 3]\n",
      "[1 2 3 4 5 6 7 8 9]\n",
      "[2 4 6 8]\n"
     ]
    }
   ],
   "source": [
    "print(np.arange(4))\n",
    "print(np.arange(1,10))\n",
    "print(np.arange(2,10,2)) # 2 = START ; 10 = LAST ; 2 RANGE"
   ]
  },
  {
   "cell_type": "markdown",
   "id": "6e58065d",
   "metadata": {},
   "source": [
    "Add, Remove, and Sort\n",
    "> np.append()\n",
    "> np.delete()\n",
    "> np.sort()"
   ]
  },
  {
   "cell_type": "code",
   "execution_count": 32,
   "id": "f658dc03",
   "metadata": {},
   "outputs": [
    {
     "data": {
      "text/plain": [
       "array([ 2,  3,  4, 16])"
      ]
     },
     "execution_count": 32,
     "metadata": {},
     "output_type": "execute_result"
    }
   ],
   "source": [
    "# Add Array\n",
    "ex_array = np.array([1,2,4,3])\n",
    "ex_array = np.append(ex_array,[16])\n",
    "ex_array\n",
    "# Delete Array\n",
    "ex_array = np.delete(ex_array,[0])\n",
    "ex_array\n",
    "# Sort Array\n",
    "ex_array = np.sort(ex_array)\n",
    "ex_array"
   ]
  },
  {
   "cell_type": "code",
   "execution_count": 43,
   "id": "a69f87d2",
   "metadata": {},
   "outputs": [
    {
     "name": "stdout",
     "output_type": "stream",
     "text": [
      "[[0, 1], [2, 3]]\n",
      "2\n",
      "(2, 2)\n",
      "4\n"
     ]
    }
   ],
   "source": [
    "import numpy as np \n",
    "dimension2 = [[0,1],[2,3]]\n",
    "print(dimension2)\n",
    "ar_dimension2 = np.array(dimension2)\n",
    "print(ar_dimension2.ndim) # dimension\n",
    "print(ar_dimension2.shape) # shape\n",
    "print(ar_dimension2.size) # Total Element"
   ]
  },
  {
   "cell_type": "code",
   "execution_count": 1,
   "id": "8989a035",
   "metadata": {},
   "outputs": [
    {
     "data": {
      "text/plain": [
       "array([[[ 1,  2,  3,  4],\n",
       "        [ 3,  1,  2,  2]],\n",
       "\n",
       "       [[ 2,  1,  2,  2],\n",
       "        [ 2, 12,  1,  2]],\n",
       "\n",
       "       [[ 1,  3,  1,  2],\n",
       "        [ 2,  1,  3,  2]]])"
      ]
     },
     "execution_count": 1,
     "metadata": {},
     "output_type": "execute_result"
    }
   ],
   "source": [
    "import numpy as np \n",
    "dimension3 = np.array([[[1,2,3,4],\n",
    "                        [3,1,2,2]],\n",
    "                       [[2,1,2,2],\n",
    "                        [2,12,1,2]],    \n",
    "                       [[1,3,1,2],\n",
    "                        [2,1,3,2]]])\n",
    "dimension3\n",
    "## 29.00"
   ]
  },
  {
   "cell_type": "code",
   "execution_count": 8,
   "id": "7c92513a",
   "metadata": {},
   "outputs": [
    {
     "data": {
      "text/plain": [
       "array([[[ 0,  0,  0,  0],\n",
       "        [ 0,  0,  0,  0]],\n",
       "\n",
       "       [[ 2,  1,  2,  2],\n",
       "        [ 2, 12,  1,  2]],\n",
       "\n",
       "       [[ 1,  3,  1,  2],\n",
       "        [ 2,  1,  3,  2]]])"
      ]
     },
     "execution_count": 8,
     "metadata": {},
     "output_type": "execute_result"
    }
   ],
   "source": [
    "dimension3[0,1]=0\n",
    "dimension3"
   ]
  },
  {
   "cell_type": "markdown",
   "id": "14add5a5",
   "metadata": {},
   "source": [
    "Sorting Array "
   ]
  },
  {
   "cell_type": "code",
   "execution_count": 38,
   "id": "895c1228",
   "metadata": {},
   "outputs": [
    {
     "data": {
      "text/plain": [
       "array([[ 0, 10,  2,  3],\n",
       "       [ 2,  3,  2,  2]])"
      ]
     },
     "execution_count": 38,
     "metadata": {},
     "output_type": "execute_result"
    }
   ],
   "source": [
    "dta = np.array([[0,10,2,3],\n",
    "              [2,3,2,2]])\n",
    "dta"
   ]
  },
  {
   "cell_type": "code",
   "execution_count": 40,
   "id": "ad4973ce",
   "metadata": {},
   "outputs": [
    {
     "name": "stdout",
     "output_type": "stream",
     "text": [
      "[[ 0  2  3 10]\n",
      " [ 2  2  2  3]]\n",
      "--------------------\n",
      "[[ 0  2  2  3]\n",
      " [ 2  2  3 10]]\n"
     ]
    }
   ],
   "source": [
    "print(dta)\n",
    "print(\"-\"*20)\n",
    "dta.sort(axis = 0)\n",
    "print(dta)\n",
    "# with use axis = 0 we can got sort top to bottom\n",
    "# with use axis = 1 we can got sort bottom to top"
   ]
  },
  {
   "cell_type": "code",
   "execution_count": 32,
   "id": "fb218af4",
   "metadata": {},
   "outputs": [
    {
     "name": "stdout",
     "output_type": "stream",
     "text": [
      "[[ 0  2  2  3]\n",
      " [ 2  2  3 10]]\n",
      "--------------------\n",
      "[[ 0  2  2  3]\n",
      " [ 2  2  3 10]]\n"
     ]
    }
   ],
   "source": [
    "print(dta)\n",
    "print(\"-\"*20)\n",
    "dta.sort(axis = 1)\n",
    "print(dta)\n",
    "# with use axis = 1 we can got sort at coloum"
   ]
  },
  {
   "cell_type": "markdown",
   "id": "8744ca28",
   "metadata": {},
   "source": [
    " Structure Array "
   ]
  },
  {
   "cell_type": "code",
   "execution_count": 56,
   "id": "1ebf44cc",
   "metadata": {},
   "outputs": [
    {
     "data": {
      "text/plain": [
       "[('name', 'S10'), ('work', 'S10'), ('Age', int), ('status', 'S10')]"
      ]
     },
     "execution_count": 56,
     "metadata": {},
     "output_type": "execute_result"
    }
   ],
   "source": [
    "dtype = [('name','S10'),\n",
    "           ('work','S10'),\n",
    "           ('Age',int),\n",
    "           ('status',\"S10\")]\n",
    "dtype"
   ]
  },
  {
   "cell_type": "code",
   "execution_count": 53,
   "id": "fbc22d5a",
   "metadata": {},
   "outputs": [
    {
     "data": {
      "text/plain": [
       "[('Andreas Dimas C', 'Pertamina', 23, 'Single'),\n",
       " ('Vincensius Gede C', 'Doktor', 25, 'Single')]"
      ]
     },
     "execution_count": 53,
     "metadata": {},
     "output_type": "execute_result"
    }
   ],
   "source": [
    "data_peop = [('Andreas Dimas C','Pertamina',23,'Single'),\n",
    "            ('Vincensius Gede C','Doktor',25,'Single')\n",
    "            ]\n",
    "data_peop"
   ]
  },
  {
   "cell_type": "code",
   "execution_count": 57,
   "id": "d019f982",
   "metadata": {},
   "outputs": [
    {
     "name": "stdout",
     "output_type": "stream",
     "text": [
      "[(b'Andreas Di', b'Pertamina', 23, b'Single')\n",
      " (b'Vincensius', b'Doktor', 25, b'Single')]\n"
     ]
    }
   ],
   "source": [
    "data_our = np.array(data_peop, dtype=dtype)\n",
    "print(data_our)"
   ]
  },
  {
   "cell_type": "code",
   "execution_count": 58,
   "id": "615114fd",
   "metadata": {},
   "outputs": [
    {
     "data": {
      "text/plain": [
       "array([(b'Andreas Di', b'Pertamina', 23, b'Single'),\n",
       "       (b'Vincensius', b'Doktor', 25, b'Single')],\n",
       "      dtype=[('name', 'S10'), ('work', 'S10'), ('Age', '<i4'), ('status', 'S10')])"
      ]
     },
     "execution_count": 58,
     "metadata": {},
     "output_type": "execute_result"
    }
   ],
   "source": [
    "datasort = np.sort(data_our,order='name')\n",
    "datasort"
   ]
  },
  {
   "cell_type": "code",
   "execution_count": 61,
   "id": "1596a4d8",
   "metadata": {},
   "outputs": [
    {
     "data": {
      "text/plain": [
       "array([(b'Andreas Di', b'Pertamina', 23, b'Single'),\n",
       "       (b'Vincensius', b'Doktor', 25, b'Single')],\n",
       "      dtype=[('name', 'S10'), ('work', 'S10'), ('Age', '<i4'), ('status', 'S10')])"
      ]
     },
     "execution_count": 61,
     "metadata": {},
     "output_type": "execute_result"
    }
   ],
   "source": [
    "np.sort(data_our, order=['Age'])"
   ]
  },
  {
   "cell_type": "code",
   "execution_count": 63,
   "id": "1b50592f",
   "metadata": {},
   "outputs": [
    {
     "data": {
      "text/plain": [
       "array([0., 0., 0., 0., 0., 0., 0., 0., 0., 0.])"
      ]
     },
     "execution_count": 63,
     "metadata": {},
     "output_type": "execute_result"
    }
   ],
   "source": [
    "npzero = np.zeros(10)\n",
    "npzero"
   ]
  },
  {
   "cell_type": "code",
   "execution_count": 66,
   "id": "0180c9cc",
   "metadata": {},
   "outputs": [
    {
     "data": {
      "text/plain": [
       "array([1., 1., 1., 1., 1., 1., 1., 1., 1., 1., 1., 1., 1., 1., 1., 1., 1.,\n",
       "       1., 1., 1.])"
      ]
     },
     "execution_count": 66,
     "metadata": {},
     "output_type": "execute_result"
    }
   ],
   "source": [
    "npones = np.ones(20)\n",
    "npones"
   ]
  },
  {
   "cell_type": "code",
   "execution_count": 68,
   "id": "5e4149b6",
   "metadata": {
    "scrolled": true
   },
   "outputs": [
    {
     "data": {
      "text/plain": [
       "array([-4.01897791e-050,  1.94766528e+198])"
      ]
     },
     "execution_count": 68,
     "metadata": {},
     "output_type": "execute_result"
    }
   ],
   "source": [
    "# empty array \n",
    "# the function of this code to blbbaa\n",
    "# ?\n",
    "np.empty(2)"
   ]
  },
  {
   "cell_type": "code",
   "execution_count": 77,
   "id": "34d77421",
   "metadata": {},
   "outputs": [],
   "source": [
    "dzeros = np.zeros((3,2,4))\n",
    "# 3 dimension ; 2 axis ; 4 coloum"
   ]
  },
  {
   "cell_type": "code",
   "execution_count": 80,
   "id": "18726275",
   "metadata": {},
   "outputs": [
    {
     "name": "stdout",
     "output_type": "stream",
     "text": [
      "(3, 2, 4) 3\n"
     ]
    }
   ],
   "source": [
    "a =dzeros.shape\n",
    "b =dzeros.ndim\n",
    "print(a ,b)"
   ]
  },
  {
   "cell_type": "markdown",
   "id": "ecefb014",
   "metadata": {},
   "source": [
    "## ReShape"
   ]
  },
  {
   "cell_type": "markdown",
   "id": "86942511",
   "metadata": {},
   "source": [
    "Make a new shape or convert shape to shape\n",
    "numpy.reshape(a, (newshape,order))"
   ]
  },
  {
   "cell_type": "code",
   "execution_count": 9,
   "id": "bc089807",
   "metadata": {},
   "outputs": [
    {
     "name": "stdout",
     "output_type": "stream",
     "text": [
      "[0 1 2 3 4 5]\n",
      "--------\n",
      "[[0 1 2]\n",
      " [3 4 5]]\n",
      "--------\n",
      "[[0 1]\n",
      " [2 3]\n",
      " [4 5]]\n"
     ]
    }
   ],
   "source": [
    "import numpy as np\n",
    "a = np.arange(6)\n",
    "print(a)\n",
    "print('-'*8)\n",
    "b = a.reshape(2,3)\n",
    "print(b)\n",
    "print('-'*8)\n",
    "c = a.reshape(3,2)\n",
    "print(c)"
   ]
  },
  {
   "cell_type": "code",
   "execution_count": 10,
   "id": "078a5ee9",
   "metadata": {},
   "outputs": [
    {
     "data": {
      "text/plain": [
       "array([[0, 1, 2],\n",
       "       [3, 4, 5]])"
      ]
     },
     "execution_count": 10,
     "metadata": {},
     "output_type": "execute_result"
    }
   ],
   "source": [
    "a = np.arange(6).reshape(2,3)\n",
    "a"
   ]
  },
  {
   "cell_type": "markdown",
   "id": "1151a0db",
   "metadata": {},
   "source": [
    "## Convert 1D to 2D"
   ]
  },
  {
   "cell_type": "markdown",
   "id": "8c3d2297",
   "metadata": {},
   "source": [
    "np.newaxis\n",
    "np.expand_dims\n"
   ]
  },
  {
   "cell_type": "code",
   "execution_count": 15,
   "id": "4725d11e",
   "metadata": {},
   "outputs": [
    {
     "name": "stdout",
     "output_type": "stream",
     "text": [
      "[1 2 3 4 5 6]\n"
     ]
    },
    {
     "data": {
      "text/plain": [
       "1"
      ]
     },
     "execution_count": 15,
     "metadata": {},
     "output_type": "execute_result"
    }
   ],
   "source": [
    "variabel = np.array([1,2,3,4,5,6])\n",
    "variabel.shape\n",
    "print(variabel)\n",
    "variabel.ndim"
   ]
  },
  {
   "cell_type": "code",
   "execution_count": 13,
   "id": "4503a036",
   "metadata": {},
   "outputs": [
    {
     "name": "stdout",
     "output_type": "stream",
     "text": [
      "(1, 6)\n",
      "[[1 2 3 4 5 6]]\n"
     ]
    },
    {
     "data": {
      "text/plain": [
       "2"
      ]
     },
     "execution_count": 13,
     "metadata": {},
     "output_type": "execute_result"
    }
   ],
   "source": [
    "var2 = variabel[np.newaxis]\n",
    "print(var2.shape)\n",
    "print(var2)\n",
    "var2.ndim"
   ]
  },
  {
   "cell_type": "code",
   "execution_count": 19,
   "id": "6c691cb5",
   "metadata": {},
   "outputs": [
    {
     "name": "stdout",
     "output_type": "stream",
     "text": [
      "[[[1 2 3 4 5 6]]]\n"
     ]
    },
    {
     "data": {
      "text/plain": [
       "3"
      ]
     },
     "execution_count": 19,
     "metadata": {},
     "output_type": "execute_result"
    }
   ],
   "source": [
    "var3 = var2[np.newaxis]\n",
    "print(var3)\n",
    "var3.ndim"
   ]
  },
  {
   "cell_type": "code",
   "execution_count": 21,
   "id": "3b39904c",
   "metadata": {},
   "outputs": [
    {
     "name": "stdout",
     "output_type": "stream",
     "text": [
      "(1, 6)\n",
      "[[1 2 3 4 5 6]]\n"
     ]
    }
   ],
   "source": [
    "# No Matter \n",
    "row_vector = variabel[np.newaxis, :]\n",
    "print(row_vector.shape)\n",
    "print(row_vector)"
   ]
  },
  {
   "cell_type": "markdown",
   "id": "e6c2724c",
   "metadata": {},
   "source": [
    "## Indexing and Slicing"
   ]
  },
  {
   "cell_type": "code",
   "execution_count": 22,
   "id": "a638ad80",
   "metadata": {},
   "outputs": [
    {
     "name": "stdout",
     "output_type": "stream",
     "text": [
      "[1 2 3]\n",
      "1 2\n"
     ]
    }
   ],
   "source": [
    "data = np.array([1,2,3])\n",
    "print(data)\n",
    "# basic \n",
    "print(data[0],data[1])"
   ]
  },
  {
   "cell_type": "code",
   "execution_count": 24,
   "id": "4ae73d8a",
   "metadata": {},
   "outputs": [
    {
     "name": "stdout",
     "output_type": "stream",
     "text": [
      "[1 2]\n"
     ]
    }
   ],
   "source": [
    " print(data[0:2])"
   ]
  },
  {
   "cell_type": "code",
   "execution_count": 25,
   "id": "aed6f000",
   "metadata": {},
   "outputs": [
    {
     "name": "stdout",
     "output_type": "stream",
     "text": [
      "[2 3]\n"
     ]
    }
   ],
   "source": [
    "print(data[1:])"
   ]
  },
  {
   "cell_type": "code",
   "execution_count": 29,
   "id": "97996f01",
   "metadata": {},
   "outputs": [
    {
     "name": "stdout",
     "output_type": "stream",
     "text": [
      "[2 3]\n"
     ]
    }
   ],
   "source": [
    "print(data[-2:]) # -2:-1 ; -1nya optional"
   ]
  },
  {
   "cell_type": "code",
   "execution_count": 42,
   "id": "fe95658d",
   "metadata": {},
   "outputs": [
    {
     "name": "stdout",
     "output_type": "stream",
     "text": [
      "[[[  2   3   4   5   6   7]\n",
      "  [  3   3   3   3   3   3]\n",
      "  [  4 111   1  14   2   3]]]\n"
     ]
    }
   ],
   "source": [
    "import numpy as np\n",
    "a = np.array([[[2,3,4,5,6,7],\n",
    "            [3,3,3,3,3,3],\n",
    "            [4,111,1,14,2,3]]])\n",
    "print(a)"
   ]
  },
  {
   "cell_type": "code",
   "execution_count": 49,
   "id": "109e6cc0",
   "metadata": {},
   "outputs": [
    {
     "name": "stdout",
     "output_type": "stream",
     "text": [
      "[2 3 4 5 6 7 3 3 3 3 3 3 4 1 2 3]\n",
      "[2 3 4 5 6 7 3 3 3 3 3 3 4 1 2 3]\n",
      "[ 2  4  6  4 14  2]\n"
     ]
    }
   ],
   "source": [
    "print(a[a<10])\n",
    "asu = a < 10\n",
    "print(a[asu])\n",
    "print(a[a%2==0])"
   ]
  },
  {
   "cell_type": "code",
   "execution_count": 51,
   "id": "69980688",
   "metadata": {},
   "outputs": [
    {
     "name": "stdout",
     "output_type": "stream",
     "text": [
      "[3 4 5 6 7 3 3 3 3 3 3 4 3]\n"
     ]
    }
   ],
   "source": [
    "c = a[(a>2) & (a<11)]\n",
    "print(c)"
   ]
  },
  {
   "cell_type": "markdown",
   "id": "e4c84845",
   "metadata": {},
   "source": [
    "## Creating Array from Existing Data"
   ]
  },
  {
   "cell_type": "code",
   "execution_count": 52,
   "id": "7c440d38",
   "metadata": {},
   "outputs": [
    {
     "data": {
      "text/plain": [
       "array([4, 5, 6, 7, 8])"
      ]
     },
     "execution_count": 52,
     "metadata": {},
     "output_type": "execute_result"
    }
   ],
   "source": [
    "arr = np.array([1,2,3,4,5,6,7,8,9,10])\n",
    "arr1 = arr[3:8]\n",
    "arr1"
   ]
  },
  {
   "cell_type": "code",
   "execution_count": 62,
   "id": "53c06707",
   "metadata": {},
   "outputs": [
    {
     "data": {
      "text/plain": [
       "array([[1, 1],\n",
       "       [2, 2],\n",
       "       [3, 3],\n",
       "       [4, 4],\n",
       "       [5, 5],\n",
       "       [6, 6]])"
      ]
     },
     "execution_count": 62,
     "metadata": {},
     "output_type": "execute_result"
    }
   ],
   "source": [
    "arr1 = np.array([[1,1],\n",
    "               [2,2]])\n",
    "arr2 = np.array([[3,3],\n",
    "               [4,4]])\n",
    "arr3 = np.array([[5,5],\n",
    "               [6,6]])\n",
    "np.vstack((arr1,arr2,arr3))"
   ]
  },
  {
   "cell_type": "code",
   "execution_count": 66,
   "id": "f0a4f4f3",
   "metadata": {},
   "outputs": [
    {
     "data": {
      "text/plain": [
       "array([[1, 5, 1],\n",
       "       [2, 5, 2],\n",
       "       [3, 4, 3]])"
      ]
     },
     "execution_count": 66,
     "metadata": {},
     "output_type": "execute_result"
    }
   ],
   "source": [
    "a = np.array(([1],[2],[3]))\n",
    "b = np.array(([5],[5],[4]))\n",
    "c = np.array(([1],[2],[3]))\n",
    "np.hstack((a,b,c))"
   ]
  },
  {
   "cell_type": "code",
   "execution_count": 79,
   "id": "d2655a66",
   "metadata": {},
   "outputs": [
    {
     "name": "stdout",
     "output_type": "stream",
     "text": [
      "[[ 1  2  2]\n",
      " [10  3 11]]\n"
     ]
    },
    {
     "data": {
      "text/plain": [
       "[array([[ 1],\n",
       "        [10]]),\n",
       " array([[2],\n",
       "        [3]]),\n",
       " array([[ 2],\n",
       "        [11]])]"
      ]
     },
     "execution_count": 79,
     "metadata": {},
     "output_type": "execute_result"
    }
   ],
   "source": [
    "arrsplit = np.array(([1,2,2],\n",
    "                    [10,3,11]))\n",
    "print(arrsplit)\n",
    "np.hsplit(arrsplit,3)"
   ]
  },
  {
   "cell_type": "code",
   "execution_count": 81,
   "id": "c9c1ff11",
   "metadata": {},
   "outputs": [
    {
     "data": {
      "text/plain": [
       "[array([[1, 2, 2]]), array([[10,  3, 11]])]"
      ]
     },
     "execution_count": 81,
     "metadata": {},
     "output_type": "execute_result"
    }
   ],
   "source": [
    "np.vsplit(arrsplit,2)"
   ]
  },
  {
   "cell_type": "code",
   "execution_count": 87,
   "id": "8b4fba07",
   "metadata": {},
   "outputs": [
    {
     "data": {
      "text/plain": [
       "array([[1, 2, 3, 4],\n",
       "       [5, 2, 1, 1],\n",
       "       [1, 1, 1, 1]])"
      ]
     },
     "execution_count": 87,
     "metadata": {},
     "output_type": "execute_result"
    }
   ],
   "source": [
    "a = np.array(([1,2,3,4],[5,2,1,1],[1,1,1,1]))\n",
    "b = a.view()\n",
    "b\n",
    "c = a.copy()\n",
    "c"
   ]
  },
  {
   "cell_type": "markdown",
   "id": "06ad89e2",
   "metadata": {},
   "source": [
    "# Copying"
   ]
  },
  {
   "cell_type": "code",
   "execution_count": null,
   "id": "f443bb3f",
   "metadata": {},
   "outputs": [],
   "source": [
    "# \n",
    "x = [0,1]\n",
    "y = [2,3]\n",
    "z = x\n",
    "print(x)\n",
    "z[0]=5 \n",
    "print(x) # So if you copy like x = z , if u change z so that x change too\n",
    "# so how to change z but not change x \n",
    "# we can do like that\n",
    "z = y.copy()\n",
    "z[0]=1\n",
    "print(z)\n",
    "print(y) # proven !\n"
   ]
  },
  {
   "cell_type": "markdown",
   "id": "d64d1050",
   "metadata": {},
   "source": [
    "# Basic Array Operation"
   ]
  },
  {
   "cell_type": "code",
   "execution_count": 90,
   "id": "84b12c3b",
   "metadata": {},
   "outputs": [
    {
     "data": {
      "text/plain": [
       "10"
      ]
     },
     "execution_count": 90,
     "metadata": {},
     "output_type": "execute_result"
    }
   ],
   "source": [
    "a = np.array([1,2,3,4])\n",
    "a.sum()"
   ]
  },
  {
   "cell_type": "code",
   "execution_count": 93,
   "id": "5cfc850e",
   "metadata": {},
   "outputs": [
    {
     "data": {
      "text/plain": [
       "array([[1, 3],\n",
       "       [2, 2]])"
      ]
     },
     "execution_count": 93,
     "metadata": {},
     "output_type": "execute_result"
    }
   ],
   "source": [
    "b = np.array([[1, 3], [2, 2]])\n",
    "b"
   ]
  },
  {
   "cell_type": "code",
   "execution_count": 94,
   "id": "9e4ddc1d",
   "metadata": {},
   "outputs": [
    {
     "data": {
      "text/plain": [
       "array([3, 5])"
      ]
     },
     "execution_count": 94,
     "metadata": {},
     "output_type": "execute_result"
    }
   ],
   "source": [
    "b.sum(axis = 0) # add coloum"
   ]
  },
  {
   "cell_type": "code",
   "execution_count": 96,
   "id": "7c86ba9f",
   "metadata": {},
   "outputs": [
    {
     "data": {
      "text/plain": [
       "array([4, 4])"
      ]
     },
     "execution_count": 96,
     "metadata": {},
     "output_type": "execute_result"
    }
   ],
   "source": [
    "b.sum(axis = 1) "
   ]
  },
  {
   "cell_type": "markdown",
   "id": "2c7c75c8",
   "metadata": {},
   "source": [
    "# Broadcasting "
   ]
  },
  {
   "cell_type": "code",
   "execution_count": 98,
   "id": "7ddd4327",
   "metadata": {},
   "outputs": [
    {
     "name": "stdout",
     "output_type": "stream",
     "text": [
      "[[1 3]\n",
      " [2 2]]\n",
      "[[1.2 3.6]\n",
      " [2.4 2.4]]\n"
     ]
    }
   ],
   "source": [
    "print(b)\n",
    "print(b*1.2)"
   ]
  },
  {
   "cell_type": "markdown",
   "id": "01e3b439",
   "metadata": {},
   "source": [
    "# Function"
   ]
  },
  {
   "cell_type": "markdown",
   "id": "4b6065e7",
   "metadata": {},
   "source": [
    "Ones"
   ]
  },
  {
   "cell_type": "code",
   "execution_count": 101,
   "id": "1c09cafe",
   "metadata": {},
   "outputs": [
    {
     "data": {
      "text/plain": [
       "array([[1., 1.]])"
      ]
     },
     "execution_count": 101,
     "metadata": {},
     "output_type": "execute_result"
    }
   ],
   "source": [
    "b = np.ones((1,2)) # 1 axis 2 coloum\n",
    "b\n",
    "#print array([[1., 1.]])"
   ]
  },
  {
   "cell_type": "markdown",
   "id": "7582d3a7",
   "metadata": {},
   "source": [
    "Full"
   ]
  },
  {
   "cell_type": "code",
   "execution_count": 102,
   "id": "69edd1db",
   "metadata": {},
   "outputs": [
    {
     "data": {
      "text/plain": [
       "array([[7, 7],\n",
       "       [7, 7]])"
      ]
     },
     "execution_count": 102,
     "metadata": {},
     "output_type": "execute_result"
    }
   ],
   "source": [
    "c = np.full((2,2),7) # 2 axis 2 coloum 7 its value\n",
    "c"
   ]
  },
  {
   "cell_type": "markdown",
   "id": "0bf6d4cf",
   "metadata": {},
   "source": [
    "eye"
   ]
  },
  {
   "cell_type": "code",
   "execution_count": 104,
   "id": "b1add368",
   "metadata": {},
   "outputs": [
    {
     "data": {
      "text/plain": [
       "array([[1., 0., 0., 0., 0., 0., 0., 0., 0., 0.],\n",
       "       [0., 1., 0., 0., 0., 0., 0., 0., 0., 0.],\n",
       "       [0., 0., 1., 0., 0., 0., 0., 0., 0., 0.],\n",
       "       [0., 0., 0., 1., 0., 0., 0., 0., 0., 0.],\n",
       "       [0., 0., 0., 0., 1., 0., 0., 0., 0., 0.],\n",
       "       [0., 0., 0., 0., 0., 1., 0., 0., 0., 0.],\n",
       "       [0., 0., 0., 0., 0., 0., 1., 0., 0., 0.],\n",
       "       [0., 0., 0., 0., 0., 0., 0., 1., 0., 0.],\n",
       "       [0., 0., 0., 0., 0., 0., 0., 0., 1., 0.],\n",
       "       [0., 0., 0., 0., 0., 0., 0., 0., 0., 1.]])"
      ]
     },
     "execution_count": 104,
     "metadata": {},
     "output_type": "execute_result"
    }
   ],
   "source": [
    "d = np.eye(10)\n",
    "d"
   ]
  },
  {
   "cell_type": "markdown",
   "id": "d44de053",
   "metadata": {},
   "source": [
    "Random"
   ]
  },
  {
   "cell_type": "code",
   "execution_count": 118,
   "id": "7141440a",
   "metadata": {},
   "outputs": [
    {
     "name": "stdout",
     "output_type": "stream",
     "text": [
      "None\n",
      "5\n"
     ]
    }
   ],
   "source": [
    "m = np.random.seed(0)\n",
    "print(m)\n",
    "print(np.random.randint(10)) # if there is np.random.seed(0) the value of randint cantt to change"
   ]
  },
  {
   "cell_type": "code",
   "execution_count": 116,
   "id": "f3ff0450",
   "metadata": {},
   "outputs": [
    {
     "name": "stdout",
     "output_type": "stream",
     "text": [
      "None\n"
     ]
    }
   ],
   "source": [
    "print(np.random.randint(10)) # if there is not seed that is can change to change "
   ]
  },
  {
   "cell_type": "code",
   "execution_count": 3,
   "id": "48b0e45d",
   "metadata": {},
   "outputs": [
    {
     "name": "stdout",
     "output_type": "stream",
     "text": [
      "[[40 15]\n",
      " [75 12]]\n"
     ]
    },
    {
     "data": {
      "text/plain": [
       "array([[78,  8],\n",
       "       [82, 67]])"
      ]
     },
     "execution_count": 3,
     "metadata": {},
     "output_type": "execute_result"
    }
   ],
   "source": [
    "import numpy as np \n",
    "np.random.seed(1)\n",
    "random_arr = np.random.randint(3, high=100,\n",
    "                              size=(2,2)) # randint(low,heigh,size)\n",
    "print(random_arr)\n",
    "# OR\n",
    "random_as = np.random.randint(3,100,(2,2))\n",
    "random_as"
   ]
  },
  {
   "cell_type": "code",
   "execution_count": 7,
   "id": "d15d1ecc",
   "metadata": {},
   "outputs": [
    {
     "name": "stdout",
     "output_type": "stream",
     "text": [
      "[[40 15]\n",
      " [75 12]]\n",
      "12 25.26361019331956 [15 12]\n"
     ]
    }
   ],
   "source": [
    "# 1:18:00\n",
    "a= random_arr.min()\n",
    "b= random_arr.std()\n",
    "c= random_arr.min(axis=1)\n",
    "print(random_arr)\n",
    "print(a,b,c)"
   ]
  },
  {
   "cell_type": "code",
   "execution_count": 9,
   "id": "8e9b845d",
   "metadata": {},
   "outputs": [
    {
     "name": "stdout",
     "output_type": "stream",
     "text": [
      "<built-in method argmin of numpy.ndarray object at 0x0000019C3DF85510>\n",
      "<built-in method argmax of numpy.ndarray object at 0x0000019C3DF85510>\n"
     ]
    }
   ],
   "source": [
    "print(random_arr.argmin)\n",
    "print(random_arr.argmax)"
   ]
  },
  {
   "cell_type": "markdown",
   "id": "0a57dae5",
   "metadata": {},
   "source": [
    "#  Save Array into file"
   ]
  },
  {
   "cell_type": "code",
   "execution_count": 16,
   "id": "b9e72da1",
   "metadata": {},
   "outputs": [
    {
     "name": "stdout",
     "output_type": "stream",
     "text": [
      "[[  1  12  12  12]\n",
      " [ 12 121  12   1]\n",
      " [ 12  12  12  12]]\n"
     ]
    }
   ],
   "source": [
    "A = np.array([[1,12,12,12],\n",
    "              [12,121,12,1],\n",
    "              [12,12,12,12]])\n",
    "print(A)"
   ]
  },
  {
   "cell_type": "code",
   "execution_count": 19,
   "id": "88f36e20",
   "metadata": {},
   "outputs": [],
   "source": [
    "np.save(\"myarr.npy\",A)\n"
   ]
  },
  {
   "cell_type": "code",
   "execution_count": 22,
   "id": "f990e1bd",
   "metadata": {},
   "outputs": [],
   "source": [
    "ase = np.load('myarr.npy')"
   ]
  },
  {
   "cell_type": "code",
   "execution_count": 23,
   "id": "ac11e416",
   "metadata": {},
   "outputs": [
    {
     "name": "stdout",
     "output_type": "stream",
     "text": [
      "[[  1  12  12  12]\n",
      " [ 12 121  12   1]\n",
      " [ 12  12  12  12]]\n"
     ]
    }
   ],
   "source": [
    "print(ase)"
   ]
  },
  {
   "cell_type": "markdown",
   "id": "3a3f5c62",
   "metadata": {},
   "source": [
    "# Case Study"
   ]
  },
  {
   "cell_type": "markdown",
   "id": "9f0c343b",
   "metadata": {},
   "source": [
    "10 Buah botol minum akan dibuat untuk menyimpan air dengan jari jari dan tinggi yang berbeda - beda. Besaran jari jari dan  botol adalah bilangan bulat kisaran 7 sampai dengan 20 cm\n",
    "\n",
    "Tentukan :\n",
    "1. Volume Air yang dapat disimpan di setiap botol\n",
    "2. Total volume air yang tersimpan dalam sebuah botol \n",
    "3. Botol mana yang volum air terkecil dan temukan volumnenya \n",
    "4. Botol mana yang menampung volume air terbesar dan temukan volume airnya.\n",
    "5. Rata rat volume yang dapat di tampung di tiap botol\n"
   ]
  },
  {
   "cell_type": "markdown",
   "id": "29d6ac7f",
   "metadata": {},
   "source": [
    "Solusi :\n",
    "1. Lakukan generate tinggi botol dan jari jari \n",
    "2. Punya batasan 7 sampai 20, kemudian sebanyak 10 dengan kata lain harus mengenarate sebanyak 20\n",
    "3. Membentuk botol sebanyak 10 buah ( tinggi dan jari jari)\n",
    "4. Setelah terbentuk botol mencari volume air masing botol volume air = (Pi x r^2 x t ) untuk numpy pi = np.pi\n",
    "5. Mencari total volume air dalam semua botol sum \n",
    "6. Mencari botol yang terkecil dan temukan volumenya\n",
    "7. mencari botol yang terbesar dan temukan volumenya\n",
    "8. Mencri rat rata dengan mean \n"
   ]
  },
  {
   "cell_type": "markdown",
   "id": "9654b772",
   "metadata": {},
   "source": [
    "# Dot Product"
   ]
  },
  {
   "cell_type": "code",
   "execution_count": 24,
   "id": "40e1bc26",
   "metadata": {},
   "outputs": [],
   "source": [
    "np.dot?"
   ]
  },
  {
   "cell_type": "code",
   "execution_count": 26,
   "id": "bec63e34",
   "metadata": {},
   "outputs": [
    {
     "data": {
      "text/plain": [
       "24"
      ]
     },
     "execution_count": 26,
     "metadata": {},
     "output_type": "execute_result"
    }
   ],
   "source": [
    "np.dot(3,8)"
   ]
  },
  {
   "cell_type": "markdown",
   "id": "8465cd03",
   "metadata": {},
   "source": [
    "# NP read csv"
   ]
  },
  {
   "cell_type": "code",
   "execution_count": 27,
   "id": "64e79481",
   "metadata": {},
   "outputs": [],
   "source": [
    "import csv\n",
    "data = []\n",
    "\n",
    "with open('')"
   ]
  },
  {
   "cell_type": "code",
   "execution_count": null,
   "id": "4156725a",
   "metadata": {},
   "outputs": [],
   "source": []
  }
 ],
 "metadata": {
  "kernelspec": {
   "display_name": "Python 3 (ipykernel)",
   "language": "python",
   "name": "python3"
  },
  "language_info": {
   "codemirror_mode": {
    "name": "ipython",
    "version": 3
   },
   "file_extension": ".py",
   "mimetype": "text/x-python",
   "name": "python",
   "nbconvert_exporter": "python",
   "pygments_lexer": "ipython3",
   "version": "3.9.12"
  }
 },
 "nbformat": 4,
 "nbformat_minor": 5
}
