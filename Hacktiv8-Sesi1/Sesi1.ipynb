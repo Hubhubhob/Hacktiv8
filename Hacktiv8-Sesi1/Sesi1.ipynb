{
 "cells": [
  {
   "cell_type": "markdown",
   "id": "f09e9cb8",
   "metadata": {},
   "source": [
    "# Catatan Sesi 1"
   ]
  },
  {
   "cell_type": "markdown",
   "id": "dba4615f",
   "metadata": {},
   "source": [
    "## ANDREAS DIMAS CHRISTANTO PYTN-KS08-017"
   ]
  },
  {
   "cell_type": "markdown",
   "id": "453a0a88",
   "metadata": {},
   "source": [
    "Introduction : Basic Syntax, Data Type, and Variable"
   ]
  },
  {
   "cell_type": "markdown",
   "id": "0a61a971",
   "metadata": {},
   "source": []
  },
  {
   "cell_type": "code",
   "execution_count": 4,
   "id": "5c631965",
   "metadata": {},
   "outputs": [
    {
     "name": "stdout",
     "output_type": "stream",
     "text": [
      " This is to print\n"
     ]
    }
   ],
   "source": [
    "# If our want to show our code\n",
    "print(\" This is to print\")"
   ]
  },
  {
   "cell_type": "markdown",
   "id": "6977f572",
   "metadata": {},
   "source": [
    "If our want to know type of code"
   ]
  },
  {
   "cell_type": "code",
   "execution_count": 5,
   "id": "78beebf1",
   "metadata": {},
   "outputs": [
    {
     "name": "stdout",
     "output_type": "stream",
     "text": [
      "<class 'int'>\n",
      "<class 'str'>\n",
      "<class 'float'>\n",
      "<class 'bool'>\n"
     ]
    }
   ],
   "source": [
    "# INTEGER\n",
    "print(type(10))\n",
    "# STRING\n",
    "print(type(\"This type string\"))\n",
    "# FLOATING\n",
    "print(type(10.9))\n",
    "# BOOLEAN\n",
    "print(type(True))\n"
   ]
  },
  {
   "cell_type": "markdown",
   "id": "2080f22f",
   "metadata": {},
   "source": [
    "Variabel Name"
   ]
  },
  {
   "cell_type": "code",
   "execution_count": 6,
   "id": "852c6dc7",
   "metadata": {},
   "outputs": [
    {
     "name": "stdout",
     "output_type": "stream",
     "text": [
      "Andreas Dimas Christanto 20 True\n"
     ]
    }
   ],
   "source": [
    "name = \"Andreas Dimas Christanto\"\n",
    "Age = 20\n",
    "Damn = True\n",
    "print(name, Age, Damn)"
   ]
  },
  {
   "cell_type": "markdown",
   "id": "458c6012",
   "metadata": {},
   "source": [
    "Operators and Expressions"
   ]
  },
  {
   "cell_type": "code",
   "execution_count": 7,
   "id": "9515696e",
   "metadata": {},
   "outputs": [
    {
     "name": "stdout",
     "output_type": "stream",
     "text": [
      "4\n",
      "-2\n",
      "3\n",
      "0.3333333333333333\n",
      "1\n",
      "1\n"
     ]
    }
   ],
   "source": [
    "a = 1\n",
    "b = 3\n",
    "\n",
    "print(a + b)\n",
    "print(a - b)\n",
    "print(a * b)\n",
    "print(a / b)\n",
    "print(a % b)\n",
    "print(a ** b)"
   ]
  },
  {
   "cell_type": "markdown",
   "id": "fe1d4e02",
   "metadata": {},
   "source": [
    "Comparison Operators"
   ]
  },
  {
   "cell_type": "code",
   "execution_count": 8,
   "id": "386dd0b1",
   "metadata": {},
   "outputs": [
    {
     "name": "stdout",
     "output_type": "stream",
     "text": [
      "False\n",
      "True\n",
      "True\n",
      "False\n",
      "True\n",
      "True\n",
      "True\n"
     ]
    }
   ],
   "source": [
    "a = 10\n",
    "b = 100\n",
    "\n",
    "print(a == b)\n",
    "print(a != b)\n",
    "print(a <= b)\n",
    "print(a >= b)\n",
    "\n",
    "a = 10\n",
    "b = 10\n",
    "\n",
    "print(a == b)\n",
    "print(a <= b)\n",
    "print(a >= b)"
   ]
  },
  {
   "cell_type": "markdown",
   "id": "5bb5a1f7",
   "metadata": {},
   "source": [
    "String Manipulation"
   ]
  },
  {
   "cell_type": "code",
   "execution_count": 9,
   "id": "8fd26f45",
   "metadata": {},
   "outputs": [
    {
     "name": "stdout",
     "output_type": "stream",
     "text": [
      "foobar\n",
      "foobarbaz\n",
      "Hacktiv8 PTP\n",
      "True\n",
      "False\n",
      "Kezario mohammad anaqi\n",
      "kezario mohammad anaqi\n",
      "kEZARIO mOHAMMAD aNAQI\n",
      "Kezario Mohammad Anaqi\n",
      "KEZARIO MOHAMMAD ANAQI\n"
     ]
    }
   ],
   "source": [
    "s = 'foo'\n",
    "t = 'bar'\n",
    "u = 'baz'\n",
    "\n",
    "print(s + t)\n",
    "print(s + t + u)\n",
    "print('Hacktiv8 ' + 'PTP')\n",
    "\n",
    "# If u want make a long line with simple teknick\n",
    "s = '-'\n",
    "s * 4\n",
    "\n",
    "s = 'foo'\n",
    "print(s in \"That food for us\")\n",
    "print(s in \"That good for us\")\n",
    "\n",
    "# If u want the word like word \n",
    "s = \"ANdReaS DimAs ChrIstantO\"\n",
    "print(s.capitalize())\n",
    "print(s.lower())\n",
    "print(s.swapcase())\n",
    "print(s.title())\n",
    "print(s.upper())\n",
    "\n"
   ]
  },
  {
   "cell_type": "markdown",
   "id": "4346728d",
   "metadata": {},
   "source": [
    "Python List"
   ]
  },
  {
   "cell_type": "code",
   "execution_count": 10,
   "id": "fbc9bf05",
   "metadata": {},
   "outputs": [
    {
     "name": "stdout",
     "output_type": "stream",
     "text": [
      "['foo', 'bar', 'baz', 'qux']\n",
      "[21.42, 'foobar', 3, 4, 'bark', False, 3.1415]\n",
      "foo\n",
      "corge\n",
      "corge\n",
      "foo\n",
      "['foo', 'bar', 'baz', 'qux', 'quux', 'corge']\n",
      "['foo', 'bar', 'baz', 'qux', 'quux', 'corge', 'grault', 'garply']\n",
      "['foo', 'bar', 'baz', 'qux', 'quux', 'corge', 'foo', 'bar', 'baz', 'qux', 'quux', 'corge']\n",
      "['foo', 'bar', 'baz', 'qux', 'quux', 'corge']\n",
      "['foo', 'bar', 10, 'qux', 'quux', 20]\n",
      "['foo', 'bar', 10, 'quux', 20]\n",
      "['bar', 'baz', 'qux']\n",
      "['foo', 1.1, 2.2, 3.3, 4.4, 5.5, 'quux', 'corge']\n"
     ]
    },
    {
     "data": {
      "text/plain": [
       "'foo'"
      ]
     },
     "execution_count": 10,
     "metadata": {},
     "output_type": "execute_result"
    }
   ],
   "source": [
    "a = ['foo', 'bar', 'baz', 'qux']\n",
    "print(a)\n",
    "\n",
    "a = ['foo', 'bar', 'baz', 'qux']\n",
    "b = ['baz', 'qux', 'bar', 'foo']\n",
    "a == b\n",
    "\n",
    "a = [21.42, 'foobar', 3, 4, 'bark', False, 3.1415]\n",
    "print(a)\n",
    "\n",
    "## Call List\n",
    "a = ['foo', 'bar', 'baz', 'qux', 'quux', 'corge']\n",
    "\n",
    "# Call with index (dari 0)\n",
    "print(a[0])\n",
    "print(a[5])\n",
    "\n",
    "# Call with index listnegatif\n",
    "print(a[-1])\n",
    "print(a[-6])\n",
    "\n",
    "# Call with index range \n",
    "a[2:5]\n",
    "\n",
    "# Usefull (+) and (*) from list\n",
    "print(a)\n",
    "print(a + ['grault', 'garply'])\n",
    "print(a * 2)\n",
    "\n",
    "# Modifying a Single List Value\n",
    "a = ['foo', 'bar', 'baz', 'qux', 'quux', 'corge']\n",
    "\n",
    "print(a)\n",
    "\n",
    "a[2] = 10\n",
    "a[-1] = 20\n",
    "\n",
    "print(a)\n",
    " # How to deleted a list\n",
    "del a[3]\n",
    "print(a)\n",
    "\n",
    "# Modifying Multiple List Values\n",
    "a = ['foo', 'bar', 'baz', 'qux', 'quux', 'corge']\n",
    "print(a[1:4])\n",
    "a[1:4] = [1.1, 2.2, 3.3, 4.4, 5.5]\n",
    "print(a)\n",
    "\n",
    "# Packing and Unpacking\n",
    "(s1, s2, s3, s4) = ('foo', 'bar', 'baz', 'qux')\n",
    "s1"
   ]
  },
  {
   "cell_type": "markdown",
   "id": "e1193986",
   "metadata": {},
   "source": [
    "Python Dictionary"
   ]
  },
  {
   "cell_type": "code",
   "execution_count": 11,
   "id": "b4bf6f35",
   "metadata": {},
   "outputs": [
    {
     "name": "stdout",
     "output_type": "stream",
     "text": [
      "Twins\n",
      "Rockies\n",
      "Andreas Dimas \n",
      "Christanto\n",
      "['Lily', 'Dawn', 'Rise']\n",
      "Dawn\n",
      "{'dog': 'Hash', 'cat': 'Brown'}\n",
      "Brown\n",
      "dict_items([('a', 10), ('b', 20), ('c', 30)])\n",
      "dict_keys(['a', 'b', 'c'])\n",
      "dict_values([10, 20, 30])\n"
     ]
    }
   ],
   "source": [
    "# Defining Dictionary\n",
    "MLB_team = {\n",
    "    'Colorado'  : 'Rockies',\n",
    "    'Boston'    : 'Red Sox',\n",
    "    'Minnesota' : 'Twins',\n",
    "    'Milwaukee' : 'Brewers',\n",
    "    'Seattle'   : 'Mariners'\n",
    "}\n",
    "\n",
    "MLB_team\n",
    "\n",
    "# Accesing Dicioaary Value\n",
    "print(MLB_team['Minnesota'])\n",
    "print(MLB_team['Colorado'])\n",
    "\n",
    "# Error\n",
    "# MLB_team['Toronto']\n",
    "\n",
    "# Add New Data to dictionary\n",
    "MLB_team['Kansas City'] = 'Royals'\n",
    "MLB_team\n",
    "\n",
    "# Chae data at dictionary\n",
    "MLB_team['Seattle'] = 'Seahawks'\n",
    "MLB_team\n",
    "\n",
    "# Building a Dictionary Incrementaaly\n",
    "person = {}\n",
    "type(person)\n",
    "\n",
    "person['fname']     = 'Andreas Dimas '\n",
    "person['lname']     = 'Christanto'\n",
    "person['age']       = '21'\n",
    "person['spouse']    = 'Youngeun'\n",
    "person['children']  = ['Lily', 'Dawn', 'Rise']\n",
    "person['pets']      = {'dog' : 'Hash', 'cat' : 'Brown'}\n",
    "\n",
    "person\n",
    "\n",
    "print(person['fname'])\n",
    "print(person['lname'])\n",
    "\n",
    "print(person['children'])\n",
    "print(person['children'][1])\n",
    "\n",
    "print(person['pets'])\n",
    "print(person['pets']['cat'])\n",
    "\n",
    "# Built-in Methods\n",
    "d = {'a': 10, 'b': 20, 'c':30}\n",
    "\n",
    "# Items\n",
    "print(d.items())\n",
    "\n",
    "#Keys\n",
    "print(d.keys())\n",
    "\n",
    "#Values\n",
    "print(d.values())\n",
    "\n",
    "\n",
    "\n"
   ]
  },
  {
   "cell_type": "markdown",
   "id": "635c3f22",
   "metadata": {},
   "source": [
    "Line Continuating"
   ]
  },
  {
   "cell_type": "code",
   "execution_count": 12,
   "id": "74bdc0ce",
   "metadata": {},
   "outputs": [
    {
     "data": {
      "text/plain": [
       "True"
      ]
     },
     "execution_count": 12,
     "metadata": {},
     "output_type": "execute_result"
    }
   ],
   "source": [
    "person1_age = 42\n",
    "person2_age = 16\n",
    "person3_age = 71\n",
    "\n",
    "someone_is_of_working_age = (person1_age >= 18 and person1_age <= 65) or (person2_age >= 18 and person2_age <= 65) or (person3_age >= 18 and person3_age <= 65)\n",
    "\n",
    "someone_is_of_working_age\n",
    "\n",
    "someone_is_of_working_age = (\n",
    "    (person1_age >= 18 and person1_age <= 65) \n",
    "    or (person2_age >= 18 and person2_age <= 65) \n",
    "    or (person3_age >= 18 and person3_age <= 65)\n",
    ")\n",
    "someone_is_of_working_age\n"
   ]
  }
 ],
 "metadata": {
  "kernelspec": {
   "display_name": "Python 3.10.6 64-bit (microsoft store)",
   "language": "python",
   "name": "python3"
  },
  "language_info": {
   "codemirror_mode": {
    "name": "ipython",
    "version": 3
   },
   "file_extension": ".py",
   "mimetype": "text/x-python",
   "name": "python",
   "nbconvert_exporter": "python",
   "pygments_lexer": "ipython3",
   "version": "3.10.6"
  },
  "vscode": {
   "interpreter": {
    "hash": "82cfb9355cd4a84fcb8b00d922438d2e2ce306af33a9c3a4fcd35f64e1697b15"
   }
  }
 },
 "nbformat": 4,
 "nbformat_minor": 5
}
