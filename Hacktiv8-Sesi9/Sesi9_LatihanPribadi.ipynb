{
 "cells": [
  {
   "cell_type": "markdown",
   "id": "5f970c26",
   "metadata": {},
   "source": [
    "<img src=\"https://hubhubhob.odoo.com/web/image/290-933cb17b/logo.png\" width=\"400\" align=\"center\">"
   ]
  },
  {
   "cell_type": "markdown",
   "id": "f1e4383e",
   "metadata": {},
   "source": [
    "<img src=\"https://hubhubhob.odoo.com/web/image/292-4343eddc/Hean.png\" width=\"400\" align=\"center\">"
   ]
  },
  {
   "cell_type": "markdown",
   "id": "f09e9cb8",
   "metadata": {},
   "source": [
    "# Catatan Sesi 9"
   ]
  },
  {
   "cell_type": "markdown",
   "id": "7a7ed150",
   "metadata": {},
   "source": [
    "Descriptive Statistics \n",
    "\n",
    "- DS ini melibatkan meringkas/summarizing dan mengatur data sehingga dapat dengan mudah dipahami. \n",
    "- tidak mengembangkan berdasarkan teori probabilitas\n",
    "- Membantu dalam ML karena dapat menyimpulkan \n",
    "\n",
    "+ Standar Deviation = nilai rendah dekat dengan kumpulan data , SD tingii titik sebar yang lebih luas \n",
    "\n",
    "# Langsung Praktek \n",
    "\n"
   ]
  },
  {
   "cell_type": "code",
   "execution_count": 2,
   "id": "78beebf1",
   "metadata": {},
   "outputs": [],
   "source": [
    "import math \n",
    "import statistics\n",
    "import numpy as np \n",
    "import scipy.stats\n",
    "import pandas as pd"
   ]
  },
  {
   "cell_type": "code",
   "execution_count": 3,
   "id": "333be40f",
   "metadata": {},
   "outputs": [
    {
     "name": "stdout",
     "output_type": "stream",
     "text": [
      "[8.0, 1, 2.5, 4, 28.0]\n",
      "[8.0, 1, 2.5, nan, 4, 28.0]\n"
     ]
    }
   ],
   "source": [
    "x = [8.0, 1,2.5,4, 28.0]\n",
    "x_with_nan = [8.0,1,2.5,math.nan,4,28.0]\n",
    "print(x)\n",
    "print(x_with_nan)"
   ]
  },
  {
   "cell_type": "code",
   "execution_count": 4,
   "id": "d36b0673",
   "metadata": {},
   "outputs": [
    {
     "name": "stdout",
     "output_type": "stream",
     "text": [
      "[ 8.   1.   2.5  4.  28. ]\n",
      "0     8.0\n",
      "1     1.0\n",
      "2     2.5\n",
      "3     4.0\n",
      "4    28.0\n",
      "dtype: float64\n",
      "[ 8.   1.   2.5  nan  4.  28. ]\n",
      "0     8.0\n",
      "1     1.0\n",
      "2     2.5\n",
      "3     NaN\n",
      "4     4.0\n",
      "5    28.0\n",
      "dtype: float64\n"
     ]
    }
   ],
   "source": [
    "y, y_with_nan = np.array(x),np.array(x_with_nan)\n",
    "z, z_with_nan = pd.Series(x),pd.Series(x_with_nan)\n",
    "\n",
    "print(y)\n",
    "print(z)\n",
    "print(y_with_nan)\n",
    "print(z_with_nan)\n"
   ]
  },
  {
   "cell_type": "markdown",
   "id": "4dbadc52",
   "metadata": {},
   "source": [
    "# Mean"
   ]
  },
  {
   "cell_type": "code",
   "execution_count": 5,
   "id": "42272208",
   "metadata": {},
   "outputs": [
    {
     "name": "stdout",
     "output_type": "stream",
     "text": [
      "43.5\n",
      "5\n"
     ]
    },
    {
     "data": {
      "text/plain": [
       "8.7"
      ]
     },
     "execution_count": 5,
     "metadata": {},
     "output_type": "execute_result"
    }
   ],
   "source": [
    "print(sum(x))\n",
    "print(len(x))\n",
    "mean_ = sum(x)/len(x)\n",
    "mean_"
   ]
  },
  {
   "cell_type": "code",
   "execution_count": 6,
   "id": "fa83674a",
   "metadata": {},
   "outputs": [
    {
     "name": "stdout",
     "output_type": "stream",
     "text": [
      "nan\n"
     ]
    }
   ],
   "source": [
    "mean_ = statistics.mean(x_with_nan)\n",
    "print(mean_)"
   ]
  },
  {
   "cell_type": "code",
   "execution_count": 7,
   "id": "b298799f",
   "metadata": {},
   "outputs": [
    {
     "data": {
      "text/plain": [
       "8.7"
      ]
     },
     "execution_count": 7,
     "metadata": {},
     "output_type": "execute_result"
    }
   ],
   "source": [
    "mean_ = np.mean(y)\n",
    "mean_"
   ]
  },
  {
   "cell_type": "code",
   "execution_count": 8,
   "id": "66a1c4e6",
   "metadata": {},
   "outputs": [],
   "source": [
    "mean_ = y.mean()"
   ]
  },
  {
   "cell_type": "code",
   "execution_count": 9,
   "id": "b8cc46ac",
   "metadata": {},
   "outputs": [
    {
     "data": {
      "text/plain": [
       "8.7"
      ]
     },
     "execution_count": 9,
     "metadata": {},
     "output_type": "execute_result"
    }
   ],
   "source": [
    "mean_"
   ]
  },
  {
   "cell_type": "code",
   "execution_count": 10,
   "id": "d346466f",
   "metadata": {},
   "outputs": [
    {
     "name": "stdout",
     "output_type": "stream",
     "text": [
      "nan\n"
     ]
    },
    {
     "data": {
      "text/plain": [
       "nan"
      ]
     },
     "execution_count": 10,
     "metadata": {},
     "output_type": "execute_result"
    }
   ],
   "source": [
    "print(np.mean(y_with_nan))\n",
    "y_with_nan.mean()"
   ]
  },
  {
   "cell_type": "code",
   "execution_count": 11,
   "id": "e2bdda59",
   "metadata": {},
   "outputs": [
    {
     "name": "stdout",
     "output_type": "stream",
     "text": [
      "[ 8.   1.   2.5  nan  4.  28. ]\n"
     ]
    },
    {
     "data": {
      "text/plain": [
       "8.7"
      ]
     },
     "execution_count": 11,
     "metadata": {},
     "output_type": "execute_result"
    }
   ],
   "source": [
    "# mengabaikan Nan \n",
    "print(y_with_nan)\n",
    "\n",
    "np.nanmean(y_with_nan)"
   ]
  },
  {
   "cell_type": "code",
   "execution_count": 12,
   "id": "cbf5ed10",
   "metadata": {},
   "outputs": [
    {
     "data": {
      "text/plain": [
       "8.7"
      ]
     },
     "execution_count": 12,
     "metadata": {},
     "output_type": "execute_result"
    }
   ],
   "source": [
    "(8+1+2.5+4+28)/5"
   ]
  },
  {
   "cell_type": "code",
   "execution_count": 13,
   "id": "9472f86b",
   "metadata": {},
   "outputs": [
    {
     "data": {
      "text/plain": [
       "8.7"
      ]
     },
     "execution_count": 13,
     "metadata": {},
     "output_type": "execute_result"
    }
   ],
   "source": [
    "# Kalau Pandas di abaikan cuk nan nya \n",
    "z_with_nan.mean()"
   ]
  },
  {
   "cell_type": "code",
   "execution_count": 14,
   "id": "3bf5ad39",
   "metadata": {},
   "outputs": [
    {
     "data": {
      "text/plain": [
       "4.8"
      ]
     },
     "execution_count": 14,
     "metadata": {},
     "output_type": "execute_result"
    }
   ],
   "source": [
    "0.2 * 2 + 0.5 * 4 + 0.3 * 8"
   ]
  },
  {
   "cell_type": "code",
   "execution_count": 15,
   "id": "2d721c07",
   "metadata": {},
   "outputs": [
    {
     "name": "stdout",
     "output_type": "stream",
     "text": [
      "6.95\n",
      "6.95\n"
     ]
    }
   ],
   "source": [
    "x = [8.0, 1,2.5,4, 28.0]\n",
    "w = [0.1,0.2,0.3,0.25,0.15]\n",
    "\n",
    "wmean = sum(w[i]*x[i] for i in range(len(x)))/sum(w)\n",
    "print(wmean)\n",
    "\n",
    "wmean = sum(x_ * w_ for (x_,w_) in zip(x,w))/sum(w)\n",
    "print(wmean)"
   ]
  },
  {
   "cell_type": "code",
   "execution_count": 16,
   "id": "a0da757d",
   "metadata": {},
   "outputs": [
    {
     "name": "stdout",
     "output_type": "stream",
     "text": [
      "6.95\n",
      "6.95\n"
     ]
    }
   ],
   "source": [
    "y,z,w = np.array(x),pd.Series(x),np.array(w)\n",
    "\n",
    "wmean = np.average(y, weights=w)\n",
    "print(wmean)\n",
    "\n",
    "wmean = np.average(z, weights=w)\n",
    "print(wmean)"
   ]
  },
  {
   "cell_type": "code",
   "execution_count": 17,
   "id": "4a0dc18b",
   "metadata": {},
   "outputs": [
    {
     "data": {
      "text/plain": [
       "6.95"
      ]
     },
     "execution_count": 17,
     "metadata": {},
     "output_type": "execute_result"
    }
   ],
   "source": [
    "(w*y).sum()/w.sum()"
   ]
  },
  {
   "cell_type": "markdown",
   "id": "db10ec92",
   "metadata": {},
   "source": [
    "# Harmonic Mean"
   ]
  },
  {
   "cell_type": "code",
   "execution_count": 18,
   "id": "6b9c8222",
   "metadata": {},
   "outputs": [
    {
     "name": "stdout",
     "output_type": "stream",
     "text": [
      "5\n",
      "<generator object <genexpr> at 0x00000188DB59EBA0>\n"
     ]
    },
    {
     "data": {
      "text/plain": [
       "2.7613412228796843"
      ]
     },
     "execution_count": 18,
     "metadata": {},
     "output_type": "execute_result"
    }
   ],
   "source": [
    "print(len(x))\n",
    "print(1/item for item in x)\n",
    "hmean = len(x) / sum(1/item for item in x)\n",
    "hmean"
   ]
  },
  {
   "cell_type": "markdown",
   "id": "c52dfddd",
   "metadata": {},
   "source": [
    "# Geometric Mean"
   ]
  },
  {
   "cell_type": "markdown",
   "id": "d1dab318",
   "metadata": {},
   "source": [
    "Merupakan akar ke-n dari semua elemen x dalam data set x\n",
    "- berguna untuk membandingka berbagia hal dengan properti yang sanat berbeda "
   ]
  },
  {
   "cell_type": "code",
   "execution_count": 19,
   "id": "47e6bd43",
   "metadata": {},
   "outputs": [
    {
     "data": {
      "text/plain": [
       "4.677885674856041"
      ]
     },
     "execution_count": 19,
     "metadata": {},
     "output_type": "execute_result"
    }
   ],
   "source": [
    "gmean = 1\n",
    "\n",
    "for item in x:\n",
    "    gmean *= item \n",
    "    \n",
    "gmean **= 1 / len(x)\n",
    "gmean"
   ]
  },
  {
   "cell_type": "code",
   "execution_count": 20,
   "id": "0b244ef0",
   "metadata": {},
   "outputs": [
    {
     "data": {
      "text/plain": [
       "4.67788567485604"
      ]
     },
     "execution_count": 20,
     "metadata": {},
     "output_type": "execute_result"
    }
   ],
   "source": [
    "scipy.stats.gmean(y)"
   ]
  },
  {
   "cell_type": "code",
   "execution_count": 21,
   "id": "9f0fdf6e",
   "metadata": {},
   "outputs": [
    {
     "data": {
      "text/plain": [
       "4.67788567485604"
      ]
     },
     "execution_count": 21,
     "metadata": {},
     "output_type": "execute_result"
    }
   ],
   "source": [
    "scipy.stats.gmean(z)"
   ]
  },
  {
   "cell_type": "markdown",
   "id": "33ba734f",
   "metadata": {},
   "source": [
    "Median\n"
   ]
  },
  {
   "cell_type": "code",
   "execution_count": 22,
   "id": "a3484d3d",
   "metadata": {},
   "outputs": [
    {
     "data": {
      "text/plain": [
       "4"
      ]
     },
     "execution_count": 22,
     "metadata": {},
     "output_type": "execute_result"
    }
   ],
   "source": [
    "n = len(x)\n",
    "if n % 2:\n",
    "    median_ = sorted(x)[round(0.5*(n-1))]\n",
    "else:\n",
    "    x_ord, index = sorted(x), round(0.5*n)\n",
    "    median_ = 0.5 * (x_ord[index-1]+x_ord[indexndex])\n",
    "median_"
   ]
  },
  {
   "cell_type": "code",
   "execution_count": 23,
   "id": "bb742a51",
   "metadata": {},
   "outputs": [
    {
     "data": {
      "text/plain": [
       "[8.0, 1, 2.5, 4, 28.0]"
      ]
     },
     "execution_count": 23,
     "metadata": {},
     "output_type": "execute_result"
    }
   ],
   "source": [
    "x"
   ]
  },
  {
   "cell_type": "code",
   "execution_count": 31,
   "id": "c60ef056",
   "metadata": {},
   "outputs": [
    {
     "data": {
      "text/plain": [
       "2.5"
      ]
     },
     "execution_count": 31,
     "metadata": {},
     "output_type": "execute_result"
    }
   ],
   "source": [
    "statistics.median_low(x[:-1])"
   ]
  },
  {
   "cell_type": "code",
   "execution_count": 27,
   "id": "119c3966",
   "metadata": {},
   "outputs": [
    {
     "data": {
      "text/plain": [
       "4"
      ]
     },
     "execution_count": 27,
     "metadata": {},
     "output_type": "execute_result"
    }
   ],
   "source": [
    "statistics.median(x[:])"
   ]
  },
  {
   "cell_type": "code",
   "execution_count": 28,
   "id": "74580b6c",
   "metadata": {},
   "outputs": [
    {
     "data": {
      "text/plain": [
       "4"
      ]
     },
     "execution_count": 28,
     "metadata": {},
     "output_type": "execute_result"
    }
   ],
   "source": [
    "statistics.median_high(x[:])"
   ]
  },
  {
   "cell_type": "code",
   "execution_count": 34,
   "id": "f683f69c",
   "metadata": {},
   "outputs": [
    {
     "name": "stdout",
     "output_type": "stream",
     "text": [
      "[8.0, 1, 2.5, nan, 4, 28.0]\n",
      "6.0\n",
      "4\n",
      "8.0\n"
     ]
    }
   ],
   "source": [
    "print(x_with_nan)\n",
    "print(statistics.median(x_with_nan))\n",
    "print(statistics.median_low(x_with_nan))\n",
    "print(statistics.median_high(x_with_nan))"
   ]
  },
  {
   "cell_type": "code",
   "execution_count": 40,
   "id": "ca86ef9e",
   "metadata": {},
   "outputs": [
    {
     "name": "stdout",
     "output_type": "stream",
     "text": [
      "[ 8.   1.   2.5  4.  28. ]\n",
      " Jadi ini tu diurutin dulu \n",
      "4.0\n"
     ]
    }
   ],
   "source": [
    "print(y)\n",
    "print(\" Jadi ini tu diurutin dulu \")\n",
    "median_ = np.median(y)\n",
    "print(median_)"
   ]
  },
  {
   "cell_type": "markdown",
   "id": "5c9d0717",
   "metadata": {},
   "source": [
    "Mode\n"
   ]
  },
  {
   "cell_type": "code",
   "execution_count": 42,
   "id": "427a4cbc",
   "metadata": {},
   "outputs": [
    {
     "data": {
      "text/plain": [
       "2"
      ]
     },
     "execution_count": 42,
     "metadata": {},
     "output_type": "execute_result"
    }
   ],
   "source": [
    "u = [2,3,2,8,12]\n",
    "v = [12,15,12,15,21,12]\n",
    "\n",
    "mode_ = max((u.count(item),item) for item in set(u))[1]\n",
    "mode_"
   ]
  },
  {
   "cell_type": "code",
   "execution_count": 43,
   "id": "115daf46",
   "metadata": {},
   "outputs": [
    {
     "data": {
      "text/plain": [
       "2"
      ]
     },
     "execution_count": 43,
     "metadata": {},
     "output_type": "execute_result"
    }
   ],
   "source": [
    "mode_ = statistics.mode(u)\n",
    "mode_"
   ]
  },
  {
   "cell_type": "code",
   "execution_count": 44,
   "id": "0ea6b186",
   "metadata": {},
   "outputs": [
    {
     "data": {
      "text/plain": [
       "ModeResult(mode=array([2]), count=array([2]))"
      ]
     },
     "execution_count": 44,
     "metadata": {},
     "output_type": "execute_result"
    }
   ],
   "source": [
    "u,v = np.array(u),np.array(v)\n",
    "mode_=scipy.stats.mode(u)\n",
    "mode_"
   ]
  },
  {
   "cell_type": "code",
   "execution_count": 45,
   "id": "ae085536",
   "metadata": {},
   "outputs": [
    {
     "data": {
      "text/plain": [
       "array([2])"
      ]
     },
     "execution_count": 45,
     "metadata": {},
     "output_type": "execute_result"
    }
   ],
   "source": [
    "mode_.mode\n"
   ]
  },
  {
   "cell_type": "code",
   "execution_count": 46,
   "id": "019f7187",
   "metadata": {},
   "outputs": [
    {
     "data": {
      "text/plain": [
       "array([2])"
      ]
     },
     "execution_count": 46,
     "metadata": {},
     "output_type": "execute_result"
    }
   ],
   "source": [
    "mode_.count"
   ]
  },
  {
   "cell_type": "code",
   "execution_count": 47,
   "id": "9d89d792",
   "metadata": {},
   "outputs": [
    {
     "data": {
      "text/plain": [
       "0    2\n",
       "dtype: int32"
      ]
     },
     "execution_count": 47,
     "metadata": {},
     "output_type": "execute_result"
    }
   ],
   "source": [
    "u,v,w = pd.Series(u), pd.Series(v), pd.Series([2,2,math.nan])\n",
    "u.mode()"
   ]
  },
  {
   "cell_type": "code",
   "execution_count": 48,
   "id": "14d854fc",
   "metadata": {},
   "outputs": [
    {
     "data": {
      "text/plain": [
       "0    12\n",
       "dtype: int32"
      ]
     },
     "execution_count": 48,
     "metadata": {},
     "output_type": "execute_result"
    }
   ],
   "source": [
    "v.mode()"
   ]
  },
  {
   "cell_type": "code",
   "execution_count": 49,
   "id": "070e6fa0",
   "metadata": {},
   "outputs": [
    {
     "data": {
      "text/plain": [
       "0    2.0\n",
       "dtype: float64"
      ]
     },
     "execution_count": 49,
     "metadata": {},
     "output_type": "execute_result"
    }
   ],
   "source": [
    "w.mode()"
   ]
  },
  {
   "cell_type": "markdown",
   "id": "fa0c5926",
   "metadata": {},
   "source": [
    "Measure of Variability \n",
    "- Vairance\n",
    "- Standar Deviation \n",
    "- Skewness\n",
    "- Percentile\n",
    "- Range "
   ]
  },
  {
   "cell_type": "code",
   "execution_count": 52,
   "id": "6c7a5051",
   "metadata": {},
   "outputs": [
    {
     "data": {
      "text/plain": [
       "123.19999999999999"
      ]
     },
     "execution_count": 52,
     "metadata": {},
     "output_type": "execute_result"
    }
   ],
   "source": [
    "n = len(x)\n",
    "mean_= sum(x)/n\n",
    "var_ = sum((item - mean_)**2 for item in x)/(n-1)\n",
    "var_"
   ]
  },
  {
   "cell_type": "code",
   "execution_count": 53,
   "id": "7ee1f296",
   "metadata": {},
   "outputs": [],
   "source": [
    "var_ = statistics.variance(x)"
   ]
  },
  {
   "cell_type": "code",
   "execution_count": 54,
   "id": "4d1e1cd3",
   "metadata": {},
   "outputs": [
    {
     "data": {
      "text/plain": [
       "123.2"
      ]
     },
     "execution_count": 54,
     "metadata": {},
     "output_type": "execute_result"
    }
   ],
   "source": [
    "var_"
   ]
  },
  {
   "cell_type": "code",
   "execution_count": 55,
   "id": "0739a369",
   "metadata": {},
   "outputs": [
    {
     "data": {
      "text/plain": [
       "123.19999999999999"
      ]
     },
     "execution_count": 55,
     "metadata": {},
     "output_type": "execute_result"
    }
   ],
   "source": [
    "var_ = y.var(ddof=1)\n",
    "var_"
   ]
  },
  {
   "cell_type": "markdown",
   "id": "09892e1f",
   "metadata": {},
   "source": [
    "Standar Deviation "
   ]
  },
  {
   "cell_type": "code",
   "execution_count": 56,
   "id": "8dc4d802",
   "metadata": {},
   "outputs": [
    {
     "data": {
      "text/plain": [
       "11.099549540409285"
      ]
     },
     "execution_count": 56,
     "metadata": {},
     "output_type": "execute_result"
    }
   ],
   "source": [
    "std_ = var_**0.5 \n",
    "std_"
   ]
  },
  {
   "cell_type": "code",
   "execution_count": 57,
   "id": "875fe116",
   "metadata": {},
   "outputs": [
    {
     "data": {
      "text/plain": [
       "11.099549540409287"
      ]
     },
     "execution_count": 57,
     "metadata": {},
     "output_type": "execute_result"
    }
   ],
   "source": [
    "std_ = statistics.stdev(x)\n",
    "std_"
   ]
  },
  {
   "cell_type": "code",
   "execution_count": 58,
   "id": "7f205901",
   "metadata": {},
   "outputs": [
    {
     "data": {
      "text/plain": [
       "11.099549540409285"
      ]
     },
     "execution_count": 58,
     "metadata": {},
     "output_type": "execute_result"
    }
   ],
   "source": [
    "np.std(y,ddof=1)"
   ]
  },
  {
   "cell_type": "code",
   "execution_count": 59,
   "id": "86cdf81a",
   "metadata": {},
   "outputs": [
    {
     "data": {
      "text/plain": [
       "11.099549540409285"
      ]
     },
     "execution_count": 59,
     "metadata": {},
     "output_type": "execute_result"
    }
   ],
   "source": [
    "y.std(ddof=1)"
   ]
  },
  {
   "cell_type": "code",
   "execution_count": 60,
   "id": "8678ea48",
   "metadata": {},
   "outputs": [
    {
     "data": {
      "text/plain": [
       "11.099549540409285"
      ]
     },
     "execution_count": 60,
     "metadata": {},
     "output_type": "execute_result"
    }
   ],
   "source": [
    "z.std(ddof=1)"
   ]
  },
  {
   "cell_type": "markdown",
   "id": "ab4b9d80",
   "metadata": {},
   "source": [
    "Skewness\n",
    "- mengukur asimeteri sampel data\n",
    "- "
   ]
  },
  {
   "cell_type": "code",
   "execution_count": 62,
   "id": "22108639",
   "metadata": {},
   "outputs": [],
   "source": [
    "x = [8.0, 1, 2.5,4,28.0]\n",
    "n = len(x)\n",
    "mean_ = sum(x)/n\n",
    "var_ = sum((item - mean_)**2 for item in x)/(n-1)\n",
    "std_ = var_ ** 0.5 \n",
    "\n",
    "skew_ = (sum((item - mean_)**3 for item in x )*n/((n-1)*(n-2)*std_**3))"
   ]
  },
  {
   "cell_type": "code",
   "execution_count": 63,
   "id": "99c06eea",
   "metadata": {},
   "outputs": [
    {
     "data": {
      "text/plain": [
       "1.9470432273905929"
      ]
     },
     "execution_count": 63,
     "metadata": {},
     "output_type": "execute_result"
    }
   ],
   "source": [
    "skew_"
   ]
  },
  {
   "cell_type": "code",
   "execution_count": 64,
   "id": "d171f269",
   "metadata": {},
   "outputs": [
    {
     "data": {
      "text/plain": [
       "1.9470432273905927"
      ]
     },
     "execution_count": 64,
     "metadata": {},
     "output_type": "execute_result"
    }
   ],
   "source": [
    "y, y_with_nan = np.array(x),np.array(x_with_nan)\n",
    "scipy.stats.skew(y, bias=False)"
   ]
  },
  {
   "cell_type": "code",
   "execution_count": 65,
   "id": "f46bca5d",
   "metadata": {},
   "outputs": [
    {
     "data": {
      "text/plain": [
       "nan"
      ]
     },
     "execution_count": 65,
     "metadata": {},
     "output_type": "execute_result"
    }
   ],
   "source": [
    "scipy.stats.skew(y_with_nan,bias=False)"
   ]
  },
  {
   "cell_type": "code",
   "execution_count": 68,
   "id": "460b9016",
   "metadata": {},
   "outputs": [
    {
     "ename": "AttributeError",
     "evalue": "'numpy.ndarray' object has no attribute 'skew'",
     "output_type": "error",
     "traceback": [
      "\u001b[1;31m---------------------------------------------------------------------------\u001b[0m",
      "\u001b[1;31mAttributeError\u001b[0m                            Traceback (most recent call last)",
      "Input \u001b[1;32mIn [68]\u001b[0m, in \u001b[0;36m<cell line: 1>\u001b[1;34m()\u001b[0m\n\u001b[1;32m----> 1\u001b[0m \u001b[43my\u001b[49m\u001b[38;5;241;43m.\u001b[39;49m\u001b[43mskew\u001b[49m()\n",
      "\u001b[1;31mAttributeError\u001b[0m: 'numpy.ndarray' object has no attribute 'skew'"
     ]
    }
   ],
   "source": [
    "y.skew() # karena bukan Pandas"
   ]
  },
  {
   "cell_type": "code",
   "execution_count": 67,
   "id": "52f323a0",
   "metadata": {},
   "outputs": [
    {
     "data": {
      "text/plain": [
       "1.9470432273905924"
      ]
     },
     "execution_count": 67,
     "metadata": {},
     "output_type": "execute_result"
    }
   ],
   "source": [
    "z,z_with_nan = pd.Series(x),pd.Series(x_with_nan)\n",
    "z.skew()"
   ]
  },
  {
   "cell_type": "markdown",
   "id": "5fe6c6f4",
   "metadata": {},
   "source": [
    "#### Percentile "
   ]
  },
  {
   "cell_type": "code",
   "execution_count": 78,
   "id": "336ae66b",
   "metadata": {},
   "outputs": [
    {
     "name": "stdout",
     "output_type": "stream",
     "text": [
      "None\n"
     ]
    }
   ],
   "source": [
    "x = [-5.0 , -1.1, 0.1, 2.0, 8.0, 12.8, 21.0 , 25.8, 41.0 ]\n",
    "statistics.quantiles(x, n=2)\n",
    "\n",
    "print(x.sort())"
   ]
  },
  {
   "cell_type": "code",
   "execution_count": 75,
   "id": "ae76fa66",
   "metadata": {},
   "outputs": [
    {
     "data": {
      "text/plain": [
       "[0.1, 8.0, 21.0]"
      ]
     },
     "execution_count": 75,
     "metadata": {},
     "output_type": "execute_result"
    }
   ],
   "source": [
    "statistics.quantiles(x,n=4,method='inclusive')"
   ]
  },
  {
   "cell_type": "code",
   "execution_count": 71,
   "id": "a52938a2",
   "metadata": {},
   "outputs": [
    {
     "data": {
      "text/plain": [
       "-3.44"
      ]
     },
     "execution_count": 71,
     "metadata": {},
     "output_type": "execute_result"
    }
   ],
   "source": [
    "y = np.array(x)\n",
    "np.percentile(y,5)"
   ]
  },
  {
   "cell_type": "code",
   "execution_count": 72,
   "id": "a5bbbca4",
   "metadata": {},
   "outputs": [
    {
     "data": {
      "text/plain": [
       "34.919999999999995"
      ]
     },
     "execution_count": 72,
     "metadata": {},
     "output_type": "execute_result"
    }
   ],
   "source": [
    "np.percentile(y,95)"
   ]
  },
  {
   "cell_type": "code",
   "execution_count": 79,
   "id": "6e2c5f2c",
   "metadata": {},
   "outputs": [
    {
     "data": {
      "text/plain": [
       "1.2"
      ]
     },
     "execution_count": 79,
     "metadata": {},
     "output_type": "execute_result"
    }
   ],
   "source": [
    "p = [ 1, 2, 3, 4,5]\n",
    "o = np.array(p)\n",
    "np.percentile(o,5)"
   ]
  },
  {
   "cell_type": "markdown",
   "id": "c0ec811d",
   "metadata": {},
   "source": [
    "Ranges"
   ]
  },
  {
   "cell_type": "code",
   "execution_count": 82,
   "id": "da898413",
   "metadata": {},
   "outputs": [
    {
     "data": {
      "text/plain": [
       "46.0"
      ]
     },
     "execution_count": 82,
     "metadata": {},
     "output_type": "execute_result"
    }
   ],
   "source": [
    "np.ptp(y)\n"
   ]
  },
  {
   "cell_type": "markdown",
   "id": "ecbd3954",
   "metadata": {},
   "source": [
    "np.ptp(o)"
   ]
  },
  {
   "cell_type": "markdown",
   "id": "e1647473",
   "metadata": {},
   "source": [
    "Menggunakan FUngsi Al\n",
    "- max() and min() from python standar libary \n",
    "- amax() and amin() from numpy \n",
    "- nanmax() and namin() from numpy to ignore nan values\n",
    "- .max() and .min() from Numpy \n",
    "- .mac() and .min() from pandas to ignore \n"
   ]
  },
  {
   "cell_type": "code",
   "execution_count": 86,
   "id": "2125ceb2",
   "metadata": {},
   "outputs": [
    {
     "data": {
      "text/plain": [
       "46.0"
      ]
     },
     "execution_count": 86,
     "metadata": {},
     "output_type": "execute_result"
    }
   ],
   "source": [
    "np.amax(y) - np.amin(y)"
   ]
  },
  {
   "cell_type": "markdown",
   "id": "849a1758",
   "metadata": {},
   "source": [
    "Interquartile Range = perbedaan antara kuartil pertama  dan ketiga"
   ]
  },
  {
   "cell_type": "code",
   "execution_count": 88,
   "id": "e6dd51e7",
   "metadata": {},
   "outputs": [
    {
     "data": {
      "text/plain": [
       "2.0"
      ]
     },
     "execution_count": 88,
     "metadata": {},
     "output_type": "execute_result"
    }
   ],
   "source": [
    "quartiles = np.quantile(o,[0.25 , 0.75])\n",
    "quartiles[1] - quartiles[0]\n"
   ]
  },
  {
   "cell_type": "markdown",
   "id": "c682e751",
   "metadata": {},
   "source": [
    "Summary of Descriptive Statistics "
   ]
  },
  {
   "cell_type": "code",
   "execution_count": 90,
   "id": "a099fe9a",
   "metadata": {},
   "outputs": [
    {
     "data": {
      "text/plain": [
       "DescribeResult(nobs=5, minmax=(1, 5), mean=3.0, variance=2.5, skewness=0.0, kurtosis=-1.2000000000000004)"
      ]
     },
     "execution_count": 90,
     "metadata": {},
     "output_type": "execute_result"
    }
   ],
   "source": [
    "result = scipy.stats.describe(o, ddof=1,bias=False)\n",
    "result"
   ]
  },
  {
   "cell_type": "code",
   "execution_count": 94,
   "id": "fac3b2a4",
   "metadata": {},
   "outputs": [],
   "source": [
    "x = list(range(-10,11))\n",
    "y = [0,2,2,2,2,2,2,3,3,10,3,4,4,5,5,6,9,6]\n",
    "x_,y_= np.array(x),np.array(y)\n",
    "x__,y__ = pd.Series(x_),pd.Series(y_)"
   ]
  },
  {
   "cell_type": "code",
   "execution_count": 108,
   "id": "6f1e2a71",
   "metadata": {},
   "outputs": [
    {
     "data": {
      "text/plain": [
       "array([[1, 1, 1],\n",
       "       [2, 2, 2],\n",
       "       [3, 3, 3],\n",
       "       [4, 4, 4],\n",
       "       [5, 5, 5]])"
      ]
     },
     "execution_count": 108,
     "metadata": {},
     "output_type": "execute_result"
    }
   ],
   "source": [
    "a = np.array([[1,1,1],\n",
    "             [2,2,2],\n",
    "             [3,3,3],\n",
    "             [4,4,4],\n",
    "             [5,5,5]])\n",
    "a"
   ]
  },
  {
   "cell_type": "code",
   "execution_count": 97,
   "id": "b02bc315",
   "metadata": {},
   "outputs": [
    {
     "data": {
      "text/plain": [
       "3.0"
      ]
     },
     "execution_count": 97,
     "metadata": {},
     "output_type": "execute_result"
    }
   ],
   "source": [
    "np.mean(a)"
   ]
  },
  {
   "cell_type": "code",
   "execution_count": 98,
   "id": "d7ea33a7",
   "metadata": {},
   "outputs": [
    {
     "data": {
      "text/plain": [
       "3.0"
      ]
     },
     "execution_count": 98,
     "metadata": {},
     "output_type": "execute_result"
    }
   ],
   "source": [
    "a.mean()"
   ]
  },
  {
   "cell_type": "code",
   "execution_count": 100,
   "id": "03e034b3",
   "metadata": {},
   "outputs": [
    {
     "data": {
      "text/plain": [
       "3.0"
      ]
     },
     "execution_count": 100,
     "metadata": {},
     "output_type": "execute_result"
    }
   ],
   "source": [
    "np.median(a)"
   ]
  },
  {
   "cell_type": "code",
   "execution_count": 101,
   "id": "a7e3039e",
   "metadata": {},
   "outputs": [
    {
     "data": {
      "text/plain": [
       "2.142857142857143"
      ]
     },
     "execution_count": 101,
     "metadata": {},
     "output_type": "execute_result"
    }
   ],
   "source": [
    "a.var(ddof=1)"
   ]
  },
  {
   "cell_type": "code",
   "execution_count": 105,
   "id": "8ec4e716",
   "metadata": {},
   "outputs": [
    {
     "data": {
      "text/plain": [
       "array([3. , 2.6, 3. ])"
      ]
     },
     "execution_count": 105,
     "metadata": {},
     "output_type": "execute_result"
    }
   ],
   "source": [
    "np.mean(a,axis=0) # baris"
   ]
  },
  {
   "cell_type": "code",
   "execution_count": 103,
   "id": "faa87bad",
   "metadata": {},
   "outputs": [
    {
     "data": {
      "text/plain": [
       "array([1., 2., 3., 4., 5.])"
      ]
     },
     "execution_count": 103,
     "metadata": {},
     "output_type": "execute_result"
    }
   ],
   "source": [
    "np.mean(a,axis=1) # kolom"
   ]
  },
  {
   "cell_type": "code",
   "execution_count": 111,
   "id": "494c3f46",
   "metadata": {},
   "outputs": [
    {
     "data": {
      "text/plain": [
       "2.0"
      ]
     },
     "execution_count": 111,
     "metadata": {},
     "output_type": "execute_result"
    }
   ],
   "source": [
    "a.var()"
   ]
  },
  {
   "cell_type": "code",
   "execution_count": 117,
   "id": "8d76f9d5",
   "metadata": {},
   "outputs": [
    {
     "data": {
      "text/plain": [
       "array([2.5, 2.5, 2.5])"
      ]
     },
     "execution_count": 117,
     "metadata": {},
     "output_type": "execute_result"
    }
   ],
   "source": [
    "a.var(axis=0,ddof=1) # 5 diakarkan 2"
   ]
  },
  {
   "cell_type": "code",
   "execution_count": 120,
   "id": "6bbcf1e5",
   "metadata": {},
   "outputs": [
    {
     "data": {
      "text/plain": [
       "2.23606797749979"
      ]
     },
     "execution_count": 120,
     "metadata": {},
     "output_type": "execute_result"
    }
   ],
   "source": [
    "5**(0.5)"
   ]
  },
  {
   "cell_type": "code",
   "execution_count": 116,
   "id": "39e57cfd",
   "metadata": {},
   "outputs": [
    {
     "data": {
      "text/plain": [
       "array([0., 0., 0., 0., 0.])"
      ]
     },
     "execution_count": 116,
     "metadata": {},
     "output_type": "execute_result"
    }
   ],
   "source": [
    "a.var(axis=1,ddof=1)"
   ]
  },
  {
   "cell_type": "code",
   "execution_count": 110,
   "id": "92fb23ca",
   "metadata": {},
   "outputs": [
    {
     "data": {
      "text/plain": [
       "array([2.60517108, 2.60517108, 2.60517108])"
      ]
     },
     "execution_count": 110,
     "metadata": {},
     "output_type": "execute_result"
    }
   ],
   "source": [
    "scipy.stats.gmean(a)"
   ]
  },
  {
   "cell_type": "code",
   "execution_count": 109,
   "id": "3dfce92d",
   "metadata": {},
   "outputs": [
    {
     "data": {
      "text/plain": [
       "array([2.60517108, 2.60517108, 2.60517108])"
      ]
     },
     "execution_count": 109,
     "metadata": {},
     "output_type": "execute_result"
    }
   ],
   "source": [
    "scipy.stats.gmean(a,axis=0)"
   ]
  },
  {
   "cell_type": "code",
   "execution_count": 121,
   "id": "11138593",
   "metadata": {},
   "outputs": [
    {
     "data": {
      "text/html": [
       "<div>\n",
       "<style scoped>\n",
       "    .dataframe tbody tr th:only-of-type {\n",
       "        vertical-align: middle;\n",
       "    }\n",
       "\n",
       "    .dataframe tbody tr th {\n",
       "        vertical-align: top;\n",
       "    }\n",
       "\n",
       "    .dataframe thead th {\n",
       "        text-align: right;\n",
       "    }\n",
       "</style>\n",
       "<table border=\"1\" class=\"dataframe\">\n",
       "  <thead>\n",
       "    <tr style=\"text-align: right;\">\n",
       "      <th></th>\n",
       "      <th>A</th>\n",
       "      <th>B</th>\n",
       "      <th>C</th>\n",
       "    </tr>\n",
       "  </thead>\n",
       "  <tbody>\n",
       "    <tr>\n",
       "      <th>first</th>\n",
       "      <td>1</td>\n",
       "      <td>1</td>\n",
       "      <td>1</td>\n",
       "    </tr>\n",
       "    <tr>\n",
       "      <th>second</th>\n",
       "      <td>2</td>\n",
       "      <td>2</td>\n",
       "      <td>2</td>\n",
       "    </tr>\n",
       "    <tr>\n",
       "      <th>third</th>\n",
       "      <td>3</td>\n",
       "      <td>3</td>\n",
       "      <td>3</td>\n",
       "    </tr>\n",
       "    <tr>\n",
       "      <th>fourth</th>\n",
       "      <td>4</td>\n",
       "      <td>4</td>\n",
       "      <td>4</td>\n",
       "    </tr>\n",
       "    <tr>\n",
       "      <th>fifth</th>\n",
       "      <td>5</td>\n",
       "      <td>5</td>\n",
       "      <td>5</td>\n",
       "    </tr>\n",
       "  </tbody>\n",
       "</table>\n",
       "</div>"
      ],
      "text/plain": [
       "        A  B  C\n",
       "first   1  1  1\n",
       "second  2  2  2\n",
       "third   3  3  3\n",
       "fourth  4  4  4\n",
       "fifth   5  5  5"
      ]
     },
     "execution_count": 121,
     "metadata": {},
     "output_type": "execute_result"
    }
   ],
   "source": [
    "row_names = ['first','second','third','fourth','fifth']\n",
    "col_names = ['A','B','C']\n",
    "df = pd.DataFrame(a, index=row_names,columns=col_names)\n",
    "df"
   ]
  },
  {
   "cell_type": "code",
   "execution_count": 122,
   "id": "d3a7d9df",
   "metadata": {},
   "outputs": [
    {
     "data": {
      "text/plain": [
       "A    3.0\n",
       "B    3.0\n",
       "C    3.0\n",
       "dtype: float64"
      ]
     },
     "execution_count": 122,
     "metadata": {},
     "output_type": "execute_result"
    }
   ],
   "source": [
    "df.mean()"
   ]
  },
  {
   "cell_type": "code",
   "execution_count": 123,
   "id": "0b3b861c",
   "metadata": {},
   "outputs": [
    {
     "data": {
      "text/plain": [
       "A    2.5\n",
       "B    2.5\n",
       "C    2.5\n",
       "dtype: float64"
      ]
     },
     "execution_count": 123,
     "metadata": {},
     "output_type": "execute_result"
    }
   ],
   "source": [
    "df.var()"
   ]
  },
  {
   "cell_type": "code",
   "execution_count": 124,
   "id": "90097041",
   "metadata": {},
   "outputs": [
    {
     "data": {
      "text/plain": [
       "first     1.0\n",
       "second    2.0\n",
       "third     3.0\n",
       "fourth    4.0\n",
       "fifth     5.0\n",
       "dtype: float64"
      ]
     },
     "execution_count": 124,
     "metadata": {},
     "output_type": "execute_result"
    }
   ],
   "source": [
    "df.mean(axis=1)\n"
   ]
  },
  {
   "cell_type": "code",
   "execution_count": 125,
   "id": "9963a478",
   "metadata": {},
   "outputs": [
    {
     "data": {
      "text/plain": [
       "first     0.0\n",
       "second    0.0\n",
       "third     0.0\n",
       "fourth    0.0\n",
       "fifth     0.0\n",
       "dtype: float64"
      ]
     },
     "execution_count": 125,
     "metadata": {},
     "output_type": "execute_result"
    }
   ],
   "source": [
    "df.var(axis=1)\n"
   ]
  },
  {
   "cell_type": "code",
   "execution_count": 126,
   "id": "30448a3b",
   "metadata": {},
   "outputs": [
    {
     "data": {
      "text/plain": [
       "first     1\n",
       "second    2\n",
       "third     3\n",
       "fourth    4\n",
       "fifth     5\n",
       "Name: A, dtype: int32"
      ]
     },
     "execution_count": 126,
     "metadata": {},
     "output_type": "execute_result"
    }
   ],
   "source": [
    "df['A']"
   ]
  },
  {
   "cell_type": "code",
   "execution_count": 127,
   "id": "0f2de463",
   "metadata": {},
   "outputs": [
    {
     "data": {
      "text/plain": [
       "3.0"
      ]
     },
     "execution_count": 127,
     "metadata": {},
     "output_type": "execute_result"
    }
   ],
   "source": [
    "df['A'].mean()"
   ]
  },
  {
   "cell_type": "code",
   "execution_count": 128,
   "id": "49707d91",
   "metadata": {},
   "outputs": [
    {
     "data": {
      "text/plain": [
       "2.5"
      ]
     },
     "execution_count": 128,
     "metadata": {},
     "output_type": "execute_result"
    }
   ],
   "source": [
    "df['A'].var()"
   ]
  },
  {
   "cell_type": "code",
   "execution_count": 129,
   "id": "924de354",
   "metadata": {},
   "outputs": [
    {
     "data": {
      "text/plain": [
       "array([[1, 1, 1],\n",
       "       [2, 2, 2],\n",
       "       [3, 3, 3],\n",
       "       [4, 4, 4],\n",
       "       [5, 5, 5]])"
      ]
     },
     "execution_count": 129,
     "metadata": {},
     "output_type": "execute_result"
    }
   ],
   "source": [
    "df.values"
   ]
  },
  {
   "cell_type": "code",
   "execution_count": 130,
   "id": "63ea562f",
   "metadata": {},
   "outputs": [
    {
     "data": {
      "text/plain": [
       "array([[1, 1, 1],\n",
       "       [2, 2, 2],\n",
       "       [3, 3, 3],\n",
       "       [4, 4, 4],\n",
       "       [5, 5, 5]])"
      ]
     },
     "execution_count": 130,
     "metadata": {},
     "output_type": "execute_result"
    }
   ],
   "source": [
    "df.to_numpy()"
   ]
  },
  {
   "cell_type": "code",
   "execution_count": 131,
   "id": "a6795030",
   "metadata": {},
   "outputs": [
    {
     "data": {
      "text/html": [
       "<div>\n",
       "<style scoped>\n",
       "    .dataframe tbody tr th:only-of-type {\n",
       "        vertical-align: middle;\n",
       "    }\n",
       "\n",
       "    .dataframe tbody tr th {\n",
       "        vertical-align: top;\n",
       "    }\n",
       "\n",
       "    .dataframe thead th {\n",
       "        text-align: right;\n",
       "    }\n",
       "</style>\n",
       "<table border=\"1\" class=\"dataframe\">\n",
       "  <thead>\n",
       "    <tr style=\"text-align: right;\">\n",
       "      <th></th>\n",
       "      <th>A</th>\n",
       "      <th>B</th>\n",
       "      <th>C</th>\n",
       "    </tr>\n",
       "  </thead>\n",
       "  <tbody>\n",
       "    <tr>\n",
       "      <th>count</th>\n",
       "      <td>5.000000</td>\n",
       "      <td>5.000000</td>\n",
       "      <td>5.000000</td>\n",
       "    </tr>\n",
       "    <tr>\n",
       "      <th>mean</th>\n",
       "      <td>3.000000</td>\n",
       "      <td>3.000000</td>\n",
       "      <td>3.000000</td>\n",
       "    </tr>\n",
       "    <tr>\n",
       "      <th>std</th>\n",
       "      <td>1.581139</td>\n",
       "      <td>1.581139</td>\n",
       "      <td>1.581139</td>\n",
       "    </tr>\n",
       "    <tr>\n",
       "      <th>min</th>\n",
       "      <td>1.000000</td>\n",
       "      <td>1.000000</td>\n",
       "      <td>1.000000</td>\n",
       "    </tr>\n",
       "    <tr>\n",
       "      <th>25%</th>\n",
       "      <td>2.000000</td>\n",
       "      <td>2.000000</td>\n",
       "      <td>2.000000</td>\n",
       "    </tr>\n",
       "    <tr>\n",
       "      <th>50%</th>\n",
       "      <td>3.000000</td>\n",
       "      <td>3.000000</td>\n",
       "      <td>3.000000</td>\n",
       "    </tr>\n",
       "    <tr>\n",
       "      <th>75%</th>\n",
       "      <td>4.000000</td>\n",
       "      <td>4.000000</td>\n",
       "      <td>4.000000</td>\n",
       "    </tr>\n",
       "    <tr>\n",
       "      <th>max</th>\n",
       "      <td>5.000000</td>\n",
       "      <td>5.000000</td>\n",
       "      <td>5.000000</td>\n",
       "    </tr>\n",
       "  </tbody>\n",
       "</table>\n",
       "</div>"
      ],
      "text/plain": [
       "              A         B         C\n",
       "count  5.000000  5.000000  5.000000\n",
       "mean   3.000000  3.000000  3.000000\n",
       "std    1.581139  1.581139  1.581139\n",
       "min    1.000000  1.000000  1.000000\n",
       "25%    2.000000  2.000000  2.000000\n",
       "50%    3.000000  3.000000  3.000000\n",
       "75%    4.000000  4.000000  4.000000\n",
       "max    5.000000  5.000000  5.000000"
      ]
     },
     "execution_count": 131,
     "metadata": {},
     "output_type": "execute_result"
    }
   ],
   "source": [
    "df.describe()"
   ]
  },
  {
   "cell_type": "code",
   "execution_count": 132,
   "id": "62e6e67a",
   "metadata": {},
   "outputs": [
    {
     "data": {
      "text/plain": [
       "3.0"
      ]
     },
     "execution_count": 132,
     "metadata": {},
     "output_type": "execute_result"
    }
   ],
   "source": [
    "df.describe().at['mean','A']"
   ]
  },
  {
   "cell_type": "code",
   "execution_count": 133,
   "id": "2476d318",
   "metadata": {},
   "outputs": [
    {
     "data": {
      "text/plain": [
       "3.0"
      ]
     },
     "execution_count": 133,
     "metadata": {},
     "output_type": "execute_result"
    }
   ],
   "source": [
    "df.describe().at['50%','B']"
   ]
  },
  {
   "cell_type": "code",
   "execution_count": 136,
   "id": "79a5c3bb",
   "metadata": {},
   "outputs": [],
   "source": [
    "# Visual Data (Opitional)\n",
    "import matplotlib.pyplot as plt \n",
    "plt.style.use(\"ggplot\")"
   ]
  },
  {
   "cell_type": "code",
   "execution_count": 138,
   "id": "a43e1197",
   "metadata": {},
   "outputs": [],
   "source": [
    "np.random.seed(seed=0)\n",
    "x = np.random.randn(1000)\n",
    "y =np.random.randn(100)\n",
    "z = np.random.randn(10)"
   ]
  },
  {
   "cell_type": "code",
   "execution_count": 139,
   "id": "5fd9d67f",
   "metadata": {},
   "outputs": [
    {
     "data": {
      "text/plain": [
       "array([  9,  20,  70, 146, 217, 239, 160,  86,  38,  15], dtype=int64)"
      ]
     },
     "execution_count": 139,
     "metadata": {},
     "output_type": "execute_result"
    }
   ],
   "source": [
    "hist, bin_edges = np.histogram(x,bins=10)\n",
    "hist"
   ]
  },
  {
   "cell_type": "code",
   "execution_count": 140,
   "id": "c7bb0385",
   "metadata": {},
   "outputs": [
    {
     "data": {
      "text/plain": [
       "array([-3.04614305, -2.46559324, -1.88504342, -1.3044936 , -0.72394379,\n",
       "       -0.14339397,  0.43715585,  1.01770566,  1.59825548,  2.1788053 ,\n",
       "        2.75935511])"
      ]
     },
     "execution_count": 140,
     "metadata": {},
     "output_type": "execute_result"
    }
   ],
   "source": [
    "bin_edges"
   ]
  },
  {
   "cell_type": "code",
   "execution_count": 142,
   "id": "68760e5f",
   "metadata": {},
   "outputs": [
    {
     "data": {
      "image/png": "[encoded data removed]",
      "text/plain": [
       "<Figure size 432x288 with 1 Axes>"
      ]
     },
     "metadata": {},
     "output_type": "display_data"
    }
   ],
   "source": [
    "fig, ax = plt.subplots()\n",
    "ax.hist(x, bin_edges, cumulative=False)\n",
    "ax.set_xlabel('x')\n",
    "ax.set_ylabel('Frequency')\n",
    "plt.show()"
   ]
  },
  {
   "cell_type": "code",
   "execution_count": 143,
   "id": "f8247002",
   "metadata": {},
   "outputs": [
    {
     "data": {
      "image/png": "[encoded data removed]",
      "text/plain": [
       "<Figure size 432x288 with 1 Axes>"
      ]
     },
     "metadata": {},
     "output_type": "display_data"
    }
   ],
   "source": [
    "fig, ax = plt.subplots()\n",
    "ax.hist(x, bin_edges, cumulative=True)\n",
    "ax.set_xlabel('x')\n",
    "ax.set_ylabel('Frequency')\n",
    "plt.show()"
   ]
  },
  {
   "cell_type": "code",
   "execution_count": 144,
   "id": "c63aff53",
   "metadata": {},
   "outputs": [],
   "source": [
    "x,y,z = 128,256,1024"
   ]
  },
  {
   "cell_type": "code",
   "execution_count": 147,
   "id": "04ab6ff7",
   "metadata": {},
   "outputs": [
    {
     "data": {
      "image/png": "[encoded data removed]",
      "text/plain": [
       "<Figure size 432x288 with 1 Axes>"
      ]
     },
     "metadata": {},
     "output_type": "display_data"
    }
   ],
   "source": [
    "fig, ax = plt.subplots()\n",
    "ax.pie((x,y,z), labels=('x','y','z'),autopct='%1.1f%%')\n",
    "plt.show()"
   ]
  },
  {
   "cell_type": "code",
   "execution_count": 160,
   "id": "761551a1",
   "metadata": {},
   "outputs": [
    {
     "name": "stdout",
     "output_type": "stream",
     "text": [
      "[ 0.56616278  0.83265074  0.32706621  1.63159743  0.37775917  0.23986711\n",
      "  0.15895867  0.19286396 -1.15701728  0.77067305 -0.13043973  1.8219151\n",
      " -0.07565047  0.42091828  0.24660219 -0.62555704  0.99213683  1.90506364\n",
      " -0.01477722 -0.30047879 -0.35502873]\n"
     ]
    }
   ],
   "source": [
    "x = np.arange(21)\n",
    "y = np.random.randint(21,size=21)\n",
    "err = np.random.randn(21)\n",
    "print(err)"
   ]
  },
  {
   "cell_type": "code",
   "execution_count": 157,
   "id": "2914daee",
   "metadata": {},
   "outputs": [
    {
     "data": {
      "image/png": "[encoded data removed]",
      "text/plain": [
       "<Figure size 432x288 with 1 Axes>"
      ]
     },
     "metadata": {},
     "output_type": "display_data"
    }
   ],
   "source": [
    "fig, ax = plt.subplots()\n",
    "ax.bar(x,y,yerr=err)\n",
    "ax.set_xlabel('x')\n",
    "ax.set_ylabel('y')\n",
    "plt.show()"
   ]
  },
  {
   "cell_type": "code",
   "execution_count": 162,
   "id": "f3887cfd",
   "metadata": {},
   "outputs": [],
   "source": [
    "x = np.arange(21)\n",
    "y = 5+2*x+2*np.random.randint(21)\n",
    "slope, intercept, r, *__ = scipy.stats.linregress(x,y)\n",
    "line = f'Regression line: y={intercept:.2f}+{slope:.2f}x,r={r:.2f}'"
   ]
  },
  {
   "cell_type": "code",
   "execution_count": 163,
   "id": "d42eb954",
   "metadata": {},
   "outputs": [
    {
     "data": {
      "image/png": "[encoded data removed]",
      "text/plain": [
       "<Figure size 432x288 with 1 Axes>"
      ]
     },
     "metadata": {},
     "output_type": "display_data"
    }
   ],
   "source": [
    "fig,ax =plt.subplots()\n",
    "ax.plot(x,y,linewidth=0,marker='s',label='Data points')\n",
    "ax.plot(x, intercept + slope * x,label=line)\n",
    "ax.set_xlabel('x')\n",
    "ax.set_ylabel('y')\n",
    "ax.legend(facecolor='white')\n",
    "plt.show()"
   ]
  },
  {
   "cell_type": "code",
   "execution_count": 176,
   "id": "8037997d",
   "metadata": {},
   "outputs": [
    {
     "data": {
      "image/png": "[encoded data removed]",
      "text/plain": [
       "<Figure size 432x288 with 1 Axes>"
      ]
     },
     "metadata": {},
     "output_type": "display_data"
    }
   ],
   "source": [
    "# Heat Map \n",
    "\n",
    "matrix = np.cov(x,y).round(decimals=2)\n",
    "fig,ax = plt.subplots()\n",
    "ax.imshow(matrix)\n",
    "ax.grid(False)\n",
    "ax.xaxis.set(ticks=(0,1),ticklabels=('x','y'))\n",
    "ax.yaxis.set(ticks=(0,1), ticklabels=('x','y'))\n",
    "ax.set_ylim(1.5,-0.5)\n",
    "for i in range(2): \n",
    "    for j in range(2): \n",
    "        ax.text(j,i ,matrix[i,j], ha='center',va='center',color='w')\n",
    "plt.show()    "
   ]
  },
  {
   "cell_type": "code",
   "execution_count": 177,
   "id": "126251f7",
   "metadata": {},
   "outputs": [
    {
     "data": {
      "image/png": "[encoded data removed]",
      "text/plain": [
       "<Figure size 432x288 with 1 Axes>"
      ]
     },
     "metadata": {},
     "output_type": "display_data"
    }
   ],
   "source": [
    "\n",
    "matrix = np.corrcoef(x,y).round(decimals=2)\n",
    "fig,ax = plt.subplots()\n",
    "ax.imshow(matrix)\n",
    "ax.grid(False)\n",
    "ax.xaxis.set(ticks=(0,1),ticklabels=('x','y'))\n",
    "ax.yaxis.set(ticks=(0,1), ticklabels=('x','y'))\n",
    "ax.set_ylim(1.5,-0.5)\n",
    "for i in range(2): \n",
    "    for j in range(2): \n",
    "        ax.text(j,i ,matrix[i,j], ha='center',va='center',color='w')\n",
    "plt.show()    "
   ]
  },
  {
   "cell_type": "code",
   "execution_count": null,
   "id": "31d6199d",
   "metadata": {},
   "outputs": [],
   "source": []
  }
 ],
 "metadata": {
  "kernelspec": {
   "display_name": "Python 3 (ipykernel)",
   "language": "python",
   "name": "python3"
  },
  "language_info": {
   "codemirror_mode": {
    "name": "ipython",
    "version": 3
   },
   "file_extension": ".py",
   "mimetype": "text/x-python",
   "name": "python",
   "nbconvert_exporter": "python",
   "pygments_lexer": "ipython3",
   "version": "3.9.12"
  }
 },
 "nbformat": 4,
 "nbformat_minor": 5
}
