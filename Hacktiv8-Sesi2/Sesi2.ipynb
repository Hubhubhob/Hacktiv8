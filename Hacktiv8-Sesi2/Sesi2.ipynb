{
 "cells": [
  {
   "cell_type": "markdown",
   "id": "3f9ff4b7",
   "metadata": {},
   "source": [
    "# Catatan Sesi 2"
   ]
  },
  {
   "cell_type": "markdown",
   "id": "fe8e8097",
   "metadata": {},
   "source": [
    "## ANDREAS DIMAS CHRSITANTO PYTN-KS08-017\n"
   ]
  },
  {
   "cell_type": "markdown",
   "id": "8a4ad0ac",
   "metadata": {},
   "source": [
    "#### Conditions, Control Flow, & Looping"
   ]
  },
  {
   "cell_type": "markdown",
   "id": "8f9c108c",
   "metadata": {},
   "source": []
  },
  {
   "cell_type": "markdown",
   "id": "08027181",
   "metadata": {},
   "source": [
    "##### Conditional "
   ]
  },
  {
   "cell_type": "markdown",
   "id": "15e4e556",
   "metadata": {},
   "source": [
    "###### Introductionn to rhe IF statement"
   ]
  },
  {
   "cell_type": "code",
   "execution_count": 11,
   "id": "abb76fa8",
   "metadata": {},
   "outputs": [
    {
     "name": "stdout",
     "output_type": "stream",
     "text": [
      "yes\n",
      "yes\n",
      "yes\n",
      "After conditional\n"
     ]
    }
   ],
   "source": [
    "#\n",
    "x = 0\n",
    "y = 5\n",
    "\n",
    "if (x < y):\n",
    "    print('yes') # Truthy\n",
    "\n",
    "if (y < x):\n",
    "    print('yes') # Falsy\n",
    "\n",
    "if (x):\n",
    "    print('yes') # Falsy\n",
    "\n",
    "if (y):\n",
    "    print('yes') # Truthy\n",
    "\n",
    "if ('aul' in 'grault'): # Truthy\n",
    "    print('yes')\n",
    "\n",
    "if ('quux' in ['foo', 'bar', 'baz']): # Falsy\n",
    "    print('yes')\n",
    "\n",
    "# Grouping Statements: Identation and Blocks\n",
    "if ('foo' in ['bar', 'baz', 'qux']):\n",
    "    print('Expression was true')\n",
    "    print('Executing statement in suite')\n",
    "    print('...')\n",
    "    print('Done.')\n",
    "\n",
    "print('After conditional')"
   ]
  },
  {
   "cell_type": "code",
   "execution_count": 12,
   "id": "20d6000b",
   "metadata": {},
   "outputs": [
    {
     "name": "stdout",
     "output_type": "stream",
     "text": [
      "Outer condition is true\n",
      "Between inner conditions\n",
      "Inner condition 2\n",
      "End of outer condition\n",
      "After outer condition\n"
     ]
    }
   ],
   "source": [
    "# Does line execute?                     Yes     No\n",
    "#                                        ---     --\n",
    "if ('foo' in ['foo', 'bar', 'baz']):    # X\n",
    "    print('Outer condition is true')    # X\n",
    "\n",
    "    if (10 > 20):                       # X\n",
    "        print('Inner condition 1')      #        X\n",
    "    print('Between inner conditions')   # X\n",
    "\n",
    "    if (10 < 20):\n",
    "        print('Inner condition 2')      # X\n",
    "    print('End of outer condition')     # X\n",
    "\n",
    "print('After outer condition')          # X"
   ]
  },
  {
   "cell_type": "markdown",
   "id": "b292e2ab",
   "metadata": {},
   "source": [
    "##### The Else and Elif Clauses"
   ]
  },
  {
   "cell_type": "code",
   "execution_count": 13,
   "id": "5be915d9",
   "metadata": {},
   "outputs": [
    {
     "name": "stdout",
     "output_type": "stream",
     "text": [
      "(first suite)\n",
      "x is small\n"
     ]
    }
   ],
   "source": [
    "# EXE 1\n",
    "x = 20\n",
    "\n",
    "if (x < 50):\n",
    "    print('(first suite)')\n",
    "    print('x is small')\n",
    "else:\n",
    "    print('(second suite)')\n",
    "    print('x is large')"
   ]
  },
  {
   "cell_type": "code",
   "execution_count": 14,
   "id": "5c631965",
   "metadata": {},
   "outputs": [
    {
     "name": "stdout",
     "output_type": "stream",
     "text": [
      "(second suite)\n",
      "x is large\n"
     ]
    }
   ],
   "source": [
    "x = 120\n",
    "\n",
    "if (x < 50):\n",
    "    print('(first suite)')\n",
    "    print('x is small')\n",
    "else:\n",
    "    print('(second suite)')\n",
    "    print('x is large')"
   ]
  },
  {
   "cell_type": "code",
   "execution_count": 15,
   "id": "78beebf1",
   "metadata": {},
   "outputs": [
    {
     "name": "stdout",
     "output_type": "stream",
     "text": [
      "Uang tidak cukup!\n"
     ]
    }
   ],
   "source": [
    "hargaBuku = 20000\n",
    "hargaMajalah = 5000\n",
    "uang = 2000\n",
    "\n",
    "if (uang > hargaBuku):\n",
    "    print(\"Beli buku\")\n",
    "else:\n",
    "    print(\"Uang tidak cukup!\")"
   ]
  },
  {
   "cell_type": "code",
   "execution_count": 16,
   "id": "2ae24559",
   "metadata": {},
   "outputs": [
    {
     "name": "stdout",
     "output_type": "stream",
     "text": [
      "Uang tidak cukup!\n"
     ]
    }
   ],
   "source": [
    "hargaBuku = 20000\n",
    "hargaMajalah = 5000\n",
    "uang = 2000\n",
    "\n",
    "if (uang > hargaBuku):\n",
    "    print(\"Beli buku\")\n",
    "elif (uang > hargaMajalah):\n",
    "    print(\"Beli majalah\")\n",
    "else:\n",
    "    print(\"Uang tidak cukup!\")"
   ]
  },
  {
   "cell_type": "code",
   "execution_count": 17,
   "id": "7d4f2b30",
   "metadata": {},
   "outputs": [
    {
     "ename": "SyntaxError",
     "evalue": "unterminated string literal (detected at line 7) (2412400237.py, line 7)",
     "output_type": "error",
     "traceback": [
      "\u001b[1;36m  Input \u001b[1;32mIn [17]\u001b[1;36m\u001b[0m\n\u001b[1;33m    elif (name == 'Bro):\u001b[0m\n\u001b[1;37m                  ^\u001b[0m\n\u001b[1;31mSyntaxError\u001b[0m\u001b[1;31m:\u001b[0m unterminated string literal (detected at line 7)\n"
     ]
    }
   ],
   "source": [
    "name = 'Bro'\n",
    "\n",
    "if (name == 'Leon'):\n",
    "    print(\"Hello, Leon!\")\n",
    "elif (name == 'Ryan'):\n",
    "    print(\"Hello, Ryan!\")\n",
    "elif (name == 'Bro):\n",
    "    print(\"Hello, Bro!\")\n",
    "elif (name == 'Kristan'):\n",
    "    print(\"Hello, Kristan!\")\n",
    "else:\n",
    "    print(\"I don't know who you are!\")"
   ]
  },
  {
   "cell_type": "code",
   "execution_count": null,
   "id": "9e264d4f",
   "metadata": {},
   "outputs": [
    {
     "name": "stdout",
     "output_type": "stream",
     "text": [
      "foo\n"
     ]
    }
   ],
   "source": [
    "if ('a' in 'bar'):\n",
    "    print('foo')\n",
    "elif (1 / 0):\n",
    "    print(\"This won't happen.\")\n",
    "elif (var):\n",
    "    print(\"This won't happen.\") "
   ]
  },
  {
   "cell_type": "markdown",
   "id": "c2961f44",
   "metadata": {},
   "source": [
    "Python While Loops"
   ]
  },
  {
   "cell_type": "code",
   "execution_count": null,
   "id": "341c83b9",
   "metadata": {},
   "outputs": [],
   "source": [
    "n = 5\n",
    "while (n > 0):\n",
    "    n -= 1\n",
    "    print(n)"
   ]
  },
  {
   "cell_type": "code",
   "execution_count": null,
   "id": "3686f638",
   "metadata": {},
   "outputs": [],
   "source": [
    "i = 1\n",
    "while (i < 6):\n",
    "    print(i)\n",
    "    i += 1"
   ]
  },
  {
   "cell_type": "markdown",
   "id": "0f943c00",
   "metadata": {},
   "source": [
    "The Python break and continue Statements"
   ]
  },
  {
   "cell_type": "code",
   "execution_count": null,
   "id": "1867d80b",
   "metadata": {},
   "outputs": [
    {
     "name": "stdout",
     "output_type": "stream",
     "text": [
      "4\n",
      "3\n",
      "Loop ended.\n",
      "4\n",
      "3\n",
      "1\n",
      "0\n",
      "Loop ended.\n"
     ]
    }
   ],
   "source": [
    "# Break\n",
    "n = 5\n",
    "while (n > 0):\n",
    "    n -= 1\n",
    "    if (n == 2):\n",
    "        break\n",
    "    print(n)\n",
    "print('Loop ended.')\n",
    "\n",
    "# Continue\n",
    "n = 5\n",
    "while (n > 0):\n",
    "    n -= 1\n",
    "    if (n == 2):\n",
    "        continue\n",
    "    print(n)\n",
    "print('Loop ended.')"
   ]
  },
  {
   "cell_type": "markdown",
   "id": "77ea277b",
   "metadata": {},
   "source": [
    "Infinite Loops"
   ]
  },
  {
   "cell_type": "code",
   "execution_count": null,
   "id": "6b748bbe",
   "metadata": {},
   "outputs": [],
   "source": [
    "while (True):\n",
    "    print('foo')"
   ]
  },
  {
   "cell_type": "markdown",
   "id": "e1931eb6",
   "metadata": {},
   "source": [
    "Nested while Loops"
   ]
  },
  {
   "cell_type": "code",
   "execution_count": null,
   "id": "ba8c31e0",
   "metadata": {},
   "outputs": [
    {
     "ename": "NameError",
     "evalue": "name 'age' is not defined",
     "output_type": "error",
     "traceback": [
      "\u001b[1;31m---------------------------------------------------------------------------\u001b[0m",
      "\u001b[1;31mNameError\u001b[0m                                 Traceback (most recent call last)",
      "\u001b[1;32mc:\\Users\\KRISMANTO\\Hacktiv8\\Hacktiv8-Sesi2\\Sesi2.ipynb Cell 22\u001b[0m in \u001b[0;36m<cell line: 1>\u001b[1;34m()\u001b[0m\n\u001b[1;32m----> <a href='vscode-notebook-cell:/c%3A/Users/KRISMANTO/Hacktiv8/Hacktiv8-Sesi2/Sesi2.ipynb#X31sZmlsZQ%3D%3D?line=0'>1</a>\u001b[0m \u001b[39mif\u001b[39;00m (age \u001b[39m<\u001b[39m \u001b[39m18\u001b[39m):\n\u001b[0;32m      <a href='vscode-notebook-cell:/c%3A/Users/KRISMANTO/Hacktiv8/Hacktiv8-Sesi2/Sesi2.ipynb#X31sZmlsZQ%3D%3D?line=1'>2</a>\u001b[0m     \u001b[39mif\u001b[39;00m (gender \u001b[39m==\u001b[39m \u001b[39m'\u001b[39m\u001b[39mM\u001b[39m\u001b[39m'\u001b[39m):\n\u001b[0;32m      <a href='vscode-notebook-cell:/c%3A/Users/KRISMANTO/Hacktiv8/Hacktiv8-Sesi2/Sesi2.ipynb#X31sZmlsZQ%3D%3D?line=2'>3</a>\u001b[0m         \u001b[39mprint\u001b[39m(\u001b[39m'\u001b[39m\u001b[39mson\u001b[39m\u001b[39m'\u001b[39m)\n",
      "\u001b[1;31mNameError\u001b[0m: name 'age' is not defined"
     ]
    }
   ],
   "source": [
    "if (age < 18):\n",
    "    if (gender == 'M'):\n",
    "        print('son')\n",
    "    else:\n",
    "        print('daughter')\n",
    "elif (age >= 18 and age < 65):\n",
    "    if (gender == 'M'):\n",
    "        print('father')\n",
    "    else:\n",
    "        print('Mother')\n",
    "else:\n",
    "    if (gender == 'M'):\n",
    "        print('grandfather')\n",
    "    else:\n",
    "        print('grandmother')"
   ]
  },
  {
   "cell_type": "code",
   "execution_count": null,
   "id": "87556c6f",
   "metadata": {},
   "outputs": [
    {
     "name": "stdout",
     "output_type": "stream",
     "text": [
      "foo\n",
      "> baz\n",
      "> qux\n",
      "bar\n",
      "> baz\n",
      "> qux\n"
     ]
    }
   ],
   "source": [
    "a = ['foo', 'bar']\n",
    "\n",
    "while (len(a)):\n",
    "    print(a.pop(0))\n",
    "\n",
    "    b = ['baz', 'qux']\n",
    "\n",
    "    while len(b):\n",
    "        print('>', b.pop(0))"
   ]
  },
  {
   "cell_type": "markdown",
   "id": "e06e0b55",
   "metadata": {},
   "source": [
    "One-Line while Loops"
   ]
  },
  {
   "cell_type": "code",
   "execution_count": null,
   "id": "c67f944a",
   "metadata": {},
   "outputs": [
    {
     "name": "stdout",
     "output_type": "stream",
     "text": [
      "4\n",
      "3\n",
      "2\n",
      "1\n",
      "0\n"
     ]
    }
   ],
   "source": [
    "n = 5\n",
    "while (n > 0): n -= 1; print(n)"
   ]
  },
  {
   "cell_type": "code",
   "execution_count": null,
   "id": "86cb43ee",
   "metadata": {},
   "outputs": [],
   "source": [
    "# Case 1\n",
    "a = ['foo', 'bar', 'baz']\n",
    "for i in (a):\n",
    "    print(i)\n",
    "\n",
    "# Case 2\n",
    "d = {'foo': 1, 'bar': 2, 'baz': 3}\n",
    "for k in (d):\n",
    "    print(k)\n",
    "\n",
    "# Case 3\n",
    "for k in (d):\n",
    "    print(d[k])\n",
    "\n",
    "# Case 4\n",
    "for k in (d.values()):\n",
    "    print(k)\n",
    "\n",
    "# Case 5\n",
    "for k, v in (d.items()):\n",
    "    print(k, \":\", v)"
   ]
  },
  {
   "cell_type": "code",
   "execution_count": null,
   "id": "4f93ea4d",
   "metadata": {},
   "outputs": [],
   "source": [
    "x = range(5)\n",
    "\n",
    "for n in (x):\n",
    "    print(n)\n",
    "\n"
   ]
  },
  {
   "cell_type": "markdown",
   "id": "e1488227",
   "metadata": {},
   "source": [
    "The Else Clause"
   ]
  },
  {
   "cell_type": "code",
   "execution_count": null,
   "id": "a7ef2eb1",
   "metadata": {},
   "outputs": [],
   "source": [
    "for i in ['foo', 'bar', 'baz', 'qux']:\n",
    "    print(i)\n",
    "else:\n",
    "    print('Done.') # Will execute"
   ]
  },
  {
   "cell_type": "code",
   "execution_count": null,
   "id": "b58506eb",
   "metadata": {},
   "outputs": [],
   "source": [
    "for i in ['foo', 'bar', 'baz', 'qux']:\n",
    "    if i == 'bar':\n",
    "        break\n",
    "    print(i)\n",
    "else:\n",
    "    print('Done.') # Will not execute"
   ]
  },
  {
   "cell_type": "markdown",
   "id": "7f1e93dd",
   "metadata": {},
   "source": [
    "Try And Error With Case Temperature"
   ]
  },
  {
   "cell_type": "code",
   "execution_count": 10,
   "id": "d490e65e",
   "metadata": {},
   "outputs": [
    {
     "name": "stdout",
     "output_type": "stream",
     "text": [
      "45\n",
      "Temperaturnya adalah 113 derajat\n"
     ]
    }
   ],
   "source": [
    "temp = input(\"Ketikkan temperatur yang ingin dikonversi, eg. 45F, 120C: \")\n",
    "degree = int(temp[:-1])\n",
    "i_convertion = temp[-1]\n",
    "\n",
    "if (i_convertion == \"C\" or i_convertion == \"c\"):\n",
    "    result = int(round((9 * degree) / 5 + 32))\n",
    "elif (i_convertion == \"F\" or i_convertion == \"f\"):\n",
    "    result = int(round((degree - 32) * 5 / 9))\n",
    "else:\n",
    "    print(\"Masukkan input yang benar\")\n",
    "print(degree)\n",
    "print(\"Temperaturnya adalah\", result, \"derajat\")"
   ]
  },
  {
   "cell_type": "code",
   "execution_count": 9,
   "id": "186fc4d1",
   "metadata": {},
   "outputs": [
    {
     "name": "stdout",
     "output_type": "stream",
     "text": [
      "12c\n",
      "78c\n",
      "fghj\n",
      "n,\n",
      ",'\n",
      "l\n",
      "l\n",
      "l\n",
      "l\n",
      "ll\n",
      "l\n",
      "\n",
      "llll\n",
      "l6789\n",
      "cls\n",
      "clear\n",
      "stop\n"
     ]
    }
   ],
   "source": [
    "while (True):\n",
    "    msg = input(\"Ketikkan karakter: \").lower()  \n",
    "    print(msg)\n",
    "    if (msg == \"stop\"):\n",
    "        break"
   ]
  }
 ],
 "metadata": {
  "kernelspec": {
   "display_name": "Python 3.10.6 64-bit (microsoft store)",
   "language": "python",
   "name": "python3"
  },
  "language_info": {
   "codemirror_mode": {
    "name": "ipython",
    "version": 3
   },
   "file_extension": ".py",
   "mimetype": "text/x-python",
   "name": "python",
   "nbconvert_exporter": "python",
   "pygments_lexer": "ipython3",
   "version": "3.10.6"
  },
  "vscode": {
   "interpreter": {
    "hash": "82cfb9355cd4a84fcb8b00d922438d2e2ce306af33a9c3a4fcd35f64e1697b15"
   }
  }
 },
 "nbformat": 4,
 "nbformat_minor": 5
}
