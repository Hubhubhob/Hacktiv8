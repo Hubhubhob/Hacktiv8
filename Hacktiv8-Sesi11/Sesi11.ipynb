{
 "cells": [
  {
   "cell_type": "markdown",
   "id": "f09e9cb8",
   "metadata": {},
   "source": [
    "<img src=\"https://lh3.googleusercontent.com/RF732BF33x9KZfm9GTxSyHSQbmlk4qF9buyVcgu3Mu9ZZAkR7T1QrjBk2j5tuS8nTXFccX6a6mcBTKwGmoFlKWHU18WAYGJgbEfUsiw=w680\" width=\"400\" align=\"center\">\n"
   ]
  },
  {
   "cell_type": "markdown",
   "id": "80a73319",
   "metadata": {},
   "source": [
    "# Catatan Sesi 11"
   ]
  },
  {
   "cell_type": "markdown",
   "id": "7495a628",
   "metadata": {},
   "source": [
    "## Regression\n",
    "Regression analysis adalah salah satu bidang terpenting dalam statistik dan machine learning.\n",
    "\n",
    "## What is Regression?\n",
    "Regression mencari hubungan antara variabel.\n",
    "\n",
    "Regression adalah bentuk lain dari supervised learning. Perbedaan antara classification dan regression adalah bahwa regression menghasilkan angka daripada kelas. Oleh karena itu, regression berguna saat memprediksi masalah berbasis angka seperti harga pasar saham, suhu, untuk hari tertentu, atau probabilitas suatu peristiwa.\n",
    "\n",
    "Secara umum, dalam regression analysis, kita biasanya mempertimbangkan beberapa fenomena yang menarik dan memiliki sejumlah pengamatan. Setiap observasi memiliki dua atau lebih fitur. Mengikuti asumsi bahwa (setidaknya) salah satu fiture bergantung pada yang lain, kita mencoba membangun hubungan di antara fitur tersebut.\n",
    "\n",
    "Dengan kata lain, kita perlu menemukan fungsi yang memetakan beberapa fitur atau variabel ke fitur lain dengan cukup baik\n",
    "\n",
    "Fitur dependen/dependent features disebut variabel dependen/dependent variables, output, atau responses.\n",
    "\n",
    "Fitur independen/independent features disebut variabel independen/independent variables, input, atau predictors.\n",
    "\n",
    "Masalah regresi biasanya memiliki satu variabel dependen yang kontinu dan tidak terbatas. Namun, masukan dapat berupa data kontinu, diskrit, atau bahkan kategorikal seperti jenis kelamin, kebangsaan, merek, dan sebagainya.\n",
    "\n",
    "Biasanya kita melambangkan output dengan 𝑦 dan input dengan 𝑥. Jika ada dua atau lebih variabel independen, mereka dapat direpresentasikan sebagai vektor 𝐱 = (𝑥₁,…, 𝑥ᵣ), di mana 𝑟 adalah jumlah input.\n",
    "\n",
    "## When Do You Need Regression?\n",
    "Biasanya, kita memerlukan regresi untuk menjawab apakah dan bagaimana beberapa fenomena memengaruhi yang lain atau bagaimana terkaitnya variabel yang ada. Misalnya, kita dapat menggunakannya untuk menentukan apakah dan sejauh mana pengalaman atau gender memengaruhi gaji.\n",
    "\n",
    "Regresi juga berguna saat kita ingin meramalkan respons menggunakan kumpulan prediktor baru. Misalnya, kita dapat mencoba memprediksi konsumsi listrik rumah tangga untuk satu jam ke depan dengan melihat suhu luar ruangan, waktu, dan jumlah penduduk dalam rumah tersebut.\n",
    "\n",
    "Regresi digunakan di berbagai bidang: ekonomi, ilmu komputer, ilmu sosial, dan sebagainya. Kepentingannya meningkat setiap hari dengan ketersediaan data dalam jumlah besar dan kesadaran yang meningkat tentang nilai praktis data.\n",
    "## Linear Regression\n",
    "Linear regression mungkin salah satu teknik regresi yang paling penting dan banyak digunakan. Ini adalah salah satu metode regresi yang paling sederhana. Salah satu keuntungan utamanya adalah kemudahan interpretasi hasil.\n",
    "\n",
    "## Problem Formulation\n",
    "Saat menerapkan linear regression dari beberaoa variabel dependen 𝑦 pada himpunan variabel independen 𝐱 = (𝑥₁,…, 𝑥ᵣ), di mana 𝑟 adalah jumlah prediktor, kita mengasumsikan linear relationship antara 𝑦 dan 𝐱: 𝑦 = 𝛽₀ + 𝛽₁𝑥₁ + 𝛽₁𝑥₁ + 𝛽ᵣ𝑥ᵣ + 𝜀. Persamaan ini adalah persamaan regresi. 𝛽₀, 𝛽₁,…, 𝛽ᵣ adalah koefisien regresi, dan 𝜀 adalah random error.\n",
    "\n",
    "Linear regression menghitung estimators dari koefisien regresi atau predicted weights, dilambangkan dengan 𝑏₀, 𝑏₁,…, 𝑏ᵣ. Koefisien regresi mendefinisikan estimated regression function 𝑓 (𝐱) = 𝑏₀ + 𝑏₁𝑥₁ + ⋯ + 𝑏ᵣ𝑥ᵣ. Fungsi ini harus menangkap ketergantungan antara input dan output dengan cukup baik.\n",
    "\n",
    "Estimated atau predicted response, 𝑓 (𝐱ᵢ), untuk setiap pengamatan 𝑖 = 1,…, 𝑛, harus sedekat mungkin dengan actual response yang sesuai 𝑦ᵢ. Perbedaan 𝑦ᵢ - 𝑓 (𝐱ᵢ) untuk semua pengamatan 𝑖 = 1,…, 𝑛, disebut residuals. Regresi adalah tentang menentukan best predicted weights, yaitu bobot yang sesuai dengan residuals terkecil.\n",
    "\n",
    "Untuk mendapatkan bobot terbaik, biasanya kita meminimalkan sum of squared residuals (SSR) untuk semua pengamatan 𝑖 = 1,…, 𝑛: SSR = Σᵢ (𝑦ᵢ - 𝑓 (𝐱ᵢ)) ². Pendekatan ini disebut method of ordinary least squares.\n",
    "\n",
    "## Regression Performance\n",
    "Variasi respon aktual 𝑦ᵢ, 𝑖 = 1,…, 𝑛, terjadi sebagian karena ketergantungan pada prediktor 𝐱ᵢ. Namun, ada juga varian tambahan yang melekat pada output.\n",
    "\n",
    "Coefficient of determination, dilambangkan sebagai 𝑅², memberi tahu kita berapa banyak variasi dalam 𝑦 yang dapat dijelaskan oleh ketergantungan pada 𝐱 menggunakan model regresi tertentu. Lebih besar 𝑅² menunjukkan kesesuaian yang lebih baik dan berarti bahwa model dapat menjelaskan variasi keluaran dengan masukan yang berbeda dengan lebih baik.\n",
    "\n",
    "Nilai 𝑅² = 1 sesuai dengan SSR = 0, yaitu perfect fit karena nilai prediksi dan respons aktual saling cocok satu sama lain.\n",
    "\n",
    "## Simple Linear Regression\n",
    "Simple atau single-variate linear regression adalah kasus regresi linier yang paling sederhana dengan variabel independen tunggal, 𝐱 = 𝑥.\n",
    "\n",
    "Saat menerapkan simple linear regression, kita biasanya mulai dengan kumpulan pasangan input-output (𝑥-𝑦) tertentu (lingkaran hijau). Pasangan ini adalah observasi kita. Misalnya, pengamatan paling kiri (lingkaran hijau) memiliki masukan 𝑥 = 5 dan keluaran aktual (tanggapan) 𝑦 = 5. Yang berikutnya memiliki 𝑥 = 15 dan 𝑦 = 20, dan seterusnya.\n",
    "\n",
    "Estimated regression function (garis hitam) memiliki persamaan 𝑓 (𝑥) = 𝑏₀ + 𝑏₁𝑥. Tujuan kita adalah menghitung nilai optimal dari bobot prediksi 𝑏₀ dan 𝑏₁ yang meminimalkan SSR (Sum of Squares Regression) dan menentukan estimated regression function. Nilai 𝑏₀, juga disebut intercept, menunjukkan titik di mana garis regresi yang diperkirakan melintasi sumbu 𝑦. Ini adalah nilai perkiraan respon 𝑓 (𝑥) untuk 𝑥 = 0. Nilai 𝑏₁ menentukan kemiringan/slope garis regresi yang diperkirakan.\n",
    "\n",
    "Predicted responses (kotak merah) adalah titik-titik pada regression line yang sesuai dengan nilai input. Misalnya, untuk input 𝑥 = 5, respons yang diprediksi adalah 𝑓 (5) = 8,33 (diwakili dengan kotak merah paling kiri).\n",
    "\n",
    "Residuals (garis abu-abu putus-putus vertikal) dapat dihitung sebagai 𝑦ᵢ - 𝑓 (𝐱ᵢ) = 𝑦ᵢ - 𝑏₀ - 𝑏₁𝑥ᵢ untuk 𝑖 = 1,…, 𝑛. Itu adalah jarak antara lingkaran hijau dan kotak merah. Saat kita menerapkan regresi linier, kita sebenarnya mencoba meminimalkan jarak ini dan membuat kotak merah sedekat mungkin dengan lingkaran hijau yang telah ditentukan sebelumnya.\n",
    "\n",
    "## Multiple Linear Regression\n",
    "Multiple atau multivariate linear regression adalah kasus regresi linier dengan dua atau lebih independent variables.\n",
    "\n",
    "Jika hanya ada dua independent variables, estimated regression function-nya adalah 𝑓 (𝑥₁, 𝑥₂) = 𝑏₀ + 𝑏₁𝑥₁ + 𝑏₂𝑥₂. Ini mewakili bidang regresi dalam ruang tiga dimensi. Tujuan dari regresi adalah untuk menentukan nilai bobot 𝑏₀, 𝑏₁, dan 𝑏₂ sedemikian rupa sehingga bidang ini sedekat mungkin dengan respons aktual dan menghasilkan SSR minimal.\n",
    "\n",
    "Kasus lebih dari dua independent variables adalah serupa, tetapi lebih umum. Estimated regression function adalah 𝑓 (𝑥₁,…, 𝑥ᵣ) = 𝑏₀ + 𝑏₁𝑥₁ + ⋯ + 𝑏ᵣ𝑥ᵣ, dan ada 𝑟 + 1 bobot yang harus ditentukan jika jumlah masukan adalah 𝑟.\n",
    "\n",
    "## Polynomial Regression\n",
    "Kita dapat menganggap polynomial regression sebagai kasus umum linear regression. Kita mengasumsikan polynomial dependence antara output dan inputs , dan menghasilkan, polynomial estimated regression function.\n",
    "\n",
    "Dengan kata lain, selain istilah linier seperti 𝑏₁𝑥₁, fungsi regresi kita 𝑓 dapat menyertakan istilah non-linier seperti 𝑏₂𝑥₁², 𝑏₃𝑥₁³, atau bahkan 𝑏₄𝑥₁𝑥₂, 𝑏₅𝑥₁²𝑥₂, dan seterusnya.\n",
    "\n",
    "Contoh paling sederhana dari polynomial regression memiliki satu independent variable, dan estimated regression function adalah polynomial of degree 2: 𝑓 (𝑥) = 𝑏₀ + 𝑏₁𝑥 + 𝑏₂𝑥². Sekarang, ingatlah bahwa kita ingin menghitung 𝑏₀, 𝑏₁, dan 𝑏₂, yang meminimalkan SSR.\n",
    "\n",
    "Dengan mengingat hal ini, bandingkan regression function sebelumnya dengan fungsi 𝑓 (𝑥₁, 𝑥₂) = 𝑏₀ + 𝑏₁𝑥₁ + 𝑏₂𝑥₂ yang digunakan untuk linear regression. Mereka terlihat sangat mirip dan keduanya merupakan linear functions of the unknowns 𝑏₀, 𝑏₁, dan 𝑏₂. Inilah mengapa kita dapat menyelesaikan polynomial regression problem sebagai linier problem dengan istilah 𝑥² dianggap sebagai input variable.\n",
    "\n",
    "Dalam kasus dua variabel dan polynomial of degree 2, regression function memiliki bentuk ini: 𝑓 (𝑥₁, 𝑥₂) = 𝑏₀ + 𝑏₁𝑥₁ + 𝑏₂𝑥₂ + 𝑏₃𝑥₁² + 𝑏₄𝑥₁𝑥₂ + 𝑏₅𝑥₂². Prosedur penyelesaian masalah identik dengan kasus sebelumnya. Kita menerapkan regresi linier untuk lima masukan: 𝑥₁, 𝑥₂, 𝑥₁², 𝑥₁𝑥₂, dan 𝑥₂². Hasil dari regresi adalah nilai dari enam bobot yang meminimalkan SSR: 𝑏₀, 𝑏₁, 𝑏₂, 𝑏₃, 𝑏₄, dan 𝑏₅.\n",
    "\n",
    "## Underfitting and Overfitting\n",
    "Satu pertanyaan sangat penting yang mungkin muncul saat kita menerapkan polynomial regression terkait dengan pilihan optimal degree dari polynomial regression function.\n",
    "\n",
    "Tidak ada aturan langsung untuk melakukan ini. Tergantung kasusnya. Namun, kita harus menyadari dua masalah yang mungkin mengikuti choice of the degree: underfitting dan overfitting.\n",
    "\n",
    "Underfitting terjadi jika model tidak dapat menangkap dependensi di antara data secara akurat, biasanya sebagai konsekuensi dari kesederhanaannya sendiri. Seringkali menghasilkan 𝑅² rendah dengan data yang diketahui dan kemampuan generalisasi yang buruk saat diterapkan dengan data baru.\n",
    "\n",
    "Overfitting terjadi saat model mempelajari dependensi di antara data dan fluktuasi acak. Dengan kata lain, model mempelajari data yang ada dengan terlalu baik. Model kompleks, yang memiliki banyak fitur atau istilah, sering kali cenderung overfitting. Ketika diterapkan pada data yang diketahui, model seperti itu biasanya menghasilkan 𝑅² yang tinggi. Namun, mereka sering tidak menggeneralisasi dengan baik dan memiliki lebih rendah secara signifikan 𝑅² saat digunakan dengan data baru.\n",
    "\n",
    "Gambar berikut mengilustrasikan model underfitted, well-fit, dan overfitted:\n",
    "\n",
    "Plot kiri atas menunjukkan garis linear regression yang memiliki 𝑅² rendah. Mungkin juga penting bahwa garis lurus tidak dapat mengambil fakta bahwa actual response meningkat saat 𝑥 menjauh dari 25 menuju nol. Ini adalah contoh underfitting.\n",
    "\n",
    "Plot kanan atas menggambarkanpolynomial regression dengan degree sama dengan 2. Dalam contoh ini, mungkin derajat optimal untuk memodelkan data tersebut. Model ini memiliki nilai 𝑅² yang memuaskan dalam banyak kasus dan menunjukkan tren dengan baik.\n",
    "\n",
    "Plot kiri bawah menampilkan polynomial regression dengan degree sama dengan 3. Nilai 𝑅² lebih tinggi dari pada kasus sebelumnya. Model ini berperilaku lebih baik dengan data yang diketahui daripada yang sebelumnya. Namun, ini menunjukkan beberapa tanda overfitting, terutama untuk nilai input yang mendekati 60 saat garis mulai menurun, meskipun data sebenarnya tidak menunjukkannya.\n",
    "\n",
    "Akhirnya, pada plot kanan bawah, kita dapat melihat kesesuaian yang sempurna: enam titik dan polynomial line dengan derajat 5 (atau lebih tinggi) menghasilkan 𝑅² = 1. Setiap respons aktual sama dengan prediksi yang sesuai.\n",
    "\n",
    "Dalam beberapa situasi, ini mungkin yang kita cari. Namun, dalam banyak kasus, ini adalah model yang terlalu pas. Ini cenderung memiliki perilaku yang buruk dengan data yang tidak terlihat, terutama dengan input yang lebih besar dari 50.\n",
    "\n",
    "Sebagai contoh, ini mengasumsikan, tanpa bukti apapun, bahwa terdapat penurunan yang signifikan dalam respon untuk 𝑥> 50 dan 𝑦 mencapai nol untuk 𝑥 mendekati 60. Perilaku tersebut merupakan konsekuensi dari usaha yang berlebihan untuk mempelajari dan menyesuaikan dengan data yang ada.\n",
    "\n",
    "\n",
    "## Implementing Linear Regression in Python\n",
    "### Simple Linear Regression with scikit-learn\n",
    "Mari kita mulai dengan kasus paling sederhana, yaitu simple linear regression.\n",
    "\n",
    "Ada lima langkah dasar saat kita menerapkan simple linear regression:\n",
    "\n",
    "Import the packages and classes you need.\n",
    "Provide data to work with and eventually do appropriate transformations.\n",
    "Create a regression model and fit it with existing data.\n",
    "Check the results of model fitting to know whether the model is satisfactory.\n",
    "Apply the model for predictions.\n",
    "##### Step 1: Import packages and classes\n",
    "\n",
    "Langkah pertama adalah mengimpor package numpy dan class LinearRegression dari sklearn.linear_model yang akan digunakan untuk melakukan linear dan polynomial regression serta membuat prediksi yang sesuai."
   ]
  },
  {
   "cell_type": "code",
   "execution_count": 2,
   "id": "5c631965",
   "metadata": {},
   "outputs": [],
   "source": [
    "import numpy as np\n",
    "import matplotlib.pyplot as plt\n",
    "from sklearn.linear_model import LinearRegression\n",
    "\n",
    "%matplotlib inline"
   ]
  },
  {
   "cell_type": "markdown",
   "id": "d27f8a39",
   "metadata": {},
   "source": [
    "#### Step 2: Provide Data\n",
    "\n",
    "Langkah kedua adalah menentukan data untuk dikerjakan. Input (regressors, x) dan output (predictor, y) harus berupa array (instance kelas numpy.ndarray) atau objek serupa. Ini adalah cara paling sederhana dalam membuat data untuk regression:"
   ]
  },
  {
   "cell_type": "code",
   "execution_count": 3,
   "id": "a7f65b20",
   "metadata": {},
   "outputs": [],
   "source": [
    "x = np.array([5, 15, 25, 35, 45, 55]).reshape((-1, 1))\n",
    "y = np.array([5, 20, 14, 32, 22, 38])"
   ]
  },
  {
   "cell_type": "markdown",
   "id": "8fd18c24",
   "metadata": {},
   "source": [
    "Sekarang, kita memiliki dua array: input x dan output y. Kita harus memanggil .reshape() pada x karena array ini harus dua dimensi, atau lebih tepatnya, memiliki satu kolom dan baris sebanyak yang diperlukan. Persis seperti itulah yang ditentukan oleh argumen **.reshape((-1, 1))**"
   ]
  },
  {
   "cell_type": "code",
   "execution_count": 4,
   "id": "6fbfaa1f",
   "metadata": {},
   "outputs": [
    {
     "name": "stdout",
     "output_type": "stream",
     "text": [
      "[[ 5]\n",
      " [15]\n",
      " [25]\n",
      " [35]\n",
      " [45]\n",
      " [55]] [ 5 20 14 32 22 38]\n"
     ]
    }
   ],
   "source": [
    "print(x, y)\n"
   ]
  },
  {
   "cell_type": "markdown",
   "id": "bd8f3743",
   "metadata": {},
   "source": [
    "### Step 3: Create a model and fit it\n",
    "\n",
    "Langkah selanjutnay adalah embuat linear regression model dan fit dengan data yang ada.\n",
    "\n",
    "Mari buat instance class LinearRegression, yang akan mewakili regression model:\n",
    "\n"
   ]
  },
  {
   "cell_type": "code",
   "execution_count": 5,
   "id": "b4859a83",
   "metadata": {},
   "outputs": [],
   "source": [
    "model = LinearRegression()"
   ]
  },
  {
   "cell_type": "markdown",
   "id": "302831b8",
   "metadata": {},
   "source": [
    "Pertanyaan ini membuat variabel model sebagai instance dari LinearRegression. Kita dapat memberikan beberapa parameter opsional untuk LinearRegression:\n",
    "\n",
    "- fit_intercept adalah Boolean (True secara default) yang memutuskan apakah akan menghitung intersep (True) atau menganggapnya sama dengan nol (False).\n",
    "- normalize adalah Boolean (False secara default) yang memutuskan apakah akan menormalkan variabel input (True) atau tidak (False).\n",
    "- copy_X adalah Boolean (True secara default) yang memutuskan apakah akan menyalin (True) atau menimpa variabel input (False).\n",
    "- n_jobs adalah integer atau None (default) dan mewakili jumlah pekerjaan yang digunakan dalam komputasi paralel. None biasanya berarti satu pekerjaan dan -1 untuk menggunakan semua prosesor.\n",
    "Contoh ini menggunakan nilai default dari semua parameter.\n",
    "\n",
    "Saatnya mulai menggunakan model. Pertama, kita perlu memanggil .fit() pada model:"
   ]
  },
  {
   "cell_type": "code",
   "execution_count": 6,
   "id": "4e8f13c2",
   "metadata": {},
   "outputs": [
    {
     "data": {
      "text/plain": [
       "LinearRegression()"
      ]
     },
     "execution_count": 6,
     "metadata": {},
     "output_type": "execute_result"
    }
   ],
   "source": [
    "model.fit(x, y)\n"
   ]
  },
  {
   "cell_type": "code",
   "execution_count": 7,
   "id": "0968f3f9",
   "metadata": {},
   "outputs": [
    {
     "data": {
      "text/plain": [
       "LinearRegression(normalize=False)"
      ]
     },
     "execution_count": 7,
     "metadata": {},
     "output_type": "execute_result"
    }
   ],
   "source": [
    "LinearRegression(copy_X=True, fit_intercept=True, n_jobs=None, normalize=False)\n"
   ]
  },
  {
   "cell_type": "markdown",
   "id": "fbc45127",
   "metadata": {},
   "source": [
    "\n",
    "Dengan .fit(), kita menghitung nilai optimal dari bobot 𝑏₀ dan 𝑏₁, menggunakan masukan dan keluaran yang ada (x dan y) sebagai argumen. .fit() mengembalikan self, yang merupakan variable model itu sendiri. Itulah mengapa kita dapat mengganti dua pernyataan terakhir dengan yang ini:"
   ]
  },
  {
   "cell_type": "code",
   "execution_count": 8,
   "id": "76f04c79",
   "metadata": {},
   "outputs": [],
   "source": [
    "model = LinearRegression().fit(x, y)\n",
    "\n"
   ]
  },
  {
   "cell_type": "markdown",
   "id": "df88bad7",
   "metadata": {},
   "source": [
    "### Step 4: Get Results\n",
    "\n",
    "Setelah model kita di-fit, kita bisa mendapatkan hasil untuk memerika apakah model bekerja dengan benar.\n",
    "\n",
    "Kita bisa mendapatkan coefficient of determination dengan .score() pada model"
   ]
  },
  {
   "cell_type": "markdown",
   "id": "cebd4291",
   "metadata": {},
   "source": [
    "r_sq = model.score(x, y)\n",
    "print(\"Coefficient of Determination: \", r_sq)"
   ]
  },
  {
   "cell_type": "markdown",
   "id": "b6baa1eb",
   "metadata": {},
   "source": [
    "Saat kita memakai .score(), argumennnya juga merupakan predictor x dan regressor y, dan nilai kembaliannya adalah 𝑅²\n",
    "\n",
    "Atribut model adalah .intercept_, yang mewakili koefisien 𝑏₀. Dan .coef_ yang mewakili 𝑏₁"
   ]
  },
  {
   "cell_type": "code",
   "execution_count": 9,
   "id": "6e589e43",
   "metadata": {},
   "outputs": [
    {
     "name": "stdout",
     "output_type": "stream",
     "text": [
      "intercept:  5.633333333333329\n",
      "slope:  [0.54]\n"
     ]
    }
   ],
   "source": [
    "print('intercept: ', model.intercept_)\n",
    "print('slope: ', model.coef_)"
   ]
  },
  {
   "cell_type": "markdown",
   "id": "00d5f99c",
   "metadata": {},
   "source": [
    "Kode di atas menggambarkan cara mendapatkan 𝑏₀ dan 𝑏₁. kita dapat melihat bahwa .intercept_ adalah scalar, sedangkan .coef_ adalah array.\n",
    "\n",
    "Nilai 𝑏₀ = 5,63 (kurang-lebih) menggambarkan bahwa model kita memprediksi respons 5,63 ketika 𝑥 adalah nol. Nilai 𝑏₁ = 0,54 berarti respons yang diprediksi naik 0,54 saat 𝑥 naik satu.\n",
    "\n",
    "Kita harus memperhatikan bahwa kita juga dapat memberikan y sebagai two-dimensional array. Dalam kasus ini, kita akan mendapatkan hasil yang serupa. Seperti inilah tampilannya:"
   ]
  },
  {
   "cell_type": "code",
   "execution_count": 10,
   "id": "6019f01d",
   "metadata": {},
   "outputs": [
    {
     "name": "stdout",
     "output_type": "stream",
     "text": [
      "intercept:  [5.63333333]\n",
      "slope:  [[0.54]]\n"
     ]
    }
   ],
   "source": [
    "new_model = LinearRegression().fit(x, y.reshape((-1, 1)))\n",
    "print('intercept: ', new_model.intercept_)\n",
    "print('slope: ', new_model.coef_)"
   ]
  },
  {
   "cell_type": "markdown",
   "id": "8b59f5cd",
   "metadata": {},
   "source": [
    "Seperti yang kita lihat, contoh ini sangat mirip dengan yang sebelumnya, tetapi dalam kasus ini, .intercept_ adalah one-dimensional array dengan elemen tunggal 𝑏₀, dan .coef_ adalah two-dimensional array dengan elemen tunggal 𝑏₁.\n",
    "\n",
    "Step 5: Predict Response\n",
    "\n",
    "Setelah model yang dibuat memuaskan, kita dapat menggunakannya untuk prediksi dengan data baru atau yang sudah ada.\n",
    "\n",
    "Untuk mendapatkan respons yang diprediksi, gunakan .predict():"
   ]
  },
  {
   "cell_type": "code",
   "execution_count": 11,
   "id": "b6b6f7c4",
   "metadata": {},
   "outputs": [
    {
     "name": "stdout",
     "output_type": "stream",
     "text": [
      "Predicted response: \n",
      "[ 8.33333333 13.73333333 19.13333333 24.53333333 29.93333333 35.33333333]\n"
     ]
    }
   ],
   "source": [
    "y_pred = model.predict(x)\n",
    "print('Predicted response: ', y_pred, sep='\\n')"
   ]
  },
  {
   "cell_type": "code",
   "execution_count": 12,
   "id": "d97ea102",
   "metadata": {},
   "outputs": [
    {
     "data": {
      "image/png": "[encoded data removed]",
      "text/plain": [
       "<Figure size 432x288 with 1 Axes>"
      ]
     },
     "metadata": {
      "needs_background": "light"
     },
     "output_type": "display_data"
    }
   ],
   "source": [
    "plt.scatter(x, y, alpha=0.5)\n",
    "plt.plot(x, y_pred)\n",
    "\n",
    "plt.title('Scatter plot x dan y')\n",
    "plt.xlabel('x')\n",
    "plt.ylabel('y')\n",
    "plt.show()"
   ]
  },
  {
   "cell_type": "markdown",
   "id": "3afb0519",
   "metadata": {},
   "source": [
    "Saat menerapkan .predict(), kita akan meneruskan regressor sebagai argumen dan mendapatkan prediksi respons yang sesuai.\n",
    "\n",
    "Ini adalah cara yang hampir identik untuk memprediksi respons:"
   ]
  },
  {
   "cell_type": "code",
   "execution_count": 13,
   "id": "cf2c5ae1",
   "metadata": {},
   "outputs": [
    {
     "name": "stdout",
     "output_type": "stream",
     "text": [
      "Predicted response: \n",
      "[[ 8.33333333]\n",
      " [13.73333333]\n",
      " [19.13333333]\n",
      " [24.53333333]\n",
      " [29.93333333]\n",
      " [35.33333333]]\n"
     ]
    }
   ],
   "source": [
    "y_pred = model.intercept_ + model.coef_ * x\n",
    "print('Predicted response: ', y_pred, sep='\\n')"
   ]
  },
  {
   "cell_type": "markdown",
   "id": "8749ebbf",
   "metadata": {},
   "source": [
    "Dalam kasus ini, kita mengalikan setiap elemen x dengan model.coef_ dan menambahkan model.intercept_ ke produk.\n",
    "\n",
    "Output di sini berbeda dari contoh sebelumnya hanya dalam dimensi. Respons yang diprediksi sekarang menjadi two-dimensional array, sedangkan pada kasus sebelumnya, memiliki satu dimensi.\n",
    "\n",
    "Jika kita mengurangi jumlah dimensi x menjadi satu, kedua pendekatan ini akan menghasilkan hasil yang sama. Kita dapat melakukan ini dengan mengganti x dengan x.reshape(-1), x.flatten(), atau x.ravel() saat mengalikannya dengan model.coef_.\n",
    "\n",
    "Dalam praktiknya, model regresi sering diterapkan untuk forecasts. Ini berarti kita dapat menggunakan model yang sudah di-fit untuk menghitung output berdasarkan beberapa input baru lainnya:"
   ]
  },
  {
   "cell_type": "code",
   "execution_count": 14,
   "id": "3b3e1ae3",
   "metadata": {},
   "outputs": [
    {
     "name": "stdout",
     "output_type": "stream",
     "text": [
      "[[0]\n",
      " [1]\n",
      " [2]\n",
      " [3]\n",
      " [4]]\n",
      "[5.63333333 6.17333333 6.71333333 7.25333333 7.79333333]\n"
     ]
    }
   ],
   "source": [
    "x_new = np.arange(5).reshape((-1, 1))\n",
    "print(x_new)\n",
    "y_new = model.predict(x_new)\n",
    "print(y_new)"
   ]
  },
  {
   "cell_type": "markdown",
   "id": "00d8e40b",
   "metadata": {},
   "source": [
    "Di sini, .predict() diterapkan ke regressor baru x_new dan menghasilkan respons y_new. Contoh ini dengan mudah menggunakan arange() dari NumPy untuk menghasilkan array dengan elemen dari 0 (inklusif) hingga 5 (eksklusif), yaitu 0, 1, 2, 3, dan 4\n",
    "\n",
    "### Multiple Linear Regression with scikit-learn\n",
    "Kita dapat menerapkan multiple linear regression dengan mengikuti langkah-langkah yang sama seperti yang kita lakukan untuk simple regression.\n",
    "\n",
    "Step 1 & 2: Import packages and classes, and provide data.\n",
    "\n",
    "Pertama, kita mengimpor numpy dan sklearn.linear_model.LinearRegression serta memberikan masukan dan keluaran yang diketahui:"
   ]
  },
  {
   "cell_type": "code",
   "execution_count": 15,
   "id": "8d89b6d8",
   "metadata": {},
   "outputs": [],
   "source": [
    "import numpy as np\n",
    "from sklearn.linear_model import LinearRegression\n",
    "\n",
    "x = [[0, 1], [5, 1], [15, 2], [25, 5], [35, 11], [45, 15], [55, 34], [60, 35]]\n",
    "y = [4, 5, 20, 14, 32, 22, 38, 43]\n",
    "x, y = np.array(x), np.array(y)"
   ]
  },
  {
   "cell_type": "code",
   "execution_count": 16,
   "id": "8fe0b7fd",
   "metadata": {},
   "outputs": [
    {
     "name": "stdout",
     "output_type": "stream",
     "text": [
      "[[ 0  1]\n",
      " [ 5  1]\n",
      " [15  2]\n",
      " [25  5]\n",
      " [35 11]\n",
      " [45 15]\n",
      " [55 34]\n",
      " [60 35]]\n",
      "[ 4  5 20 14 32 22 38 43]\n"
     ]
    }
   ],
   "source": [
    "print(x)\n",
    "print(y)"
   ]
  },
  {
   "cell_type": "markdown",
   "id": "2d98d193",
   "metadata": {},
   "source": [
    "Dalam multiple linear regression, x adalah two-dimensional array dengan setidaknya dua kolom, sedangkan y biasanya one-dimensional array. Ini adalah contoh sederhana dari multiple linear regression, dan x memiliki tepat dua kolom.\n",
    "\n",
    "Step 3: Create a model and fit it\n",
    "\n",
    "Langkah selanjutnya adalah membuat regression model sebagai instance LinearRegression dan menyesuaikannya dengan .fit()"
   ]
  },
  {
   "cell_type": "code",
   "execution_count": 17,
   "id": "ed1ab228",
   "metadata": {},
   "outputs": [],
   "source": [
    "model = LinearRegression().fit(x, y)"
   ]
  },
  {
   "cell_type": "markdown",
   "id": "b95392f8",
   "metadata": {},
   "source": [
    "Hasil dari pernyataan ini adalah variabel model yang mengacu pada objek LinearRegression. Ini mewakili regression model yang di-fit dengan data yang ada.\n",
    "\n",
    "Step 4: Get results\n",
    "\n",
    "Kita dapat memperoleh properti model dengan cara yang sama seperti dalam kasus simple linear regression"
   ]
  },
  {
   "cell_type": "code",
   "execution_count": 18,
   "id": "9094927e",
   "metadata": {},
   "outputs": [
    {
     "name": "stdout",
     "output_type": "stream",
     "text": [
      "Coefficient of determination:  0.8615939258756776\n",
      "Intercept:  5.522579275198183\n",
      "Slope:  [0.44706965 0.25502548]\n"
     ]
    }
   ],
   "source": [
    "r_sq = model.score(x, y)\n",
    "print('Coefficient of determination: ', r_sq)\n",
    "print('Intercept: ', model.intercept_)\n",
    "print('Slope: ', model.coef_)"
   ]
  },
  {
   "cell_type": "markdown",
   "id": "26de86a2",
   "metadata": {},
   "source": [
    "Kita mendapatkan nilai 𝑅² menggunakan .score() dan nilai estimators dari regression coefficients dengan .intercept_ and .coef_. Sekali lagi, .intercept_ memegang bias 𝑏₀, dan sekarang .coef_ adalah array yang masing-masing berisi 𝑏₁ dan 𝑏₂.\n",
    "\n",
    "Dalam contoh ini, intercept kira-kira 5,52, dan ini adalah nilai respons yang diprediksi ketika 𝑥₁ = 𝑥₂ = 0. Peningkatan 𝑥₁ sebesar 1 menghasilkan kenaikan respons yang diprediksi sebesar 0,45. Demikian pula, saat 𝑥₂ naik sebesar 1, respons naik sebesar 0,26.\n",
    "\n",
    "## Step 5: Predict response\n",
    "\n",
    "Prediksi juga bekerja dengan cara yang sama seperti dalam kasus simple linear regression:"
   ]
  },
  {
   "cell_type": "code",
   "execution_count": 19,
   "id": "ac187089",
   "metadata": {},
   "outputs": [
    {
     "name": "stdout",
     "output_type": "stream",
     "text": [
      "Predicted response: \n",
      "[ 5.77760476  8.012953   12.73867497 17.9744479  23.97529728 29.4660957\n",
      " 38.78227633 41.27265006]\n"
     ]
    }
   ],
   "source": [
    "y_pred = model.predict(x)\n",
    "print('Predicted response: ', y_pred, sep='\\n')"
   ]
  },
  {
   "cell_type": "markdown",
   "id": "362721f3",
   "metadata": {},
   "source": [
    "Respons yang diprediksi diperoleh dengan .predict(), yang sangat mirip dengan berikut ini:"
   ]
  },
  {
   "cell_type": "code",
   "execution_count": 20,
   "id": "94fb44bb",
   "metadata": {},
   "outputs": [
    {
     "name": "stdout",
     "output_type": "stream",
     "text": [
      "Predicted response: \n",
      "[ 5.77760476  8.012953   12.73867497 17.9744479  23.97529728 29.4660957\n",
      " 38.78227633 41.27265006]\n"
     ]
    }
   ],
   "source": [
    "y_pred = model.intercept_ + np.sum(model.coef_ * x, axis = 1)\n",
    "print('Predicted response: ', y_pred, sep='\\n')"
   ]
  },
  {
   "cell_type": "markdown",
   "id": "55a0e2ef",
   "metadata": {},
   "source": [
    "Kita dapat memprediksi nilai output dengan mengalikan setiap kolom input dengan bobot yang sesuai, menjumlahkan hasilnya dan menambahkan intercept ke jumlahnya.\n",
    "\n",
    "Kita juga dapat menerapkan model ini ke data baru:"
   ]
  },
  {
   "cell_type": "code",
   "execution_count": 21,
   "id": "4773eb30",
   "metadata": {},
   "outputs": [
    {
     "name": "stdout",
     "output_type": "stream",
     "text": [
      "[[0 1]\n",
      " [2 3]\n",
      " [4 5]\n",
      " [6 7]\n",
      " [8 9]]\n",
      "[ 5.77760476  7.18179502  8.58598528  9.99017554 11.3943658 ]\n"
     ]
    }
   ],
   "source": [
    "x_new = np.arange(10).reshape((-1, 2))\n",
    "print(x_new)\n",
    "y_new = model.predict(x_new)\n",
    "print(y_new)"
   ]
  },
  {
   "cell_type": "markdown",
   "id": "388e9fed",
   "metadata": {},
   "source": [
    "Polynomial Regression with scikit-learn\n",
    "Menerapkan polynomial regression dengan scikit-learn sangat mirip dengan linear regression. Hanya ada satu langkah tambahan: Kita perlu mengubah array input untuk menyertakan non-linear terms seperti 𝑥².\n",
    "\n",
    "Step 1: Import packages and classes\n",
    "\n",
    "Selain numpy dan sklearn.linear_model.LinearRegression, kita juga harus mengimpor class PolynomialFeatures dari sklearn.preprocessing:"
   ]
  },
  {
   "cell_type": "code",
   "execution_count": 22,
   "id": "0526db19",
   "metadata": {},
   "outputs": [],
   "source": [
    "import numpy as np\n",
    "from sklearn.linear_model import LinearRegression\n",
    "from sklearn.preprocessing import PolynomialFeatures"
   ]
  },
  {
   "cell_type": "markdown",
   "id": "2ae7ddf7",
   "metadata": {},
   "source": [
    "Step 2a: Provide data\n",
    "\n",
    "Langkah ini menentukan masukan dan keluaran dan sama seperti dalam kasus linear regression:"
   ]
  },
  {
   "cell_type": "code",
   "execution_count": 23,
   "id": "c79873fb",
   "metadata": {},
   "outputs": [
    {
     "name": "stdout",
     "output_type": "stream",
     "text": [
      "[[ 5]\n",
      " [15]\n",
      " [25]\n",
      " [35]\n",
      " [45]\n",
      " [55]]\n",
      "[15 11  2  8 25 32]\n"
     ]
    }
   ],
   "source": [
    "x = np.array([5, 15, 25, 35, 45, 55]).reshape((-1, 1))\n",
    "y = np.array([15, 11, 2, 8, 25, 32])\n",
    "\n",
    "print(x)\n",
    "print(y)"
   ]
  },
  {
   "cell_type": "code",
   "execution_count": 24,
   "id": "6db888fe",
   "metadata": {},
   "outputs": [
    {
     "data": {
      "text/plain": [
       "<matplotlib.collections.PathCollection at 0x1ecf7e0bf70>"
      ]
     },
     "execution_count": 24,
     "metadata": {},
     "output_type": "execute_result"
    },
    {
     "data": {
      "image/png": "[encoded data removed]",
      "text/plain": [
       "<Figure size 432x288 with 1 Axes>"
      ]
     },
     "metadata": {
      "needs_background": "light"
     },
     "output_type": "display_data"
    }
   ],
   "source": [
    "plt.scatter(x, y, alpha=0.5)"
   ]
  },
  {
   "cell_type": "markdown",
   "id": "dee49d27",
   "metadata": {},
   "source": [
    "Sekarang kita memiliki masukan dan keluaran dalam format yang sesuai. Perlu diingat bahwa kita memerlukan input berupa two-dimensional array. Itulah mengapa .reshape() digunakan.\n",
    "\n",
    "Step 2b: Transfrom input data\n",
    "\n",
    "Ini adalah langkah baru yang perlu kita terapkan untuk polynomial regression!\n",
    "\n",
    "Seperti yang telah kita lihat sebelumnya, kita perlu menyertakan 𝑥² (dan mungkin istilah lain) sebagai fitur tambahan saat menerapkan polynomial regression. Oleh karena itu, kita harus mengubah input array x agar berisi kolom tambahan dengan nilai 𝑥² (dan pada akhirnya lebih banyak fitur).\n",
    "\n",
    "Dimungkinkan untuk mengubah input array dengan beberapa cara (seperti menggunakan insert() dari numpy), tetapi kelas PolynomialFeatures sangat nyaman untuk tujuan ini. Mari buat instance dari class ini:"
   ]
  },
  {
   "cell_type": "code",
   "execution_count": 25,
   "id": "f72c77bb",
   "metadata": {},
   "outputs": [],
   "source": [
    "transformer = PolynomialFeatures(degree=2, include_bias=False)"
   ]
  },
  {
   "cell_type": "markdown",
   "id": "bae9ffd9",
   "metadata": {},
   "source": [
    "Variable transformer mengacu pada instance PolynomialFeatures yang dapat kita gunakan untuk transform input x.\n",
    "\n",
    "Kita dapat memberikan beberapa parameter opsional ke PolynomialFeatures:\n",
    "\n",
    "degree adalah integer (2 secara default) yang mewakili derajat fungsi regresi polinomial.\n",
    "interaction_only adalah Boolean (False secara default) yang memutuskan apakah hanya menyertakan fitur interaksi (Benar) atau semua fitur (Salah).\n",
    "include_bias adalah Boolean (True secara default) yang memutuskan apakah akan menyertakan kolom bias (intercept) satu (True) atau tidak (False).\n",
    "Contoh ini menggunakan nilai default dari semua parameter, tetapi terkadang kita ingin bereksperimen dengan degree dari function.\n",
    "\n",
    "Sebelum mengaplikasikan transformer, kita harus menyesuaikannya dengan .fit():"
   ]
  },
  {
   "cell_type": "code",
   "execution_count": 26,
   "id": "b51f18c4",
   "metadata": {},
   "outputs": [
    {
     "data": {
      "text/plain": [
       "PolynomialFeatures(include_bias=False)"
      ]
     },
     "execution_count": 26,
     "metadata": {},
     "output_type": "execute_result"
    }
   ],
   "source": [
    "transformer.fit(x)"
   ]
  },
  {
   "cell_type": "markdown",
   "id": "216c2253",
   "metadata": {},
   "source": [
    "Setelah transformer di-fit, sekarang siap untuk membuat masukan baru, input yang dimodifikasi. Kita menerapkan .transform() untuk melakukan itu:"
   ]
  },
  {
   "cell_type": "code",
   "execution_count": 27,
   "id": "d1d85137",
   "metadata": {},
   "outputs": [],
   "source": [
    "x_ = transformer.transform(x)"
   ]
  },
  {
   "cell_type": "markdown",
   "id": "51dae38b",
   "metadata": {},
   "source": [
    "Itulah cara transformasi input array dengan .transform(). Transform mengambil array input sebagai argumen dan mengembalikan array yang dimodifikasi.\n",
    "\n",
    "Kita juga bisa menggunakan .fit_transform() untuk mengganti tiga pernyataan sebelumnya hanya dengan satu:"
   ]
  },
  {
   "cell_type": "code",
   "execution_count": 28,
   "id": "a04711a2",
   "metadata": {},
   "outputs": [],
   "source": [
    "x_ = PolynomialFeatures(degree=2, include_bias=False).fit_transform(x)"
   ]
  },
  {
   "cell_type": "markdown",
   "id": "44dd6eab",
   "metadata": {},
   "source": [
    "Itulah cara untuk fitting dan transforming input array dalam satu pernyataan dengan .fit_transform(). .fit_transform() juga mengambil input array dan secara efektif melakukan hal yang sama seperti .fit() dan .transform() yang dipanggil dalam urutan. .fit_transform() juga mengembalikan array yang dimodifikasi. Beginilah tampilan array input baru:"
   ]
  },
  {
   "cell_type": "code",
   "execution_count": 29,
   "id": "195e8388",
   "metadata": {},
   "outputs": [
    {
     "name": "stdout",
     "output_type": "stream",
     "text": [
      "[[   5.   25.]\n",
      " [  15.  225.]\n",
      " [  25.  625.]\n",
      " [  35. 1225.]\n",
      " [  45. 2025.]\n",
      " [  55. 3025.]]\n"
     ]
    }
   ],
   "source": [
    "print(x_)"
   ]
  },
  {
   "cell_type": "markdown",
   "id": "4d0919f5",
   "metadata": {},
   "source": [
    "Array input yang dimodifikasi berisi dua kolom: Satu masukan asli dan yang lainnya dengan pangkat duanya.\n",
    "\n",
    "Step 3: Create a model and fit it\n",
    "\n",
    "Langkah ini juga sama dengan kasus linear regression. Kita membuat dan fit model:"
   ]
  },
  {
   "cell_type": "code",
   "execution_count": 30,
   "id": "2cfe8f76",
   "metadata": {},
   "outputs": [],
   "source": [
    "model = LinearRegression().fit(x_, y)"
   ]
  },
  {
   "cell_type": "markdown",
   "id": "c7b42c53",
   "metadata": {},
   "source": [
    "Kita harus ingat bahwa argumen pertama dari .fit() adalah array masukan x_ yang dimodifikasi dan bukan x asli.\n",
    "\n",
    "Step 4: Get results\n",
    "\n",
    "Kita bisa mendapatkan properti model dengan cara yang sama seperti dalam kasus linear regression:"
   ]
  },
  {
   "cell_type": "code",
   "execution_count": 31,
   "id": "1483fd06",
   "metadata": {},
   "outputs": [
    {
     "name": "stdout",
     "output_type": "stream",
     "text": [
      "Coefficient of determination:  0.8908516262498563\n",
      "Intercept:  21.372321428571453\n",
      "Coefficients:  [-1.32357143  0.02839286]\n"
     ]
    }
   ],
   "source": [
    "r_sq = model.score(x_, y)\n",
    "print('Coefficient of determination: ', r_sq)\n",
    "print('Intercept: ', model.intercept_)\n",
    "print('Coefficients: ', model.coef_)"
   ]
  },
  {
   "cell_type": "markdown",
   "id": "8070d0eb",
   "metadata": {},
   "source": [
    "Sekali lagi,.score() mengembalikan 𝑅². Argumen pertamanya juga merupakan input x_ yang dimodifikasi, bukan x. Nilai bobot terkait dengan .intercept_ dan .coef_: .intercept_ mewakili 𝑏₀, sedangkan .coef_ mereferensikan array yang masing-masing berisi 𝑏₁ dan 𝑏₂.\n",
    "\n",
    "Kita bisa mendapatkan hasil yang sangat mirip dengan argumen transformation dan regression yang berbeda:"
   ]
  },
  {
   "cell_type": "code",
   "execution_count": 32,
   "id": "654aee48",
   "metadata": {},
   "outputs": [],
   "source": [
    "x_ = PolynomialFeatures(degree=2, include_bias=True).fit_transform(x)"
   ]
  },
  {
   "cell_type": "markdown",
   "id": "bce5ca71",
   "metadata": {},
   "source": [
    "Jika kita memanggil PolynomialFeatures dengan parameter default include_bias=True, kita akan mendapatkan array input baru x_ dengan kolom paling kiri tambahan yang hanya berisi satu. Kolom ini sesuai dengan intercept. Beginilah tampilan array input yang dimodifikasi dalam kasus ini:"
   ]
  },
  {
   "cell_type": "code",
   "execution_count": 33,
   "id": "df0d3359",
   "metadata": {},
   "outputs": [
    {
     "name": "stdout",
     "output_type": "stream",
     "text": [
      "[[1.000e+00 5.000e+00 2.500e+01]\n",
      " [1.000e+00 1.500e+01 2.250e+02]\n",
      " [1.000e+00 2.500e+01 6.250e+02]\n",
      " [1.000e+00 3.500e+01 1.225e+03]\n",
      " [1.000e+00 4.500e+01 2.025e+03]\n",
      " [1.000e+00 5.500e+01 3.025e+03]]\n"
     ]
    }
   ],
   "source": [
    "print(x_)"
   ]
  },
  {
   "cell_type": "markdown",
   "id": "6f0c6be9",
   "metadata": {},
   "source": [
    "Kolom pertama x_ berisi satu, kolom kedua bernilai x, sedangkan kolom keduatiga berisi kuadrat x.all\n",
    "\n",
    "Intercept sudah disertakan dengan kolom paling kiri dari satu, dan kita tidak perlu menyertakannya lagi saat membuat instance LinearRegression. Jadi, kita bisa memberikan fit_intercept=False. Beginilah tampilan pernyataan berikutnya:"
   ]
  },
  {
   "cell_type": "code",
   "execution_count": 34,
   "id": "6f609d6e",
   "metadata": {},
   "outputs": [],
   "source": [
    "model = LinearRegression(fit_intercept=False).fit(x_, y)"
   ]
  },
  {
   "cell_type": "markdown",
   "id": "acd24e8e",
   "metadata": {},
   "source": [
    "Variabel model sekali lagi sesuai dengan array input baru x. Oleh karena itu x harus di-pass sebagai argumen pertama, bukan x.\n",
    "\n",
    "Pendekatan ini memberikan hasil berikut, yang mirip dengan kasus sebelumnya:"
   ]
  },
  {
   "cell_type": "code",
   "execution_count": 35,
   "id": "3b335239",
   "metadata": {},
   "outputs": [
    {
     "name": "stdout",
     "output_type": "stream",
     "text": [
      "Coefficient of determination:  0.8908516262498563\n",
      "Intercept:  0.0\n",
      "Coefficient:  [21.37232143 -1.32357143  0.02839286]\n"
     ]
    }
   ],
   "source": [
    "r_sq = model.score(x_, y)\n",
    "print('Coefficient of determination: ', r_sq)\n",
    "print('Intercept: ', model.intercept_)\n",
    "print('Coefficient: ', model.coef_)"
   ]
  },
  {
   "cell_type": "markdown",
   "id": "4d744c2e",
   "metadata": {},
   "source": [
    "Kita melihat bahwa sekarang .intercept_ adalah nol, tetapi .coef_ sebenarnya berisi 𝑏₀ sebagai elemen pertamanya. Yang lainnya sama."
   ]
  },
  {
   "cell_type": "code",
   "execution_count": 36,
   "id": "19bd74b4",
   "metadata": {},
   "outputs": [
    {
     "name": "stdout",
     "output_type": "stream",
     "text": [
      "Predicted response: \n",
      "[15.46428571  7.90714286  6.02857143  9.82857143 19.30714286 34.46428571]\n"
     ]
    }
   ],
   "source": [
    "y_pred = model.predict(x_)\n",
    "print('Predicted response: ', y_pred, sep='\\n')"
   ]
  },
  {
   "cell_type": "markdown",
   "id": "194d6aa1",
   "metadata": {},
   "source": [
    "Seperti yang kita lihat, prediksi bekerja dengan cara yang hampir sama seperti dalam kasus linear regression. Ini hanya membutuhkan masukan yang dimodifikasi, bukan yang asli.\n",
    "\n",
    "Kita dapat menerapkan prosedur yang sama jika kita memiliki beberapa variabel masukan. Kita akan membuat array masukan dengan lebih dari satu kolom, tetapi yang lainnya sama. Berikut ini contohnya:"
   ]
  },
  {
   "cell_type": "code",
   "execution_count": 37,
   "id": "327e7262",
   "metadata": {},
   "outputs": [],
   "source": [
    "# Step 1: Import packages\n",
    "import numpy as np\n",
    "from sklearn.linear_model import LinearRegression\n",
    "from sklearn.preprocessing import PolynomialFeatures\n",
    "\n",
    "# Step 2a: Provide data\n",
    "x = [[0, 1], [5, 1], [15, 2], [25, 5], [35, 11], [45, 15], [55, 34], [60, 35]]\n",
    "y = [4, 5, 20, 14, 32, 22, 38, 43]\n",
    "x, y = np.array(x), np.array(y)\n",
    "\n",
    "# Step 2b: Transform input data\n",
    "x_ = PolynomialFeatures(degree=2, include_bias=False).fit_transform(x)\n",
    "\n",
    "# Step 3: Create a model and fit it\n",
    "model = LinearRegression().fit(x_, y)\n",
    "\n",
    "# Step 4: Get results\n",
    "r_sq = model.score(x_, y)\n",
    "intercept, coefficients = model.intercept_, model.coef_\n",
    "\n",
    "# Step 5: Predict\n",
    "y_pred = model.predict(x_)"
   ]
  },
  {
   "cell_type": "code",
   "execution_count": 38,
   "id": "9ceb96e7",
   "metadata": {},
   "outputs": [
    {
     "name": "stdout",
     "output_type": "stream",
     "text": [
      "Coefficient of determination:  0.9453701449127822\n",
      "Intercept:  0.843055645239815\n",
      "Coefficient: \n",
      "[ 2.44828275  0.16160353 -0.15259677  0.47928683 -0.4641851 ]\n",
      "Predicted response: \n",
      "[ 0.54047408 11.36340283 16.07809622 15.79139    29.73858619 23.50834636\n",
      " 39.05631386 41.92339046]\n"
     ]
    }
   ],
   "source": [
    "# Hasil\n",
    "\n",
    "print('Coefficient of determination: ', r_sq)\n",
    "print('Intercept: ', intercept)\n",
    "print('Coefficient: ', coefficients, sep='\\n')\n",
    "print('Predicted response: ', y_pred, sep='\\n')"
   ]
  },
  {
   "cell_type": "markdown",
   "id": "6a5bcd8c",
   "metadata": {},
   "source": [
    "Dalam hal ini, ada enam regression coefficients (termasuk intercept), seperti yang ditunjukkan dalam estimated regression function 𝑓(𝑥₁, 𝑥₂) = 𝑏₀ + 𝑏₁𝑥₁ + 𝑏₂𝑥₂ + 𝑏₃𝑥₁² + 𝑏₄𝑥₁𝑥₂ + 𝑏₅𝑥₂².\n",
    "\n",
    "Kita juga dapat melihat bahwa regresi polinomial menghasilkan coefficient of determination yang lebih tinggi daripada multiple linear regression untuk masalah yang sama. Pada awalnya, kita mungkin mengira bahwa mendapatkan 𝑅² sebesar itu adalah hasil yang sangat baik. Mungkin.\n",
    "\n",
    "Namun, dalam situasi dunia nyata, memiliki model yang kompleks dan 𝑅² sangat dekat dengan 1 mungkin juga merupakan tanda overfitting. Untuk mengecek performansi suatu model sebaiknya dilakukan pengujian dengan data baru yaitu dengan observasi yang tidak digunakan untuk fit (train) model.\n",
    "\n",
    "## Advanced Linear Regression with statsmodels\n",
    "Kita dapat mengimplementasikan linear regression dengan Python relatih mudah dengan menggunakan statsmodels juga. Biasanya, statsmodel diinginkan ketika dibutuhkan hasil yang lebih rinci.\n",
    "\n",
    "Prosedurnya mirip dengan scikit-learn.\n",
    "\n",
    "Step 1; Import packages\n",
    "\n",
    "Pertama, kita perlu melakukan beberapa impor. Selain numpy, kita perlu mengimpor statsmodels.api"
   ]
  },
  {
   "cell_type": "code",
   "execution_count": 39,
   "id": "63fba5a7",
   "metadata": {},
   "outputs": [],
   "source": [
    "import numpy as np\n",
    "import statsmodels.api as sm"
   ]
  },
  {
   "cell_type": "markdown",
   "id": "0e20ce4e",
   "metadata": {},
   "source": [
    "Step 2: Provide data and transform inputs\n",
    "\n",
    "Kita dapat memberikan input dan output dengan cara yang sama seperti yang kita lakukan saat menggunakan scikit-learn:"
   ]
  },
  {
   "cell_type": "code",
   "execution_count": 40,
   "id": "d75a71cf",
   "metadata": {},
   "outputs": [
    {
     "name": "stdout",
     "output_type": "stream",
     "text": [
      "[[ 0  1]\n",
      " [ 5  1]\n",
      " [15  2]\n",
      " [25  5]\n",
      " [35 11]\n",
      " [45 15]\n",
      " [55 34]\n",
      " [60 35]]\n"
     ]
    }
   ],
   "source": [
    "x = [[0, 1], [5, 1], [15, 2], [25, 5], [35, 11], [45, 15], [55, 34], [60, 35]]\n",
    "y = [4, 5, 20, 14, 32, 22, 38, 43]\n",
    "x, y = np.array(x), np.array(y)\n",
    "print(x)"
   ]
  },
  {
   "cell_type": "markdown",
   "id": "e922d8fd",
   "metadata": {},
   "source": [
    "Array input dan output dibuat, tetapi pekerjaan belum selesai..\n",
    "\n",
    "Kita perlu menambahkan kolom satu ke input jika kita ingin statsmodels menghitung intercept 𝑏₀. Hal ini tidak memperhitungkan 𝑏₀ secara default."
   ]
  },
  {
   "cell_type": "code",
   "execution_count": 41,
   "id": "02781f3a",
   "metadata": {},
   "outputs": [],
   "source": [
    "x = sm.add_constant(x)"
   ]
  },
  {
   "cell_type": "markdown",
   "id": "03edfaab",
   "metadata": {},
   "source": [
    "Begitulah cara kita menambahkan kolom satu ke x dengan add_constant(). add_constant mengambil array input x sebagai argumen dan mengembalikan array baru dengan kolom yang disisipkan di awal. Beginilah tampilan x dan y sekarang"
   ]
  },
  {
   "cell_type": "code",
   "execution_count": 43,
   "id": "fd928ec8",
   "metadata": {},
   "outputs": [
    {
     "name": "stdout",
     "output_type": "stream",
     "text": [
      "[[ 1.  0.  1.]\n",
      " [ 1.  5.  1.]\n",
      " [ 1. 15.  2.]\n",
      " [ 1. 25.  5.]\n",
      " [ 1. 35. 11.]\n",
      " [ 1. 45. 15.]\n",
      " [ 1. 55. 34.]\n",
      " [ 1. 60. 35.]]\n",
      "[ 4  5 20 14 32 22 38 43]\n"
     ]
    }
   ],
   "source": [
    "print(x)\n",
    "print(y)"
   ]
  },
  {
   "cell_type": "markdown",
   "id": "377a5c2b",
   "metadata": {},
   "source": [
    "Kita dapat melihat bahwa x yang dimodifikasi memiliki tiga kolom: Kolom pertama dari satu (sesuai dengan 𝑏₀ dan mengganti intercept) serta dua kolom fitur asli.\n",
    "\n",
    "Step 3: Create a model and fit it Regression model didasarkan pada ordinary least squares adalah turunan dari statsmodels.regression.linear_model.OLS"
   ]
  },
  {
   "cell_type": "code",
   "execution_count": 44,
   "id": "8e2989ab",
   "metadata": {},
   "outputs": [],
   "source": [
    "model = sm.OLS(y, x)"
   ]
  },
  {
   "cell_type": "markdown",
   "id": "b8136e46",
   "metadata": {},
   "source": [
    "Kita harus berhati-hati di sini! Harap perhatikan bahwa argumen pertama adalah output, diikuti dengan input. Ada beberapa parameter opsional.\n",
    "\n",
    "Setelah model kita dibuat, kita dapat menerapkan .fit() pada model tersebut:"
   ]
  },
  {
   "cell_type": "code",
   "execution_count": 46,
   "id": "91213e58",
   "metadata": {},
   "outputs": [],
   "source": [
    "results = model.fit()"
   ]
  },
  {
   "cell_type": "markdown",
   "id": "32d3b1ff",
   "metadata": {},
   "source": [
    "Dengan memanggil .fit(), kita mendapatkan variable results, yang merupakan instance dari kelas statsmodels.regression.linear_model.RegressionResultsWrapper. Objek ini menyimpan banyak informasi tentang regression model.\n",
    "\n",
    "Step 4: Get results\n",
    "\n",
    "Variabel results mengacu pada objek yang memuat informasi rinci tentang hasil linear regression.\n",
    "\n",
    "Kita bisa memanggil .summary() untuk mendapatkan tabel dengan hasil regresi linier:"
   ]
  },
  {
   "cell_type": "code",
   "execution_count": 47,
   "id": "acdf2405",
   "metadata": {},
   "outputs": [
    {
     "name": "stdout",
     "output_type": "stream",
     "text": [
      "                            OLS Regression Results                            \n",
      "==============================================================================\n",
      "Dep. Variable:                      y   R-squared:                       0.862\n",
      "Model:                            OLS   Adj. R-squared:                  0.806\n",
      "Method:                 Least Squares   F-statistic:                     15.56\n",
      "Date:                Fri, 21 Oct 2022   Prob (F-statistic):            0.00713\n",
      "Time:                        17:39:57   Log-Likelihood:                -24.316\n",
      "No. Observations:                   8   AIC:                             54.63\n",
      "Df Residuals:                       5   BIC:                             54.87\n",
      "Df Model:                           2                                         \n",
      "Covariance Type:            nonrobust                                         \n",
      "==============================================================================\n",
      "                 coef    std err          t      P>|t|      [0.025      0.975]\n",
      "------------------------------------------------------------------------------\n",
      "const          5.5226      4.431      1.246      0.268      -5.867      16.912\n",
      "x1             0.4471      0.285      1.567      0.178      -0.286       1.180\n",
      "x2             0.2550      0.453      0.563      0.598      -0.910       1.420\n",
      "==============================================================================\n",
      "Omnibus:                        0.561   Durbin-Watson:                   3.268\n",
      "Prob(Omnibus):                  0.755   Jarque-Bera (JB):                0.534\n",
      "Skew:                           0.380   Prob(JB):                        0.766\n",
      "Kurtosis:                       1.987   Cond. No.                         80.1\n",
      "==============================================================================\n",
      "\n",
      "Notes:\n",
      "[1] Standard Errors assume that the covariance matrix of the errors is correctly specified.\n"
     ]
    },
    {
     "name": "stderr",
     "output_type": "stream",
     "text": [
      "C:\\Users\\KRISMANTO\\anaconda3\\lib\\site-packages\\scipy\\stats\\stats.py:1541: UserWarning: kurtosistest only valid for n>=20 ... continuing anyway, n=8\n",
      "  warnings.warn(\"kurtosistest only valid for n>=20 ... continuing \"\n"
     ]
    }
   ],
   "source": [
    "print(results.summary())"
   ]
  },
  {
   "cell_type": "markdown",
   "id": "c52fa46e",
   "metadata": {},
   "source": [
    "Tabel ini sangat lengkap. Kita dapat menemukan banyak nilai statistik yang terkait dengan linear regression termasuk 𝑅², 𝑏₀, 𝑏₁, dan 𝑏₂.\n",
    "\n",
    "Dalam kasus khusus ini, kita mungkin mendapatkan peringatan terkait kurtosistest. Hal ini disebabkan sedikitnya jumlah observasi yang diberikan.\n",
    "\n",
    "Kita dapat mengekstrak salah satu nilai dari tabel di atas. Berikut contohnya:"
   ]
  },
  {
   "cell_type": "code",
   "execution_count": 48,
   "id": "fe1531aa",
   "metadata": {},
   "outputs": [
    {
     "name": "stdout",
     "output_type": "stream",
     "text": [
      "Coefficient of determination:  0.8615939258756776\n",
      "Adjusted coefficent of determination:  0.8062314962259487\n",
      "Regression coefficients:  [5.52257928 0.44706965 0.25502548]\n"
     ]
    }
   ],
   "source": [
    "print('Coefficient of determination: ', results.rsquared)\n",
    "print('Adjusted coefficent of determination: ', results.rsquared_adj)\n",
    "print('Regression coefficients: ', results.params)"
   ]
  },
  {
   "cell_type": "markdown",
   "id": "271a02d1",
   "metadata": {},
   "source": [
    "Begitulah cara kita mendapatkan beberapa hasil linear regression:\n",
    "\n",
    ".rsquared menampung 𝑅². .rsquared_adj mewakili disesuaikan 𝑅² (𝑅² dikoreksi sesuai dengan jumlah fitur masukan). .params merujuk array dengan 𝑏₀, 𝑏₁, dan 𝑏₂ masing-masing. Kita juga dapat melihat bahwa hasil ini identik dengan yang diperoleh dengan scikit-learn untuk masalah yang sama.\n",
    "\n",
    "Step 5: Predict response\n",
    "\n",
    "Kita bisa mendapatkan predicted response pada nilai input yang digunakan untuk membuat model menggunakan .fittedvvalues atau .predict() dengan array input sebagai argumen"
   ]
  },
  {
   "cell_type": "code",
   "execution_count": 49,
   "id": "87f9c773",
   "metadata": {},
   "outputs": [
    {
     "name": "stdout",
     "output_type": "stream",
     "text": [
      "Predicted response: \n",
      "[ 5.77760476  8.012953   12.73867497 17.9744479  23.97529728 29.4660957\n",
      " 38.78227633 41.27265006]\n",
      "Predicted response: \n",
      "[ 5.77760476  8.012953   12.73867497 17.9744479  23.97529728 29.4660957\n",
      " 38.78227633 41.27265006]\n"
     ]
    }
   ],
   "source": [
    "print('Predicted response: ', results.fittedvalues, sep='\\n')\n",
    "print('Predicted response: ', results.predict(x), sep='\\n')"
   ]
  },
  {
   "cell_type": "markdown",
   "id": "20811489",
   "metadata": {},
   "source": [
    "Ini adalah predicted response untuk input yang diketahui. Jika kita menginginkan prediksi dengan regressor baru, kita juga bisa menerapkan .predict() dengan data baru sebagai argumen:"
   ]
  },
  {
   "cell_type": "code",
   "execution_count": 50,
   "id": "e0b66350",
   "metadata": {},
   "outputs": [
    {
     "name": "stdout",
     "output_type": "stream",
     "text": [
      "[[1. 0. 1.]\n",
      " [1. 2. 3.]\n",
      " [1. 4. 5.]\n",
      " [1. 6. 7.]\n",
      " [1. 8. 9.]]\n",
      "[ 5.77760476  7.18179502  8.58598528  9.99017554 11.3943658 ]\n"
     ]
    }
   ],
   "source": [
    "x_new = sm.add_constant(np.arange(10).reshape((-1, 2)))\n",
    "print(x_new)\n",
    "y_new = results.predict(x_new)\n",
    "print(y_new)"
   ]
  },
  {
   "cell_type": "markdown",
   "id": "22266ab0",
   "metadata": {},
   "source": [
    "Kita dapat melihat bahwa hasil prediksi sama dengan yang diperoleh dengan scikit-learn untuk masalah yang sama.\n",
    "\n",
    "### Implementing Linear Regression on Real Dataset\n",
    "Using Statsmodel"
   ]
  },
  {
   "cell_type": "code",
   "execution_count": 51,
   "id": "3986914c",
   "metadata": {},
   "outputs": [
    {
     "name": "stderr",
     "output_type": "stream",
     "text": [
      "C:\\Users\\KRISMANTO\\anaconda3\\lib\\site-packages\\sklearn\\utils\\deprecation.py:87: FutureWarning: Function load_boston is deprecated; `load_boston` is deprecated in 1.0 and will be removed in 1.2.\n",
      "\n",
      "    The Boston housing prices dataset has an ethical problem. You can refer to\n",
      "    the documentation of this function for further details.\n",
      "\n",
      "    The scikit-learn maintainers therefore strongly discourage the use of this\n",
      "    dataset unless the purpose of the code is to study and educate about\n",
      "    ethical issues in data science and machine learning.\n",
      "\n",
      "    In this special case, you can fetch the dataset from the original\n",
      "    source::\n",
      "\n",
      "        import pandas as pd\n",
      "        import numpy as np\n",
      "\n",
      "\n",
      "        data_url = \"http://lib.stat.cmu.edu/datasets/boston\"\n",
      "        raw_df = pd.read_csv(data_url, sep=\"\\s+\", skiprows=22, header=None)\n",
      "        data = np.hstack([raw_df.values[::2, :], raw_df.values[1::2, :2]])\n",
      "        target = raw_df.values[1::2, 2]\n",
      "\n",
      "    Alternative datasets include the California housing dataset (i.e.\n",
      "    :func:`~sklearn.datasets.fetch_california_housing`) and the Ames housing\n",
      "    dataset. You can load the datasets as follows::\n",
      "\n",
      "        from sklearn.datasets import fetch_california_housing\n",
      "        housing = fetch_california_housing()\n",
      "\n",
      "    for the California housing dataset and::\n",
      "\n",
      "        from sklearn.datasets import fetch_openml\n",
      "        housing = fetch_openml(name=\"house_prices\", as_frame=True)\n",
      "\n",
      "    for the Ames housing dataset.\n",
      "    \n",
      "  warnings.warn(msg, category=FutureWarning)\n"
     ]
    }
   ],
   "source": [
    "import statsmodels.api as sm\n",
    "from sklearn import datasets # Import datasets from scikit-learn\n",
    "\n",
    "data = datasets.load_boston() # loads Boston dataset from datasets library"
   ]
  },
  {
   "cell_type": "code",
   "execution_count": 52,
   "id": "ab88f25d",
   "metadata": {},
   "outputs": [
    {
     "name": "stdout",
     "output_type": "stream",
     "text": [
      ".. _boston_dataset:\n",
      "\n",
      "Boston house prices dataset\n",
      "---------------------------\n",
      "\n",
      "**Data Set Characteristics:**  \n",
      "\n",
      "    :Number of Instances: 506 \n",
      "\n",
      "    :Number of Attributes: 13 numeric/categorical predictive. Median Value (attribute 14) is usually the target.\n",
      "\n",
      "    :Attribute Information (in order):\n",
      "        - CRIM     per capita crime rate by town\n",
      "        - ZN       proportion of residential land zoned for lots over 25,000 sq.ft.\n",
      "        - INDUS    proportion of non-retail business acres per town\n",
      "        - CHAS     Charles River dummy variable (= 1 if tract bounds river; 0 otherwise)\n",
      "        - NOX      nitric oxides concentration (parts per 10 million)\n",
      "        - RM       average number of rooms per dwelling\n",
      "        - AGE      proportion of owner-occupied units built prior to 1940\n",
      "        - DIS      weighted distances to five Boston employment centres\n",
      "        - RAD      index of accessibility to radial highways\n",
      "        - TAX      full-value property-tax rate per $10,000\n",
      "        - PTRATIO  pupil-teacher ratio by town\n",
      "        - B        1000(Bk - 0.63)^2 where Bk is the proportion of black people by town\n",
      "        - LSTAT    % lower status of the population\n",
      "        - MEDV     Median value of owner-occupied homes in $1000's\n",
      "\n",
      "    :Missing Attribute Values: None\n",
      "\n",
      "    :Creator: Harrison, D. and Rubinfeld, D.L.\n",
      "\n",
      "This is a copy of UCI ML housing dataset.\n",
      "https://archive.ics.uci.edu/ml/machine-learning-databases/housing/\n",
      "\n",
      "\n",
      "This dataset was taken from the StatLib library which is maintained at Carnegie Mellon University.\n",
      "\n",
      "The Boston house-price data of Harrison, D. and Rubinfeld, D.L. 'Hedonic\n",
      "prices and the demand for clean air', J. Environ. Economics & Management,\n",
      "vol.5, 81-102, 1978.   Used in Belsley, Kuh & Welsch, 'Regression diagnostics\n",
      "...', Wiley, 1980.   N.B. Various transformations are used in the table on\n",
      "pages 244-261 of the latter.\n",
      "\n",
      "The Boston house-price data has been used in many machine learning papers that address regression\n",
      "problems.   \n",
      "     \n",
      ".. topic:: References\n",
      "\n",
      "   - Belsley, Kuh & Welsch, 'Regression diagnostics: Identifying Influential Data and Sources of Collinearity', Wiley, 1980. 244-261.\n",
      "   - Quinlan,R. (1993). Combining Instance-Based and Model-Based Learning. In Proceedings on the Tenth International Conference of Machine Learning, 236-243, University of Massachusetts, Amherst. Morgan Kaufmann.\n",
      "\n"
     ]
    }
   ],
   "source": [
    "print(data.DESCR)\n"
   ]
  },
  {
   "cell_type": "code",
   "execution_count": 53,
   "id": "fcaffc76",
   "metadata": {},
   "outputs": [
    {
     "data": {
      "text/html": [
       "<div>\n",
       "<style scoped>\n",
       "    .dataframe tbody tr th:only-of-type {\n",
       "        vertical-align: middle;\n",
       "    }\n",
       "\n",
       "    .dataframe tbody tr th {\n",
       "        vertical-align: top;\n",
       "    }\n",
       "\n",
       "    .dataframe thead th {\n",
       "        text-align: right;\n",
       "    }\n",
       "</style>\n",
       "<table border=\"1\" class=\"dataframe\">\n",
       "  <thead>\n",
       "    <tr style=\"text-align: right;\">\n",
       "      <th></th>\n",
       "      <th>MEDV</th>\n",
       "    </tr>\n",
       "  </thead>\n",
       "  <tbody>\n",
       "    <tr>\n",
       "      <th>0</th>\n",
       "      <td>24.0</td>\n",
       "    </tr>\n",
       "    <tr>\n",
       "      <th>1</th>\n",
       "      <td>21.6</td>\n",
       "    </tr>\n",
       "    <tr>\n",
       "      <th>2</th>\n",
       "      <td>34.7</td>\n",
       "    </tr>\n",
       "    <tr>\n",
       "      <th>3</th>\n",
       "      <td>33.4</td>\n",
       "    </tr>\n",
       "    <tr>\n",
       "      <th>4</th>\n",
       "      <td>36.2</td>\n",
       "    </tr>\n",
       "  </tbody>\n",
       "</table>\n",
       "</div>"
      ],
      "text/plain": [
       "   MEDV\n",
       "0  24.0\n",
       "1  21.6\n",
       "2  34.7\n",
       "3  33.4\n",
       "4  36.2"
      ]
     },
     "execution_count": 53,
     "metadata": {},
     "output_type": "execute_result"
    }
   ],
   "source": [
    "import numpy as np\n",
    "import pandas as pd\n",
    "\n",
    "# Define the data/predictors as the pre-set feature names\n",
    "df = pd.DataFrame(data.data, columns=data.feature_names)\n",
    "\n",
    "# Put the target (Housing value -- MEDV) in another DataFrame\n",
    "target = pd.DataFrame(data.target, columns=['MEDV'])\n",
    "target.head()"
   ]
  },
  {
   "cell_type": "code",
   "execution_count": 54,
   "id": "d5222e78",
   "metadata": {},
   "outputs": [
    {
     "data": {
      "text/html": [
       "<table class=\"simpletable\">\n",
       "<caption>OLS Regression Results</caption>\n",
       "<tr>\n",
       "  <th>Dep. Variable:</th>          <td>MEDV</td>       <th>  R-squared (uncentered):</th>      <td>   0.901</td> \n",
       "</tr>\n",
       "<tr>\n",
       "  <th>Model:</th>                   <td>OLS</td>       <th>  Adj. R-squared (uncentered):</th> <td>   0.901</td> \n",
       "</tr>\n",
       "<tr>\n",
       "  <th>Method:</th>             <td>Least Squares</td>  <th>  F-statistic:       </th>          <td>   4615.</td> \n",
       "</tr>\n",
       "<tr>\n",
       "  <th>Date:</th>             <td>Fri, 21 Oct 2022</td> <th>  Prob (F-statistic):</th>          <td>3.74e-256</td>\n",
       "</tr>\n",
       "<tr>\n",
       "  <th>Time:</th>                 <td>17:41:28</td>     <th>  Log-Likelihood:    </th>          <td> -1747.1</td> \n",
       "</tr>\n",
       "<tr>\n",
       "  <th>No. Observations:</th>      <td>   506</td>      <th>  AIC:               </th>          <td>   3496.</td> \n",
       "</tr>\n",
       "<tr>\n",
       "  <th>Df Residuals:</th>          <td>   505</td>      <th>  BIC:               </th>          <td>   3500.</td> \n",
       "</tr>\n",
       "<tr>\n",
       "  <th>Df Model:</th>              <td>     1</td>      <th>                     </th>              <td> </td>    \n",
       "</tr>\n",
       "<tr>\n",
       "  <th>Covariance Type:</th>      <td>nonrobust</td>    <th>                     </th>              <td> </td>    \n",
       "</tr>\n",
       "</table>\n",
       "<table class=\"simpletable\">\n",
       "<tr>\n",
       "   <td></td>     <th>coef</th>     <th>std err</th>      <th>t</th>      <th>P>|t|</th>  <th>[0.025</th>    <th>0.975]</th>  \n",
       "</tr>\n",
       "<tr>\n",
       "  <th>RM</th> <td>    3.6534</td> <td>    0.054</td> <td>   67.930</td> <td> 0.000</td> <td>    3.548</td> <td>    3.759</td>\n",
       "</tr>\n",
       "</table>\n",
       "<table class=\"simpletable\">\n",
       "<tr>\n",
       "  <th>Omnibus:</th>       <td>83.295</td> <th>  Durbin-Watson:     </th> <td>   0.493</td>\n",
       "</tr>\n",
       "<tr>\n",
       "  <th>Prob(Omnibus):</th> <td> 0.000</td> <th>  Jarque-Bera (JB):  </th> <td> 152.507</td>\n",
       "</tr>\n",
       "<tr>\n",
       "  <th>Skew:</th>          <td> 0.955</td> <th>  Prob(JB):          </th> <td>7.65e-34</td>\n",
       "</tr>\n",
       "<tr>\n",
       "  <th>Kurtosis:</th>      <td> 4.894</td> <th>  Cond. No.          </th> <td>    1.00</td>\n",
       "</tr>\n",
       "</table><br/><br/>Notes:<br/>[1] R² is computed without centering (uncentered) since the model does not contain a constant.<br/>[2] Standard Errors assume that the covariance matrix of the errors is correctly specified."
      ],
      "text/plain": [
       "<class 'statsmodels.iolib.summary.Summary'>\n",
       "\"\"\"\n",
       "                                 OLS Regression Results                                \n",
       "=======================================================================================\n",
       "Dep. Variable:                   MEDV   R-squared (uncentered):                   0.901\n",
       "Model:                            OLS   Adj. R-squared (uncentered):              0.901\n",
       "Method:                 Least Squares   F-statistic:                              4615.\n",
       "Date:                Fri, 21 Oct 2022   Prob (F-statistic):                   3.74e-256\n",
       "Time:                        17:41:28   Log-Likelihood:                         -1747.1\n",
       "No. Observations:                 506   AIC:                                      3496.\n",
       "Df Residuals:                     505   BIC:                                      3500.\n",
       "Df Model:                           1                                                  \n",
       "Covariance Type:            nonrobust                                                  \n",
       "==============================================================================\n",
       "                 coef    std err          t      P>|t|      [0.025      0.975]\n",
       "------------------------------------------------------------------------------\n",
       "RM             3.6534      0.054     67.930      0.000       3.548       3.759\n",
       "==============================================================================\n",
       "Omnibus:                       83.295   Durbin-Watson:                   0.493\n",
       "Prob(Omnibus):                  0.000   Jarque-Bera (JB):              152.507\n",
       "Skew:                           0.955   Prob(JB):                     7.65e-34\n",
       "Kurtosis:                       4.894   Cond. No.                         1.00\n",
       "==============================================================================\n",
       "\n",
       "Notes:\n",
       "[1] R² is computed without centering (uncentered) since the model does not contain a constant.\n",
       "[2] Standard Errors assume that the covariance matrix of the errors is correctly specified.\n",
       "\"\"\""
      ]
     },
     "execution_count": 54,
     "metadata": {},
     "output_type": "execute_result"
    }
   ],
   "source": [
    "X = df['RM']\n",
    "y = target['MEDV']\n",
    "\n",
    "model = sm.OLS(y, X).fit()\n",
    "predictions = model.predict(X)\n",
    "\n",
    "model.summary()"
   ]
  },
  {
   "cell_type": "code",
   "execution_count": 55,
   "id": "8f63cca6",
   "metadata": {},
   "outputs": [
    {
     "data": {
      "image/png": "[encoded data removed]",
      "text/plain": [
       "<Figure size 432x288 with 1 Axes>"
      ]
     },
     "metadata": {
      "needs_background": "light"
     },
     "output_type": "display_data"
    }
   ],
   "source": [
    "plt.scatter(X, y, alpha=0.5)\n",
    "plt.plot(X, predictions)\n",
    "plt.title('Scatter plot x and y')\n",
    "plt.xlabel('x')\n",
    "plt.ylabel('y')\n",
    "plt.show()"
   ]
  },
  {
   "cell_type": "markdown",
   "id": "6f92254d",
   "metadata": {},
   "source": [
    "## Using SKlearn"
   ]
  },
  {
   "cell_type": "code",
   "execution_count": 57,
   "id": "93604c5a",
   "metadata": {},
   "outputs": [
    {
     "name": "stdout",
     "output_type": "stream",
     "text": [
      "[30.00384338 25.02556238 30.56759672 28.60703649 27.94352423 25.25628446\n",
      " 23.00180827 19.53598843 11.52363685 18.92026211 18.99949651 21.58679568\n",
      " 20.90652153 19.55290281 19.28348205 19.29748321 20.52750979 16.91140135\n",
      " 16.17801106 18.40613603 12.52385753 17.67103669 15.83288129 13.80628535\n",
      " 15.67833832 13.38668561 15.46397655 14.70847428 19.54737285 20.8764282\n",
      " 11.45511759 18.05923295  8.81105736 14.28275814 13.70675891 23.81463526\n",
      " 22.34193708 23.10891142 22.91502612 31.35762569 34.21510225 28.02056414\n",
      " 25.20386628 24.60979273 22.94149176 22.09669817 20.42320032 18.03655088\n",
      "  9.10655377 17.20607751 21.28152535 23.97222285 27.6558508  24.04901809\n",
      " 15.3618477  31.15264947 24.85686978 33.10919806 21.77537987 21.08493555\n",
      " 17.8725804  18.51110208 23.98742856 22.55408869 23.37308644 30.36148358\n",
      " 25.53056512 21.11338564 17.42153786 20.78483633 25.20148859 21.7426577\n",
      " 24.55744957 24.04295712 25.50499716 23.9669302  22.94545403 23.35699818\n",
      " 21.26198266 22.42817373 28.40576968 26.99486086 26.03576297 25.05873482\n",
      " 24.78456674 27.79049195 22.16853423 25.89276415 30.67461827 30.83110623\n",
      " 27.1190194  27.41266734 28.94122762 29.08105546 27.03977365 28.62459949\n",
      " 24.72744978 35.78159518 35.11454587 32.25102801 24.58022019 25.59413475\n",
      " 19.79013684 20.31167129 21.43482591 18.53994008 17.18755992 20.75049026\n",
      " 22.64829115 19.7720367  20.64965864 26.52586744 20.77323638 20.71548315\n",
      " 25.17208881 20.43025591 23.37724626 23.69043261 20.33578364 20.79180873\n",
      " 21.91632071 22.47107777 20.55738556 16.36661977 20.56099819 22.48178446\n",
      " 14.61706633 15.17876684 18.93868592 14.05573285 20.03527399 19.41013402\n",
      " 20.06191566 15.75807673 13.25645238 17.26277735 15.87841883 19.36163954\n",
      " 13.81483897 16.44881475 13.57141932  3.98885508 14.59495478 12.1488148\n",
      "  8.72822362 12.03585343 15.82082058  8.5149902   9.71844139 14.80451374\n",
      " 20.83858153 18.30101169 20.12282558 17.28601894 22.36600228 20.10375923\n",
      " 13.62125891 33.25982697 29.03017268 25.56752769 32.70827666 36.77467015\n",
      " 40.55765844 41.84728168 24.78867379 25.37889238 37.20347455 23.08748747\n",
      " 26.40273955 26.65382114 22.5551466  24.29082812 22.97657219 29.07194308\n",
      " 26.5219434  30.72209056 25.61669307 29.13740979 31.43571968 32.92231568\n",
      " 34.72440464 27.76552111 33.88787321 30.99238036 22.71820008 24.7664781\n",
      " 35.88497226 33.42476722 32.41199147 34.51509949 30.76109485 30.28934141\n",
      " 32.91918714 32.11260771 31.55871004 40.84555721 36.12770079 32.6692081\n",
      " 34.70469116 30.09345162 30.64393906 29.28719501 37.07148392 42.03193124\n",
      " 43.18949844 22.69034796 23.68284712 17.85447214 23.49428992 17.00587718\n",
      " 22.39251096 17.06042754 22.73892921 25.21942554 11.11916737 24.51049148\n",
      " 26.60334775 28.35518713 24.91525464 29.68652768 33.18419746 23.77456656\n",
      " 32.14051958 29.7458199  38.37102453 39.81461867 37.58605755 32.3995325\n",
      " 35.45665242 31.23411512 24.48449227 33.28837292 38.0481048  37.16328631\n",
      " 31.71383523 25.26705571 30.10010745 32.71987156 28.42717057 28.42940678\n",
      " 27.29375938 23.74262478 24.12007891 27.40208414 16.3285756  13.39891261\n",
      " 20.01638775 19.86184428 21.2883131  24.0798915  24.20633547 25.04215821\n",
      " 24.91964007 29.94563374 23.97228316 21.69580887 37.51109239 43.30239043\n",
      " 36.48361421 34.98988594 34.81211508 37.16631331 40.98928501 34.44634089\n",
      " 35.83397547 28.245743   31.22673593 40.8395575  39.31792393 25.70817905\n",
      " 22.30295533 27.20340972 28.51169472 35.47676598 36.10639164 33.79668274\n",
      " 35.61085858 34.83993382 30.35192656 35.30980701 38.79756966 34.33123186\n",
      " 40.33963075 44.67308339 31.59689086 27.3565923  20.10174154 27.04206674\n",
      " 27.2136458  26.91395839 33.43563311 34.40349633 31.8333982  25.81783237\n",
      " 24.42982348 28.45764337 27.36266999 19.53928758 29.11309844 31.91054611\n",
      " 30.77159449 28.94275871 28.88191022 32.79887232 33.20905456 30.76831792\n",
      " 35.56226857 32.70905124 28.64244237 23.58965827 18.54266897 26.87889843\n",
      " 23.28133979 25.54580246 25.48120057 20.53909901 17.61572573 18.37581686\n",
      " 24.29070277 21.32529039 24.88682244 24.86937282 22.86952447 19.45123791\n",
      " 25.11783401 24.66786913 23.68076177 19.34089616 21.17418105 24.25249073\n",
      " 21.59260894 19.98446605 23.33888    22.14060692 21.55509929 20.61872907\n",
      " 20.16097176 19.28490387 22.1667232  21.24965774 21.42939305 30.32788796\n",
      " 22.04734975 27.70647912 28.54794117 16.54501121 14.78359641 25.27380082\n",
      " 27.54205117 22.14837562 20.45944095 20.54605423 16.88063827 25.40253506\n",
      " 14.32486632 16.59488462 19.63704691 22.71806607 22.20218887 19.20548057\n",
      " 22.66616105 18.93192618 18.22846804 20.23150811 37.4944739  14.28190734\n",
      " 15.54286248 10.83162324 23.80072902 32.6440736  34.60684042 24.94331333\n",
      " 25.9998091   6.126325    0.77779806 25.30713064 17.74061065 20.23274414\n",
      " 15.83331301 16.83512587 14.36994825 18.47682833 13.4276828  13.06177512\n",
      "  3.27918116  8.06022171  6.12842196  5.6186481   6.4519857  14.20764735\n",
      " 17.21225183 17.29887265  9.89116643 20.22124193 17.94181175 20.30445783\n",
      " 19.29559075 16.33632779  6.55162319 10.89016778 11.88145871 17.81174507\n",
      " 18.26126587 12.97948781  7.37816361  8.21115861  8.06626193 19.98294786\n",
      " 13.70756369 19.85268454 15.22308298 16.96071981  1.71851807 11.80578387\n",
      " -4.28131071  9.58376737 13.36660811  6.89562363  6.14779852 14.60661794\n",
      " 19.6000267  18.12427476 18.52177132 13.1752861  14.62617624  9.92374976\n",
      " 16.34590647 14.07519426 14.25756243 13.04234787 18.15955693 18.69554354\n",
      " 21.527283   17.03141861 15.96090435 13.36141611 14.52079384  8.81976005\n",
      "  4.86751102 13.06591313 12.70609699 17.29558059 18.740485   18.05901029\n",
      " 11.51474683 11.97400359 17.68344618 18.12695239 17.5183465  17.22742507\n",
      " 16.52271631 19.41291095 18.58215236 22.48944791 15.28000133 15.82089335\n",
      " 12.68725581 12.8763379  17.18668531 18.51247609 19.04860533 20.17208927\n",
      " 19.7740732  22.42940768 20.31911854 17.88616253 14.37478523 16.94776851\n",
      " 16.98405762 18.58838397 20.16719441 22.97718032 22.45580726 25.57824627\n",
      " 16.39147632 16.1114628  20.534816   11.54272738 19.20496304 21.86276391\n",
      " 23.46878866 27.09887315 28.56994302 21.08398783 19.45516196 22.22225914\n",
      " 19.65591961 21.32536104 11.85583717  8.22386687  3.66399672 13.75908538\n",
      " 15.93118545 20.62662054 20.61249414 16.88541964 14.01320787 19.10854144\n",
      " 21.29805174 18.45498841 20.46870847 23.53334055 22.37571892 27.6274261\n",
      " 26.12796681 22.34421229]\n"
     ]
    },
    {
     "name": "stderr",
     "output_type": "stream",
     "text": [
      "C:\\Users\\KRISMANTO\\anaconda3\\lib\\site-packages\\sklearn\\utils\\deprecation.py:87: FutureWarning: Function load_boston is deprecated; `load_boston` is deprecated in 1.0 and will be removed in 1.2.\n",
      "\n",
      "    The Boston housing prices dataset has an ethical problem. You can refer to\n",
      "    the documentation of this function for further details.\n",
      "\n",
      "    The scikit-learn maintainers therefore strongly discourage the use of this\n",
      "    dataset unless the purpose of the code is to study and educate about\n",
      "    ethical issues in data science and machine learning.\n",
      "\n",
      "    In this special case, you can fetch the dataset from the original\n",
      "    source::\n",
      "\n",
      "        import pandas as pd\n",
      "        import numpy as np\n",
      "\n",
      "\n",
      "        data_url = \"http://lib.stat.cmu.edu/datasets/boston\"\n",
      "        raw_df = pd.read_csv(data_url, sep=\"\\s+\", skiprows=22, header=None)\n",
      "        data = np.hstack([raw_df.values[::2, :], raw_df.values[1::2, :2]])\n",
      "        target = raw_df.values[1::2, 2]\n",
      "\n",
      "    Alternative datasets include the California housing dataset (i.e.\n",
      "    :func:`~sklearn.datasets.fetch_california_housing`) and the Ames housing\n",
      "    dataset. You can load the datasets as follows::\n",
      "\n",
      "        from sklearn.datasets import fetch_california_housing\n",
      "        housing = fetch_california_housing()\n",
      "\n",
      "    for the California housing dataset and::\n",
      "\n",
      "        from sklearn.datasets import fetch_openml\n",
      "        housing = fetch_openml(name=\"house_prices\", as_frame=True)\n",
      "\n",
      "    for the Ames housing dataset.\n",
      "    \n",
      "  warnings.warn(msg, category=FutureWarning)\n"
     ]
    }
   ],
   "source": [
    "from sklearn import linear_model\n",
    "from sklearn import datasets # Import dataset from scikit-learn\n",
    "data = datasets.load_boston() # Loads Boston dataset from datasets library\n",
    "# Define the data/predictors as the pre-set feature names\n",
    "df = pd.DataFrame(data.data, columns=data.feature_names)\n",
    "\n",
    "# Put the target (Housing value -- MEDV) in another DataFrame\n",
    "target = pd.DataFrame(data.target, columns=['MEDV'])\n",
    "\n",
    "X = df\n",
    "y = target['MEDV']\n",
    "\n",
    "lm = linear_model.LinearRegression()\n",
    "model = lm.fit(X, y)\n",
    "\n",
    "predictions = lm.predict(X)\n",
    "print(predictions)"
   ]
  },
  {
   "cell_type": "code",
   "execution_count": 58,
   "id": "f45857cb",
   "metadata": {},
   "outputs": [
    {
     "data": {
      "text/plain": [
       "0.7406426641094095"
      ]
     },
     "execution_count": 58,
     "metadata": {},
     "output_type": "execute_result"
    }
   ],
   "source": [
    "lm.score(X, y)"
   ]
  },
  {
   "cell_type": "markdown",
   "id": "687c0d9c",
   "metadata": {},
   "source": [
    "### Using SKlearn Example 2\n"
   ]
  },
  {
   "cell_type": "code",
   "execution_count": 59,
   "id": "502cc9e4",
   "metadata": {},
   "outputs": [
    {
     "data": {
      "text/html": [
       "<div>\n",
       "<style scoped>\n",
       "    .dataframe tbody tr th:only-of-type {\n",
       "        vertical-align: middle;\n",
       "    }\n",
       "\n",
       "    .dataframe tbody tr th {\n",
       "        vertical-align: top;\n",
       "    }\n",
       "\n",
       "    .dataframe thead th {\n",
       "        text-align: right;\n",
       "    }\n",
       "</style>\n",
       "<table border=\"1\" class=\"dataframe\">\n",
       "  <thead>\n",
       "    <tr style=\"text-align: right;\">\n",
       "      <th></th>\n",
       "      <th>horsepower</th>\n",
       "      <th>price</th>\n",
       "    </tr>\n",
       "  </thead>\n",
       "  <tbody>\n",
       "    <tr>\n",
       "      <th>0</th>\n",
       "      <td>111</td>\n",
       "      <td>13495.0</td>\n",
       "    </tr>\n",
       "    <tr>\n",
       "      <th>1</th>\n",
       "      <td>111</td>\n",
       "      <td>16500.0</td>\n",
       "    </tr>\n",
       "    <tr>\n",
       "      <th>2</th>\n",
       "      <td>154</td>\n",
       "      <td>16500.0</td>\n",
       "    </tr>\n",
       "    <tr>\n",
       "      <th>3</th>\n",
       "      <td>102</td>\n",
       "      <td>13950.0</td>\n",
       "    </tr>\n",
       "    <tr>\n",
       "      <th>4</th>\n",
       "      <td>115</td>\n",
       "      <td>17450.0</td>\n",
       "    </tr>\n",
       "  </tbody>\n",
       "</table>\n",
       "</div>"
      ],
      "text/plain": [
       "   horsepower    price\n",
       "0         111  13495.0\n",
       "1         111  16500.0\n",
       "2         154  16500.0\n",
       "3         102  13950.0\n",
       "4         115  17450.0"
      ]
     },
     "execution_count": 59,
     "metadata": {},
     "output_type": "execute_result"
    }
   ],
   "source": [
    "import pandas as pd\n",
    "import matplotlib.pyplot as plt\n",
    "from sklearn.linear_model import LinearRegression\n",
    "from sklearn.model_selection import train_test_split\n",
    "\n",
    "df = pd.read_csv('https://raw.githubusercontent.com/ardhiraka/PFDS_sources/master/CarPrice_Assignment.csv', usecols=['horsepower', 'price'])\n",
    "df.head()"
   ]
  },
  {
   "cell_type": "code",
   "execution_count": 60,
   "id": "46d9d9ae",
   "metadata": {},
   "outputs": [
    {
     "data": {
      "text/plain": [
       "(205, 2)"
      ]
     },
     "execution_count": 60,
     "metadata": {},
     "output_type": "execute_result"
    }
   ],
   "source": [
    "df.shape\n"
   ]
  },
  {
   "cell_type": "code",
   "execution_count": 61,
   "id": "ad62a285",
   "metadata": {},
   "outputs": [
    {
     "data": {
      "image/png": "[encoded data removed]",
      "text/plain": [
       "<Figure size 864x288 with 2 Axes>"
      ]
     },
     "metadata": {
      "needs_background": "light"
     },
     "output_type": "display_data"
    }
   ],
   "source": [
    "f = plt.figure(figsize=(12, 4))\n",
    "\n",
    "f.add_subplot(1, 2, 1)\n",
    "df['horsepower'].plot(kind='kde')\n",
    "\n",
    "f.add_subplot(1, 2, 2)\n",
    "plt.boxplot(df['horsepower'])\n",
    "plt.show()"
   ]
  },
  {
   "cell_type": "code",
   "execution_count": 62,
   "id": "9cf3652b",
   "metadata": {},
   "outputs": [
    {
     "data": {
      "image/png": "[encoded data removed]",
      "text/plain": [
       "<Figure size 432x288 with 1 Axes>"
      ]
     },
     "metadata": {
      "needs_background": "light"
     },
     "output_type": "display_data"
    }
   ],
   "source": [
    "plt.scatter(df['horsepower'], df['price'])\n",
    "\n",
    "plt.xlabel('Horsepower')\n",
    "plt.ylabel('Price')\n",
    "plt.title('Scatter Plot Horsepower vs Price')\n",
    "plt.show()\n"
   ]
  },
  {
   "cell_type": "code",
   "execution_count": 63,
   "id": "9de6c395",
   "metadata": {},
   "outputs": [
    {
     "data": {
      "text/html": [
       "<div>\n",
       "<style scoped>\n",
       "    .dataframe tbody tr th:only-of-type {\n",
       "        vertical-align: middle;\n",
       "    }\n",
       "\n",
       "    .dataframe tbody tr th {\n",
       "        vertical-align: top;\n",
       "    }\n",
       "\n",
       "    .dataframe thead th {\n",
       "        text-align: right;\n",
       "    }\n",
       "</style>\n",
       "<table border=\"1\" class=\"dataframe\">\n",
       "  <thead>\n",
       "    <tr style=\"text-align: right;\">\n",
       "      <th></th>\n",
       "      <th>horsepower</th>\n",
       "      <th>price</th>\n",
       "    </tr>\n",
       "  </thead>\n",
       "  <tbody>\n",
       "    <tr>\n",
       "      <th>horsepower</th>\n",
       "      <td>1.000000</td>\n",
       "      <td>0.808139</td>\n",
       "    </tr>\n",
       "    <tr>\n",
       "      <th>price</th>\n",
       "      <td>0.808139</td>\n",
       "      <td>1.000000</td>\n",
       "    </tr>\n",
       "  </tbody>\n",
       "</table>\n",
       "</div>"
      ],
      "text/plain": [
       "            horsepower     price\n",
       "horsepower    1.000000  0.808139\n",
       "price         0.808139  1.000000"
      ]
     },
     "execution_count": 63,
     "metadata": {},
     "output_type": "execute_result"
    }
   ],
   "source": [
    "df.corr()\n"
   ]
  },
  {
   "cell_type": "code",
   "execution_count": 64,
   "id": "7f836b14",
   "metadata": {},
   "outputs": [],
   "source": [
    "x = df['horsepower'].values.reshape(-1, 1)\n",
    "y = df['price'].values.reshape(-1, 1)"
   ]
  },
  {
   "cell_type": "code",
   "execution_count": 65,
   "id": "2c47a933",
   "metadata": {},
   "outputs": [],
   "source": [
    "x_train, x_test, y_train, y_test = train_test_split(x, y, test_size=0.2)\n"
   ]
  },
  {
   "cell_type": "code",
   "execution_count": 66,
   "id": "953d579b",
   "metadata": {},
   "outputs": [
    {
     "data": {
      "text/plain": [
       "(164, 1)"
      ]
     },
     "execution_count": 66,
     "metadata": {},
     "output_type": "execute_result"
    }
   ],
   "source": [
    "x_train.shape\n"
   ]
  },
  {
   "cell_type": "code",
   "execution_count": 67,
   "id": "bd7fecfa",
   "metadata": {},
   "outputs": [
    {
     "data": {
      "text/plain": [
       "(41, 1)"
      ]
     },
     "execution_count": 67,
     "metadata": {},
     "output_type": "execute_result"
    }
   ],
   "source": [
    "x_test.shape"
   ]
  },
  {
   "cell_type": "code",
   "execution_count": 68,
   "id": "90d9b37e",
   "metadata": {},
   "outputs": [
    {
     "data": {
      "text/plain": [
       "LinearRegression()"
      ]
     },
     "execution_count": 68,
     "metadata": {},
     "output_type": "execute_result"
    }
   ],
   "source": [
    "lin_reg = LinearRegression()\n",
    "lin_reg.fit(x_train, y_train)"
   ]
  },
  {
   "cell_type": "code",
   "execution_count": 69,
   "id": "188083c6",
   "metadata": {},
   "outputs": [
    {
     "data": {
      "text/plain": [
       "LinearRegression(normalize=False)"
      ]
     },
     "execution_count": 69,
     "metadata": {},
     "output_type": "execute_result"
    }
   ],
   "source": [
    "LinearRegression(copy_X=True, fit_intercept=True, n_jobs=None, normalize=False)\n"
   ]
  },
  {
   "cell_type": "code",
   "execution_count": 70,
   "id": "df5e6947",
   "metadata": {},
   "outputs": [
    {
     "name": "stdout",
     "output_type": "stream",
     "text": [
      "[[154.44079747]]\n",
      "[-2891.16753743]\n"
     ]
    }
   ],
   "source": [
    "print(lin_reg.coef_)\n",
    "print(lin_reg.intercept_)\n"
   ]
  },
  {
   "cell_type": "code",
   "execution_count": 71,
   "id": "75c35661",
   "metadata": {},
   "outputs": [
    {
     "data": {
      "text/plain": [
       "0.7193704416017161"
      ]
     },
     "execution_count": 71,
     "metadata": {},
     "output_type": "execute_result"
    }
   ],
   "source": [
    "lin_reg.score(x_test, y_test)"
   ]
  },
  {
   "cell_type": "code",
   "execution_count": 72,
   "id": "3fcdab26",
   "metadata": {},
   "outputs": [
    {
     "data": {
      "text/plain": [
       "Text(0.5, 1.0, 'Plot Horsepower vs Price')"
      ]
     },
     "execution_count": 72,
     "metadata": {},
     "output_type": "execute_result"
    },
    {
     "data": {
      "image/png": "[encoded data removed]",
      "text/plain": [
       "<Figure size 432x288 with 1 Axes>"
      ]
     },
     "metadata": {
      "needs_background": "light"
     },
     "output_type": "display_data"
    }
   ],
   "source": [
    "y_prediction = lin_reg.predict(x_test)\n",
    "plt.scatter(x_test, y_test)\n",
    "plt.plot(x_test, y_prediction, c='r')\n",
    "plt.xlabel('Horsepower')\n",
    "plt.ylabel('Price')\n",
    "plt.title('Plot Horsepower vs Price')"
   ]
  },
  {
   "cell_type": "code",
   "execution_count": 73,
   "id": "1efcb73f",
   "metadata": {},
   "outputs": [
    {
     "data": {
      "text/plain": [
       "array([[12552.91220933]])"
      ]
     },
     "execution_count": 73,
     "metadata": {},
     "output_type": "execute_result"
    }
   ],
   "source": [
    "lin_reg.predict([[100]])"
   ]
  },
  {
   "cell_type": "code",
   "execution_count": 74,
   "id": "bbcf2ca3",
   "metadata": {},
   "outputs": [
    {
     "data": {
      "text/plain": [
       "array([[20274.95208271]])"
      ]
     },
     "execution_count": 74,
     "metadata": {},
     "output_type": "execute_result"
    }
   ],
   "source": [
    "lin_reg.predict([[150]])"
   ]
  },
  {
   "cell_type": "code",
   "execution_count": 75,
   "id": "47b7f876",
   "metadata": {},
   "outputs": [
    {
     "data": {
      "text/plain": [
       "array([[20274.95208271]])"
      ]
     },
     "execution_count": 75,
     "metadata": {},
     "output_type": "execute_result"
    }
   ],
   "source": [
    "lin_reg.predict([[150]])"
   ]
  },
  {
   "cell_type": "code",
   "execution_count": null,
   "id": "2c0a798f",
   "metadata": {},
   "outputs": [],
   "source": []
  }
 ],
 "metadata": {
  "kernelspec": {
   "display_name": "Python 3 (ipykernel)",
   "language": "python",
   "name": "python3"
  },
  "language_info": {
   "codemirror_mode": {
    "name": "ipython",
    "version": 3
   },
   "file_extension": ".py",
   "mimetype": "text/x-python",
   "name": "python",
   "nbconvert_exporter": "python",
   "pygments_lexer": "ipython3",
   "version": "3.9.12"
  }
 },
 "nbformat": 4,
 "nbformat_minor": 5
}
