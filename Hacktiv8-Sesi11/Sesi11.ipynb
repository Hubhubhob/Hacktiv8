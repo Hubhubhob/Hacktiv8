{
 "cells": [
  {
   "cell_type": "markdown",
   "id": "f09e9cb8",
   "metadata": {},
   "source": [
    "<img src=\"https://lh3.googleusercontent.com/RF732BF33x9KZfm9GTxSyHSQbmlk4qF9buyVcgu3Mu9ZZAkR7T1QrjBk2j5tuS8nTXFccX6a6mcBTKwGmoFlKWHU18WAYGJgbEfUsiw=w680\" width=\"400\" align=\"center\">\n"
   ]
  },
  {
   "cell_type": "markdown",
   "id": "e4ce4534",
   "metadata": {},
   "source": [
    "# Catatan Sesi 11"
   ]
  },
  {
   "cell_type": "markdown",
   "id": "8da5cd9b",
   "metadata": {},
   "source": [
    "## Regression\n",
    "Regression analysis adalah salah satu bidang terpenting dalam statistik dan machine learning.\n",
    "\n",
    "## What is Regression?\n",
    "Regression mencari hubungan antara variabel.\n",
    "\n",
    "Regression adalah bentuk lain dari supervised learning. Perbedaan antara classification dan regression adalah bahwa regression menghasilkan angka daripada kelas. Oleh karena itu, regression berguna saat memprediksi masalah berbasis angka seperti harga pasar saham, suhu, untuk hari tertentu, atau probabilitas suatu peristiwa.\n",
    "\n",
    "Secara umum, dalam regression analysis, kita biasanya mempertimbangkan beberapa fenomena yang menarik dan memiliki sejumlah pengamatan. Setiap observasi memiliki dua atau lebih fitur. Mengikuti asumsi bahwa (setidaknya) salah satu fiture bergantung pada yang lain, kita mencoba membangun hubungan di antara fitur tersebut.\n",
    "\n",
    "Dengan kata lain, kita perlu menemukan fungsi yang memetakan beberapa fitur atau variabel ke fitur lain dengan cukup baik\n",
    "\n",
    "Fitur dependen/dependent features disebut variabel dependen/dependent variables, output, atau responses.\n",
    "\n",
    "Fitur independen/independent features disebut variabel independen/independent variables, input, atau predictors.\n",
    "\n",
    "Masalah regresi biasanya memiliki satu variabel dependen yang kontinu dan tidak terbatas. Namun, masukan dapat berupa data kontinu, diskrit, atau bahkan kategorikal seperti jenis kelamin, kebangsaan, merek, dan sebagainya.\n",
    "\n",
    "Biasanya kita melambangkan output dengan 𝑦 dan input dengan 𝑥. Jika ada dua atau lebih variabel independen, mereka dapat direpresentasikan sebagai vektor 𝐱 = (𝑥₁,…, 𝑥ᵣ), di mana 𝑟 adalah jumlah input.\n",
    "\n",
    "## When Do You Need Regression?\n",
    "Biasanya, kita memerlukan regresi untuk menjawab apakah dan bagaimana beberapa fenomena memengaruhi yang lain atau bagaimana terkaitnya variabel yang ada. Misalnya, kita dapat menggunakannya untuk menentukan apakah dan sejauh mana pengalaman atau gender memengaruhi gaji.\n",
    "\n",
    "Regresi juga berguna saat kita ingin meramalkan respons menggunakan kumpulan prediktor baru. Misalnya, kita dapat mencoba memprediksi konsumsi listrik rumah tangga untuk satu jam ke depan dengan melihat suhu luar ruangan, waktu, dan jumlah penduduk dalam rumah tersebut.\n",
    "\n",
    "Regresi digunakan di berbagai bidang: ekonomi, ilmu komputer, ilmu sosial, dan sebagainya. Kepentingannya meningkat setiap hari dengan ketersediaan data dalam jumlah besar dan kesadaran yang meningkat tentang nilai praktis data.\n",
    "## Linear Regression\n",
    "Linear regression mungkin salah satu teknik regresi yang paling penting dan banyak digunakan. Ini adalah salah satu metode regresi yang paling sederhana. Salah satu keuntungan utamanya adalah kemudahan interpretasi hasil.\n",
    "\n",
    "## Problem Formulation\n",
    "Saat menerapkan linear regression dari beberaoa variabel dependen 𝑦 pada himpunan variabel independen 𝐱 = (𝑥₁,…, 𝑥ᵣ), di mana 𝑟 adalah jumlah prediktor, kita mengasumsikan linear relationship antara 𝑦 dan 𝐱: 𝑦 = 𝛽₀ + 𝛽₁𝑥₁ + 𝛽₁𝑥₁ + 𝛽ᵣ𝑥ᵣ + 𝜀. Persamaan ini adalah persamaan regresi. 𝛽₀, 𝛽₁,…, 𝛽ᵣ adalah koefisien regresi, dan 𝜀 adalah random error.\n",
    "\n",
    "Linear regression menghitung estimators dari koefisien regresi atau predicted weights, dilambangkan dengan 𝑏₀, 𝑏₁,…, 𝑏ᵣ. Koefisien regresi mendefinisikan estimated regression function 𝑓 (𝐱) = 𝑏₀ + 𝑏₁𝑥₁ + ⋯ + 𝑏ᵣ𝑥ᵣ. Fungsi ini harus menangkap ketergantungan antara input dan output dengan cukup baik.\n",
    "\n",
    "Estimated atau predicted response, 𝑓 (𝐱ᵢ), untuk setiap pengamatan 𝑖 = 1,…, 𝑛, harus sedekat mungkin dengan actual response yang sesuai 𝑦ᵢ. Perbedaan 𝑦ᵢ - 𝑓 (𝐱ᵢ) untuk semua pengamatan 𝑖 = 1,…, 𝑛, disebut residuals. Regresi adalah tentang menentukan best predicted weights, yaitu bobot yang sesuai dengan residuals terkecil.\n",
    "\n",
    "Untuk mendapatkan bobot terbaik, biasanya kita meminimalkan sum of squared residuals (SSR) untuk semua pengamatan 𝑖 = 1,…, 𝑛: SSR = Σᵢ (𝑦ᵢ - 𝑓 (𝐱ᵢ)) ². Pendekatan ini disebut method of ordinary least squares.\n",
    "\n",
    "## Regression Performance\n",
    "Variasi respon aktual 𝑦ᵢ, 𝑖 = 1,…, 𝑛, terjadi sebagian karena ketergantungan pada prediktor 𝐱ᵢ. Namun, ada juga varian tambahan yang melekat pada output.\n",
    "\n",
    "Coefficient of determination, dilambangkan sebagai 𝑅², memberi tahu kita berapa banyak variasi dalam 𝑦 yang dapat dijelaskan oleh ketergantungan pada 𝐱 menggunakan model regresi tertentu. Lebih besar 𝑅² menunjukkan kesesuaian yang lebih baik dan berarti bahwa model dapat menjelaskan variasi keluaran dengan masukan yang berbeda dengan lebih baik.\n",
    "\n",
    "Nilai 𝑅² = 1 sesuai dengan SSR = 0, yaitu perfect fit karena nilai prediksi dan respons aktual saling cocok satu sama lain.\n",
    "\n",
    "## Simple Linear Regression\n",
    "Simple atau single-variate linear regression adalah kasus regresi linier yang paling sederhana dengan variabel independen tunggal, 𝐱 = 𝑥.\n",
    "\n",
    "Saat menerapkan simple linear regression, kita biasanya mulai dengan kumpulan pasangan input-output (𝑥-𝑦) tertentu (lingkaran hijau). Pasangan ini adalah observasi kita. Misalnya, pengamatan paling kiri (lingkaran hijau) memiliki masukan 𝑥 = 5 dan keluaran aktual (tanggapan) 𝑦 = 5. Yang berikutnya memiliki 𝑥 = 15 dan 𝑦 = 20, dan seterusnya.\n",
    "\n",
    "Estimated regression function (garis hitam) memiliki persamaan 𝑓 (𝑥) = 𝑏₀ + 𝑏₁𝑥. Tujuan kita adalah menghitung nilai optimal dari bobot prediksi 𝑏₀ dan 𝑏₁ yang meminimalkan SSR (Sum of Squares Regression) dan menentukan estimated regression function. Nilai 𝑏₀, juga disebut intercept, menunjukkan titik di mana garis regresi yang diperkirakan melintasi sumbu 𝑦. Ini adalah nilai perkiraan respon 𝑓 (𝑥) untuk 𝑥 = 0. Nilai 𝑏₁ menentukan kemiringan/slope garis regresi yang diperkirakan.\n",
    "\n",
    "Predicted responses (kotak merah) adalah titik-titik pada regression line yang sesuai dengan nilai input. Misalnya, untuk input 𝑥 = 5, respons yang diprediksi adalah 𝑓 (5) = 8,33 (diwakili dengan kotak merah paling kiri).\n",
    "\n",
    "Residuals (garis abu-abu putus-putus vertikal) dapat dihitung sebagai 𝑦ᵢ - 𝑓 (𝐱ᵢ) = 𝑦ᵢ - 𝑏₀ - 𝑏₁𝑥ᵢ untuk 𝑖 = 1,…, 𝑛. Itu adalah jarak antara lingkaran hijau dan kotak merah. Saat kita menerapkan regresi linier, kita sebenarnya mencoba meminimalkan jarak ini dan membuat kotak merah sedekat mungkin dengan lingkaran hijau yang telah ditentukan sebelumnya.\n",
    "\n",
    "## Multiple Linear Regression\n",
    "Multiple atau multivariate linear regression adalah kasus regresi linier dengan dua atau lebih independent variables.\n",
    "\n",
    "Jika hanya ada dua independent variables, estimated regression function-nya adalah 𝑓 (𝑥₁, 𝑥₂) = 𝑏₀ + 𝑏₁𝑥₁ + 𝑏₂𝑥₂. Ini mewakili bidang regresi dalam ruang tiga dimensi. Tujuan dari regresi adalah untuk menentukan nilai bobot 𝑏₀, 𝑏₁, dan 𝑏₂ sedemikian rupa sehingga bidang ini sedekat mungkin dengan respons aktual dan menghasilkan SSR minimal.\n",
    "\n",
    "Kasus lebih dari dua independent variables adalah serupa, tetapi lebih umum. Estimated regression function adalah 𝑓 (𝑥₁,…, 𝑥ᵣ) = 𝑏₀ + 𝑏₁𝑥₁ + ⋯ + 𝑏ᵣ𝑥ᵣ, dan ada 𝑟 + 1 bobot yang harus ditentukan jika jumlah masukan adalah 𝑟.\n",
    "\n",
    "## Polynomial Regression\n",
    "Kita dapat menganggap polynomial regression sebagai kasus umum linear regression. Kita mengasumsikan polynomial dependence antara output dan inputs , dan menghasilkan, polynomial estimated regression function.\n",
    "\n",
    "Dengan kata lain, selain istilah linier seperti 𝑏₁𝑥₁, fungsi regresi kita 𝑓 dapat menyertakan istilah non-linier seperti 𝑏₂𝑥₁², 𝑏₃𝑥₁³, atau bahkan 𝑏₄𝑥₁𝑥₂, 𝑏₅𝑥₁²𝑥₂, dan seterusnya.\n",
    "\n",
    "Contoh paling sederhana dari polynomial regression memiliki satu independent variable, dan estimated regression function adalah polynomial of degree 2: 𝑓 (𝑥) = 𝑏₀ + 𝑏₁𝑥 + 𝑏₂𝑥². Sekarang, ingatlah bahwa kita ingin menghitung 𝑏₀, 𝑏₁, dan 𝑏₂, yang meminimalkan SSR.\n",
    "\n",
    "Dengan mengingat hal ini, bandingkan regression function sebelumnya dengan fungsi 𝑓 (𝑥₁, 𝑥₂) = 𝑏₀ + 𝑏₁𝑥₁ + 𝑏₂𝑥₂ yang digunakan untuk linear regression. Mereka terlihat sangat mirip dan keduanya merupakan linear functions of the unknowns 𝑏₀, 𝑏₁, dan 𝑏₂. Inilah mengapa kita dapat menyelesaikan polynomial regression problem sebagai linier problem dengan istilah 𝑥² dianggap sebagai input variable.\n",
    "\n",
    "Dalam kasus dua variabel dan polynomial of degree 2, regression function memiliki bentuk ini: 𝑓 (𝑥₁, 𝑥₂) = 𝑏₀ + 𝑏₁𝑥₁ + 𝑏₂𝑥₂ + 𝑏₃𝑥₁² + 𝑏₄𝑥₁𝑥₂ + 𝑏₅𝑥₂². Prosedur penyelesaian masalah identik dengan kasus sebelumnya. Kita menerapkan regresi linier untuk lima masukan: 𝑥₁, 𝑥₂, 𝑥₁², 𝑥₁𝑥₂, dan 𝑥₂². Hasil dari regresi adalah nilai dari enam bobot yang meminimalkan SSR: 𝑏₀, 𝑏₁, 𝑏₂, 𝑏₃, 𝑏₄, dan 𝑏₅.\n",
    "\n",
    "## Underfitting and Overfitting\n",
    "Satu pertanyaan sangat penting yang mungkin muncul saat kita menerapkan polynomial regression terkait dengan pilihan optimal degree dari polynomial regression function.\n",
    "\n",
    "Tidak ada aturan langsung untuk melakukan ini. Tergantung kasusnya. Namun, kita harus menyadari dua masalah yang mungkin mengikuti choice of the degree: underfitting dan overfitting.\n",
    "\n",
    "Underfitting terjadi jika model tidak dapat menangkap dependensi di antara data secara akurat, biasanya sebagai konsekuensi dari kesederhanaannya sendiri. Seringkali menghasilkan 𝑅² rendah dengan data yang diketahui dan kemampuan generalisasi yang buruk saat diterapkan dengan data baru.\n",
    "\n",
    "Overfitting terjadi saat model mempelajari dependensi di antara data dan fluktuasi acak. Dengan kata lain, model mempelajari data yang ada dengan terlalu baik. Model kompleks, yang memiliki banyak fitur atau istilah, sering kali cenderung overfitting. Ketika diterapkan pada data yang diketahui, model seperti itu biasanya menghasilkan 𝑅² yang tinggi. Namun, mereka sering tidak menggeneralisasi dengan baik dan memiliki lebih rendah secara signifikan 𝑅² saat digunakan dengan data baru.\n",
    "\n",
    "Gambar berikut mengilustrasikan model underfitted, well-fit, dan overfitted:\n",
    "\n",
    "Plot kiri atas menunjukkan garis linear regression yang memiliki 𝑅² rendah. Mungkin juga penting bahwa garis lurus tidak dapat mengambil fakta bahwa actual response meningkat saat 𝑥 menjauh dari 25 menuju nol. Ini adalah contoh underfitting.\n",
    "\n",
    "Plot kanan atas menggambarkanpolynomial regression dengan degree sama dengan 2. Dalam contoh ini, mungkin derajat optimal untuk memodelkan data tersebut. Model ini memiliki nilai 𝑅² yang memuaskan dalam banyak kasus dan menunjukkan tren dengan baik.\n",
    "\n",
    "Plot kiri bawah menampilkan polynomial regression dengan degree sama dengan 3. Nilai 𝑅² lebih tinggi dari pada kasus sebelumnya. Model ini berperilaku lebih baik dengan data yang diketahui daripada yang sebelumnya. Namun, ini menunjukkan beberapa tanda overfitting, terutama untuk nilai input yang mendekati 60 saat garis mulai menurun, meskipun data sebenarnya tidak menunjukkannya.\n",
    "\n",
    "Akhirnya, pada plot kanan bawah, kita dapat melihat kesesuaian yang sempurna: enam titik dan polynomial line dengan derajat 5 (atau lebih tinggi) menghasilkan 𝑅² = 1. Setiap respons aktual sama dengan prediksi yang sesuai.\n",
    "\n",
    "Dalam beberapa situasi, ini mungkin yang kita cari. Namun, dalam banyak kasus, ini adalah model yang terlalu pas. Ini cenderung memiliki perilaku yang buruk dengan data yang tidak terlihat, terutama dengan input yang lebih besar dari 50.\n",
    "\n",
    "Sebagai contoh, ini mengasumsikan, tanpa bukti apapun, bahwa terdapat penurunan yang signifikan dalam respon untuk 𝑥> 50 dan 𝑦 mencapai nol untuk 𝑥 mendekati 60. Perilaku tersebut merupakan konsekuensi dari usaha yang berlebihan untuk mempelajari dan menyesuaikan dengan data yang ada.\n",
    "\n",
    "\n",
    "## Implementing Linear Regression in Python\n",
    "### Simple Linear Regression with scikit-learn\n",
    "Mari kita mulai dengan kasus paling sederhana, yaitu simple linear regression.\n",
    "\n",
    "Ada lima langkah dasar saat kita menerapkan simple linear regression:\n",
    "\n",
    "Import the packages and classes you need.\n",
    "Provide data to work with and eventually do appropriate transformations.\n",
    "Create a regression model and fit it with existing data.\n",
    "Check the results of model fitting to know whether the model is satisfactory.\n",
    "Apply the model for predictions.\n",
    "##### Step 1: Import packages and classes\n",
    "\n",
    "Langkah pertama adalah mengimpor package numpy dan class LinearRegression dari sklearn.linear_model yang akan digunakan untuk melakukan linear dan polynomial regression serta membuat prediksi yang sesuai."
   ]
  },
  {
   "cell_type": "code",
   "execution_count": 1,
   "id": "5c631965",
   "metadata": {},
   "outputs": [],
   "source": [
    "import numpy as np\n",
    "import matplotlib.pyplot as plt\n",
    "from sklearn.linear_model import LinearRegression\n",
    "\n",
    "%matplotlib inline"
   ]
  },
  {
   "cell_type": "markdown",
   "id": "e39c70f6",
   "metadata": {},
   "source": [
    "#### Step 2: Provide Data\n",
    "\n",
    "Langkah kedua adalah menentukan data untuk dikerjakan. Input (regressors, x) dan output (predictor, y) harus berupa array (instance kelas numpy.ndarray) atau objek serupa. Ini adalah cara paling sederhana dalam membuat data untuk regression:"
   ]
  },
  {
   "cell_type": "code",
   "execution_count": 2,
   "id": "70b5cca4",
   "metadata": {},
   "outputs": [],
   "source": [
    "x = np.array([5, 15, 25, 35, 45, 55]).reshape((-1, 1))\n",
    "y = np.array([5, 20, 14, 32, 22, 38])"
   ]
  },
  {
   "cell_type": "markdown",
   "id": "85cb76b9",
   "metadata": {},
   "source": [
    "Sekarang, kita memiliki dua array: input x dan output y. Kita harus memanggil .reshape() pada x karena array ini harus dua dimensi, atau lebih tepatnya, memiliki satu kolom dan baris sebanyak yang diperlukan. Persis seperti itulah yang ditentukan oleh argumen **.reshape((-1, 1))**"
   ]
  },
  {
   "cell_type": "code",
   "execution_count": 3,
   "id": "0dd48c60",
   "metadata": {},
   "outputs": [
    {
     "name": "stdout",
     "output_type": "stream",
     "text": [
      "[[ 5]\n",
      " [15]\n",
      " [25]\n",
      " [35]\n",
      " [45]\n",
      " [55]] [ 5 20 14 32 22 38]\n"
     ]
    }
   ],
   "source": [
    "print(x, y)\n"
   ]
  },
  {
   "cell_type": "markdown",
   "id": "ff26120f",
   "metadata": {},
   "source": [
    "### Step 3: Create a model and fit it\n",
    "\n",
    "Langkah selanjutnay adalah embuat linear regression model dan fit dengan data yang ada.\n",
    "\n",
    "Mari buat instance class LinearRegression, yang akan mewakili regression model:\n",
    "\n"
   ]
  },
  {
   "cell_type": "code",
   "execution_count": 4,
   "id": "636924d1",
   "metadata": {},
   "outputs": [],
   "source": [
    "model = LinearRegression()"
   ]
  },
  {
   "cell_type": "markdown",
   "id": "a4a55249",
   "metadata": {},
   "source": [
    "Pertanyaan ini membuat variabel model sebagai instance dari LinearRegression. Kita dapat memberikan beberapa parameter opsional untuk LinearRegression:\n",
    "\n",
    "- fit_intercept adalah Boolean (True secara default) yang memutuskan apakah akan menghitung intersep (True) atau menganggapnya sama dengan nol (False).\n",
    "- normalize adalah Boolean (False secara default) yang memutuskan apakah akan menormalkan variabel input (True) atau tidak (False).\n",
    "- copy_X adalah Boolean (True secara default) yang memutuskan apakah akan menyalin (True) atau menimpa variabel input (False).\n",
    "- n_jobs adalah integer atau None (default) dan mewakili jumlah pekerjaan yang digunakan dalam komputasi paralel. None biasanya berarti satu pekerjaan dan -1 untuk menggunakan semua prosesor.\n",
    "Contoh ini menggunakan nilai default dari semua parameter.\n",
    "\n",
    "Saatnya mulai menggunakan model. Pertama, kita perlu memanggil .fit() pada model:"
   ]
  },
  {
   "cell_type": "code",
   "execution_count": 5,
   "id": "d67c44a9",
   "metadata": {},
   "outputs": [
    {
     "data": {
      "text/plain": [
       "LinearRegression()"
      ]
     },
     "execution_count": 5,
     "metadata": {},
     "output_type": "execute_result"
    }
   ],
   "source": [
    "model.fit(x, y)\n"
   ]
  },
  {
   "cell_type": "code",
   "execution_count": 6,
   "id": "4e82b42f",
   "metadata": {},
   "outputs": [
    {
     "data": {
      "text/plain": [
       "LinearRegression(normalize=False)"
      ]
     },
     "execution_count": 6,
     "metadata": {},
     "output_type": "execute_result"
    }
   ],
   "source": [
    "LinearRegression(copy_X=True, fit_intercept=True, n_jobs=None, normalize=False)\n"
   ]
  },
  {
   "cell_type": "markdown",
   "id": "b8292f93",
   "metadata": {},
   "source": [
    "\n",
    "Dengan .fit(), kita menghitung nilai optimal dari bobot 𝑏₀ dan 𝑏₁, menggunakan masukan dan keluaran yang ada (x dan y) sebagai argumen. .fit() mengembalikan self, yang merupakan variable model itu sendiri. Itulah mengapa kita dapat mengganti dua pernyataan terakhir dengan yang ini:"
   ]
  },
  {
   "cell_type": "code",
   "execution_count": null,
   "id": "d3a1105f",
   "metadata": {},
   "outputs": [],
   "source": []
  }
 ],
 "metadata": {
  "kernelspec": {
   "display_name": "Python 3 (ipykernel)",
   "language": "python",
   "name": "python3"
  },
  "language_info": {
   "codemirror_mode": {
    "name": "ipython",
    "version": 3
   },
   "file_extension": ".py",
   "mimetype": "text/x-python",
   "name": "python",
   "nbconvert_exporter": "python",
   "pygments_lexer": "ipython3",
   "version": "3.9.12"
  }
 },
 "nbformat": 4,
 "nbformat_minor": 5
}
