{
 "cells": [
  {
   "cell_type": "markdown",
   "metadata": {},
   "source": [
    "# SUMMARY SELF - paced Learning"
   ]
  },
  {
   "cell_type": "markdown",
   "metadata": {},
   "source": [
    "Andreas Dimas Christanto - PYTN-KS08-017"
   ]
  },
  {
   "cell_type": "markdown",
   "metadata": {},
   "source": [
    "### Algoritma Machine Learning"
   ]
  },
  {
   "cell_type": "markdown",
   "metadata": {},
   "source": [
    "Introduction Machine Learning"
   ]
  },
  {
   "cell_type": "markdown",
   "metadata": {},
   "source": [
    "Machine Learning use Statistika & Computer Science without program. We must input the data , data can be expereince computer to know about the data "
   ]
  },
  {
   "cell_type": "markdown",
   "metadata": {},
   "source": [
    "Prediction: : Linear Regression "
   ]
  },
  {
   "cell_type": "markdown",
   "metadata": {},
   "source": [
    "###### Bayangkan ada ibu ibu yang membawa anak anaknya , ada anak 3 tahun ibunya 30 tahun dan ada anak 10 tahun umur ibunya 40 tahun. \n",
    "\n",
    "###### Dengan matematika simple jika ada anak 5 tahun maka 28 + (1.5 x 5) = 35.5\n",
    "###### Bisa mengenal indepen variabel\n",
    "###### Variabel Independen : Variabel yang  tidak dipengaruhi, akibat dari adanya variabel bebas.\n",
    "###### Variabel Dependen   : Variabel yang dipengaruhi, akibat dari adanya variabel bebas (Variabel Teritak).\n",
    "###### Misal mau kesemarang butuh 7 jam / 442 km jadi kalau PP 14jam/884km . Jadi berapa banyak bensin yang diperlukan "
   ]
  },
  {
   "cell_type": "markdown",
   "metadata": {},
   "source": [
    "Clustering: K Means Clustering"
   ]
  },
  {
   "cell_type": "markdown",
   "metadata": {},
   "source": []
  },
  {
   "cell_type": "markdown",
   "metadata": {},
   "source": []
  },
  {
   "cell_type": "markdown",
   "metadata": {},
   "source": []
  },
  {
   "cell_type": "markdown",
   "metadata": {},
   "source": []
  },
  {
   "cell_type": "markdown",
   "metadata": {},
   "source": []
  },
  {
   "cell_type": "code",
   "execution_count": null,
   "metadata": {},
   "outputs": [],
   "source": [
    "Introduction: Machine Learning"
   ]
  },
  {
   "cell_type": "markdown",
   "metadata": {},
   "source": []
  }
 ],
 "metadata": {
  "kernelspec": {
   "display_name": "Python 3.10.6 64-bit (microsoft store)",
   "language": "python",
   "name": "python3"
  },
  "language_info": {
   "name": "python",
   "version": "3.10.6"
  },
  "orig_nbformat": 4,
  "vscode": {
   "interpreter": {
    "hash": "82cfb9355cd4a84fcb8b00d922438d2e2ce306af33a9c3a4fcd35f64e1697b15"
   }
  }
 },
 "nbformat": 4,
 "nbformat_minor": 2
}
