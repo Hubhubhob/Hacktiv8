{
 "cells": [
  {
   "cell_type": "markdown",
   "id": "f09e9cb8",
   "metadata": {},
   "source": [
    "# Summary Of Session 5"
   ]
  },
  {
   "cell_type": "markdown",
   "id": "b800e5c4",
   "metadata": {},
   "source": [
    "6 September 2022"
   ]
  },
  {
   "cell_type": "markdown",
   "id": "86f2541d",
   "metadata": {},
   "source": [
    "# Pandas"
   ]
  },
  {
   "cell_type": "markdown",
   "id": "910f97c1",
   "metadata": {},
   "source": [
    "Pandas adalah tools analisis dan manipulasi data open source yang cepat, powerful, fleksibel, dan mudah digunakan, dibangun di atas bahasa pemrograman Python. \n",
    "\n",
    "Pandas is like Excel in Python: it uses tables (namely DataFrame) and operates transformations on the data. But it can do a lot more.\n"
   ]
  },
  {
   "cell_type": "code",
   "execution_count": null,
   "id": "124f129b",
   "metadata": {},
   "outputs": [],
   "source": [
    "import numpy as np \n",
    "import pandas as pd "
   ]
  },
  {
   "cell_type": "code",
   "execution_count": null,
   "id": "119f7398",
   "metadata": {},
   "outputs": [],
   "source": [
    "df = pd.read_csv('https://raw.githubusercontent.com/ardhiraka/PFDS_sources/master/nbaallelo.csv')"
   ]
  },
  {
   "cell_type": "code",
   "execution_count": null,
   "id": "77d28caa",
   "metadata": {},
   "outputs": [],
   "source": [
    "ln(df)"
   ]
  },
  {
   "cell_type": "code",
   "execution_count": null,
   "id": "54663f6a",
   "metadata": {},
   "outputs": [],
   "source": [
    "df.shape "
   ]
  },
  {
   "cell_type": "code",
   "execution_count": null,
   "id": "1d2b4dc6",
   "metadata": {},
   "outputs": [],
   "source": [
    "df.head()"
   ]
  },
  {
   "cell_type": "code",
   "execution_count": null,
   "id": "cb69ad9f",
   "metadata": {},
   "outputs": [],
   "source": [
    "pd.set_option(\"display.max.columns\", None)"
   ]
  },
  {
   "cell_type": "code",
   "execution_count": null,
   "id": "a7c1d804",
   "metadata": {},
   "outputs": [],
   "source": [
    "pd.set_option(\"display.precision\", 2)"
   ]
  },
  {
   "cell_type": "code",
   "execution_count": null,
   "id": "273e497d",
   "metadata": {},
   "outputs": [],
   "source": [
    "df.tail()"
   ]
  },
  {
   "cell_type": "code",
   "execution_count": null,
   "id": "d18f872f",
   "metadata": {},
   "outputs": [],
   "source": [
    "df.tail(3)"
   ]
  },
  {
   "cell_type": "code",
   "execution_count": null,
   "id": "3e86be44",
   "metadata": {},
   "outputs": [],
   "source": [
    "# Mengetahui tipe data tiap kolom\n",
    "df.info()"
   ]
  },
  {
   "cell_type": "code",
   "execution_count": null,
   "id": "4e5ef19e",
   "metadata": {},
   "outputs": [],
   "source": [
    "# Mendapatkan overview tentang nilai yang terkandung pada tiap kolom\n",
    "df.describe()"
   ]
  },
  {
   "cell_type": "code",
   "execution_count": 6,
   "id": "390f609f",
   "metadata": {},
   "outputs": [
    {
     "name": "stdout",
     "output_type": "stream",
     "text": [
      "Series([], dtype: float64)\n"
     ]
    },
    {
     "name": "stderr",
     "output_type": "stream",
     "text": [
      "C:\\Users\\KRISMANTO\\AppData\\Local\\Temp\\ipykernel_2780\\1794006891.py:3: FutureWarning: The default dtype for empty Series will be 'object' instead of 'float64' in a future version. Specify a dtype explicitly to silence this warning.\n",
      "  var = pd.Series()\n"
     ]
    }
   ],
   "source": [
    "import pandas as pd\n",
    "# pd.Series(data, index, dtype, copy)\n",
    "var = pd.Series()\n",
    "print(var)"
   ]
  },
  {
   "cell_type": "code",
   "execution_count": 9,
   "id": "c6bc00db",
   "metadata": {},
   "outputs": [
    {
     "name": "stdout",
     "output_type": "stream",
     "text": [
      "0    x\n",
      "1    y\n",
      "2    z\n",
      "3    a\n",
      "4    q\n",
      "dtype: object\n"
     ]
    }
   ],
   "source": [
    "import pandas as pd \n",
    "import numpy as np\n",
    "datanp = np.array(['x','y','z','a','q'])\n",
    "Series1 = pd.Series(datanp)\n",
    "print(Series1)\n"
   ]
  },
  {
   "cell_type": "code",
   "execution_count": 21,
   "id": "f816a5e0",
   "metadata": {},
   "outputs": [
    {
     "name": "stdout",
     "output_type": "stream",
     "text": [
      "10     a\n",
      "11     q\n",
      "12    qe\n",
      "13     y\n",
      "14     z\n",
      "dtype: object\n"
     ]
    }
   ],
   "source": [
    "datanp = np.array(['a','q','qe','y','z'])\n",
    "dts = pd.Series(datanp,index=[10,11,12,13,14])\n",
    "print(dts)"
   ]
  },
  {
   "cell_type": "code",
   "execution_count": 29,
   "id": "cea1da0f",
   "metadata": {},
   "outputs": [
    {
     "name": "stdout",
     "output_type": "stream",
     "text": [
      "Series([], dtype: object)\n",
      "['a' 'q' 'qe' 'y' 'z']\n",
      "Int64Index([10, 11, 12, 13, 14], dtype='int64')\n"
     ]
    }
   ],
   "source": [
    "#print(dts[10])\n",
    "print(dts[11:13])\n",
    "print(dts.values)\n",
    "print(dts.index)"
   ]
  },
  {
   "cell_type": "code",
   "execution_count": 31,
   "id": "85608540",
   "metadata": {},
   "outputs": [
    {
     "name": "stdout",
     "output_type": "stream",
     "text": [
      "<pandas.core.indexing._iLocIndexer object at 0x000001617FDCE860>\n",
      "<pandas.core.indexing._LocIndexer object at 0x000001617FD99770>\n"
     ]
    }
   ],
   "source": [
    "print(dts.iloc)\n",
    "print(dts.loc)\n"
   ]
  },
  {
   "cell_type": "code",
   "execution_count": 36,
   "id": "26b8f692",
   "metadata": {},
   "outputs": [
    {
     "ename": "SyntaxError",
     "evalue": "cannot assign to function call (3316659147.py, line 3)",
     "output_type": "error",
     "traceback": [
      "\u001b[1;36m  Input \u001b[1;32mIn [36]\u001b[1;36m\u001b[0m\n\u001b[1;33m    dats = pd.Series([1,2,3,4]),index=([1,3,4,5])\u001b[0m\n\u001b[1;37m           ^\u001b[0m\n\u001b[1;31mSyntaxError\u001b[0m\u001b[1;31m:\u001b[0m cannot assign to function call\n"
     ]
    }
   ],
   "source": [
    "import pandas as pd \n",
    "import numpy as np\n",
    "dats = pd.Series([1,2,3,4]),index=([1,3,4,5])\n",
    "print(dats)\n",
    "print(dats.index)"
   ]
  },
  {
   "cell_type": "markdown",
   "id": "cc649f47",
   "metadata": {},
   "source": [
    "Bintang tadi untuk apa ya pak \n",
    "\n",
    "kalau mau manggil data ke nol \n",
    "\n",
    "kalau mau panggil 0,0 gimana gtu ya "
   ]
  },
  {
   "cell_type": "code",
   "execution_count": 18,
   "id": "7594308e",
   "metadata": {},
   "outputs": [
    {
     "name": "stdout",
     "output_type": "stream",
     "text": [
      "a    0.7\n",
      "b    2.0\n",
      "dtype: float64\n"
     ]
    }
   ],
   "source": [
    "datadict = {'a':0.7,'b':2}\n",
    "dtsdict = pd.Series(datadict)\n",
    "print(dtsdict)"
   ]
  },
  {
   "cell_type": "code",
   "execution_count": 24,
   "id": "13d53eaa",
   "metadata": {},
   "outputs": [
    {
     "ename": "SyntaxError",
     "evalue": "invalid syntax (1618452235.py, line 1)",
     "output_type": "error",
     "traceback": [
      "\u001b[1;36m  Input \u001b[1;32mIn [24]\u001b[1;36m\u001b[0m\n\u001b[1;33m    datanp = np.array(['a':0.7,'b':2])\u001b[0m\n\u001b[1;37m                          ^\u001b[0m\n\u001b[1;31mSyntaxError\u001b[0m\u001b[1;31m:\u001b[0m invalid syntax\n"
     ]
    }
   ],
   "source": [
    "datanp = np.array(['a':0.7,'b':2])\n",
    "dts = pd.Series(datanp,index=['e','q'])\n",
    "print(dts)"
   ]
  },
  {
   "cell_type": "markdown",
   "id": "55e613b0",
   "metadata": {},
   "source": [
    "# Data Frame"
   ]
  },
  {
   "cell_type": "code",
   "execution_count": 44,
   "id": "b8cac754",
   "metadata": {},
   "outputs": [
    {
     "name": "stdout",
     "output_type": "stream",
     "text": [
      "   name  age  address qualification\n",
      "0  Budi   10      DKI           msc\n",
      "1  Ivan   20  Bandung           msc\n",
      "2  Wati   40    Bogor            aa\n"
     ]
    },
    {
     "data": {
      "text/html": [
       "<div>\n",
       "<style scoped>\n",
       "    .dataframe tbody tr th:only-of-type {\n",
       "        vertical-align: middle;\n",
       "    }\n",
       "\n",
       "    .dataframe tbody tr th {\n",
       "        vertical-align: top;\n",
       "    }\n",
       "\n",
       "    .dataframe thead th {\n",
       "        text-align: right;\n",
       "    }\n",
       "</style>\n",
       "<table border=\"1\" class=\"dataframe\">\n",
       "  <thead>\n",
       "    <tr style=\"text-align: right;\">\n",
       "      <th></th>\n",
       "      <th>name</th>\n",
       "      <th>qualification</th>\n",
       "    </tr>\n",
       "  </thead>\n",
       "  <tbody>\n",
       "    <tr>\n",
       "      <th>0</th>\n",
       "      <td>Budi</td>\n",
       "      <td>msc</td>\n",
       "    </tr>\n",
       "    <tr>\n",
       "      <th>1</th>\n",
       "      <td>Ivan</td>\n",
       "      <td>msc</td>\n",
       "    </tr>\n",
       "    <tr>\n",
       "      <th>2</th>\n",
       "      <td>Wati</td>\n",
       "      <td>aa</td>\n",
       "    </tr>\n",
       "  </tbody>\n",
       "</table>\n",
       "</div>"
      ],
      "text/plain": [
       "   name qualification\n",
       "0  Budi           msc\n",
       "1  Ivan           msc\n",
       "2  Wati            aa"
      ]
     },
     "execution_count": 44,
     "metadata": {},
     "output_type": "execute_result"
    }
   ],
   "source": [
    "import pandas as pd \n",
    "datadict = { 'name' : ['Budi','Ivan','Wati'],\n",
    "           'age' : [10,20,40],\n",
    "            'address':['DKI','Bandung','Bogor'],\n",
    "            'qualification':['msc','msc','aa']\n",
    "           }\n",
    "df = pd.DataFrame(datadict)\n",
    "print(df)\n",
    "df[['name','qualification']]"
   ]
  },
  {
   "cell_type": "code",
   "execution_count": 45,
   "id": "ffd0fe34",
   "metadata": {},
   "outputs": [
    {
     "data": {
      "text/html": [
       "<div>\n",
       "<style scoped>\n",
       "    .dataframe tbody tr th:only-of-type {\n",
       "        vertical-align: middle;\n",
       "    }\n",
       "\n",
       "    .dataframe tbody tr th {\n",
       "        vertical-align: top;\n",
       "    }\n",
       "\n",
       "    .dataframe thead th {\n",
       "        text-align: right;\n",
       "    }\n",
       "</style>\n",
       "<table border=\"1\" class=\"dataframe\">\n",
       "  <thead>\n",
       "    <tr style=\"text-align: right;\">\n",
       "      <th></th>\n",
       "      <th>name</th>\n",
       "      <th>age</th>\n",
       "      <th>address</th>\n",
       "      <th>qualification</th>\n",
       "    </tr>\n",
       "  </thead>\n",
       "  <tbody>\n",
       "    <tr>\n",
       "      <th>2</th>\n",
       "      <td>Wati</td>\n",
       "      <td>40</td>\n",
       "      <td>Bogor</td>\n",
       "      <td>aa</td>\n",
       "    </tr>\n",
       "  </tbody>\n",
       "</table>\n",
       "</div>"
      ],
      "text/plain": [
       "   name  age address qualification\n",
       "2  Wati   40   Bogor            aa"
      ]
     },
     "execution_count": 45,
     "metadata": {},
     "output_type": "execute_result"
    }
   ],
   "source": [
    "df.loc[df['qualification']=='aa']"
   ]
  },
  {
   "cell_type": "code",
   "execution_count": null,
   "id": "dde67c8f",
   "metadata": {},
   "outputs": [],
   "source": []
  },
  {
   "cell_type": "code",
   "execution_count": 47,
   "id": "c4be2e1d",
   "metadata": {},
   "outputs": [
    {
     "name": "stdout",
     "output_type": "stream",
     "text": [
      "0 name             Budi\n",
      "age                10\n",
      "address           DKI\n",
      "qualification     msc\n",
      "Name: 0, dtype: object\n",
      "\n",
      "1 name                Ivan\n",
      "age                   20\n",
      "address          Bandung\n",
      "qualification        msc\n",
      "Name: 1, dtype: object\n",
      "\n",
      "2 name              Wati\n",
      "age                 40\n",
      "address          Bogor\n",
      "qualification       aa\n",
      "Name: 2, dtype: object\n",
      "\n"
     ]
    }
   ],
   "source": [
    "for i,j in df.iterrows():\n",
    "    print(i,j)\n",
    "    print()"
   ]
  },
  {
   "cell_type": "code",
   "execution_count": 48,
   "id": "c079ae3f",
   "metadata": {},
   "outputs": [
    {
     "name": "stdout",
     "output_type": "stream",
     "text": [
      "   x   y\n",
      "0  1  10\n",
      "1  2  20\n"
     ]
    }
   ],
   "source": [
    "dfangka = pd.DataFrame({'x':[1,2],'y':[10,20]})\n",
    "print(dfangka)"
   ]
  },
  {
   "cell_type": "code",
   "execution_count": 49,
   "id": "b25418f4",
   "metadata": {},
   "outputs": [
    {
     "name": "stdout",
     "output_type": "stream",
     "text": [
      "   x    y\n",
      "0  1  100\n",
      "1  4  400\n"
     ]
    }
   ],
   "source": [
    "def square(x):\n",
    "    return x*x\n",
    "\n",
    "dfsquare = dfangka.apply(square)\n",
    "print(dfsquare)\n",
    "#ulang ga jelas"
   ]
  },
  {
   "cell_type": "code",
   "execution_count": 51,
   "id": "f25c88de",
   "metadata": {},
   "outputs": [],
   "source": [
    "import requests"
   ]
  },
  {
   "cell_type": "code",
   "execution_count": null,
   "id": "ea01b1e5",
   "metadata": {},
   "outputs": [],
   "source": [
    "response "
   ]
  },
  {
   "cell_type": "code",
   "execution_count": null,
   "id": "a2aa4284",
   "metadata": {},
   "outputs": [],
   "source": []
  },
  {
   "cell_type": "code",
   "execution_count": null,
   "id": "17d3e349",
   "metadata": {},
   "outputs": [],
   "source": []
  },
  {
   "cell_type": "code",
   "execution_count": 40,
   "id": "05f2be6c",
   "metadata": {},
   "outputs": [
    {
     "name": "stdout",
     "output_type": "stream",
     "text": [
      "Collecting panda\n",
      "  Downloading panda-0.3.1.tar.gz (5.8 kB)\n",
      "Requirement already satisfied: setuptools in c:\\users\\krismanto\\anaconda3\\lib\\site-packages (from panda) (61.2.0)\n",
      "Requirement already satisfied: requests in c:\\users\\krismanto\\anaconda3\\lib\\site-packages (from panda) (2.27.1)\n",
      "Requirement already satisfied: charset-normalizer~=2.0.0 in c:\\users\\krismanto\\anaconda3\\lib\\site-packages (from requests->panda) (2.0.4)\n",
      "Requirement already satisfied: certifi>=2017.4.17 in c:\\users\\krismanto\\anaconda3\\lib\\site-packages (from requests->panda) (2021.10.8)\n",
      "Requirement already satisfied: urllib3<1.27,>=1.21.1 in c:\\users\\krismanto\\anaconda3\\lib\\site-packages (from requests->panda) (1.26.9)\n",
      "Requirement already satisfied: idna<4,>=2.5 in c:\\users\\krismanto\\anaconda3\\lib\\site-packages (from requests->panda) (3.3)\n",
      "Building wheels for collected packages: panda\n",
      "  Building wheel for panda (setup.py): started\n",
      "  Building wheel for panda (setup.py): finished with status 'done'\n",
      "  Created wheel for panda: filename=panda-0.3.1-py3-none-any.whl size=7256 sha256=9614c5809a57a2b1aa6c8e7698a55c560a1957da20828c92c967f478008e5455\n",
      "  Stored in directory: c:\\users\\krismanto\\appdata\\local\\pip\\cache\\wheels\\6c\\5a\\a9\\a28c87238ddcc61701224f538bedccc21c9e2b8bc6fa8fca0e\n",
      "Successfully built panda\n",
      "Installing collected packages: panda\n",
      "Successfully installed panda-0.3.1\n",
      "Note: you may need to restart the kernel to use updated packages.\n"
     ]
    }
   ],
   "source": [
    "pip install panda\n"
   ]
  },
  {
   "cell_type": "code",
   "execution_count": null,
   "id": "8a7ee397",
   "metadata": {},
   "outputs": [],
   "source": []
  },
  {
   "cell_type": "code",
   "execution_count": null,
   "id": "9dd10e65",
   "metadata": {},
   "outputs": [],
   "source": []
  }
 ],
 "metadata": {
  "kernelspec": {
   "display_name": "Python 3 (ipykernel)",
   "language": "python",
   "name": "python3"
  },
  "language_info": {
   "codemirror_mode": {
    "name": "ipython",
    "version": 3
   },
   "file_extension": ".py",
   "mimetype": "text/x-python",
   "name": "python",
   "nbconvert_exporter": "python",
   "pygments_lexer": "ipython3",
   "version": "3.9.12"
  }
 },
 "nbformat": 4,
 "nbformat_minor": 5
}
