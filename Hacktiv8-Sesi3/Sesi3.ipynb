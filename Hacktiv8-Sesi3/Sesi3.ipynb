{
 "cells": [
  {
   "cell_type": "markdown",
   "id": "f09e9cb8",
   "metadata": {},
   "source": [
    "# Catatan Sesi 3"
   ]
  },
  {
   "cell_type": "markdown",
   "id": "faa6f94d",
   "metadata": {},
   "source": [
    "# PYTHON FUNCTION"
   ]
  },
  {
   "cell_type": "markdown",
   "id": "19d95059",
   "metadata": {},
   "source": [
    "# PYTN-KS08-017 "
   ]
  },
  {
   "cell_type": "markdown",
   "id": "80c6f7d4",
   "metadata": {},
   "source": [
    "Andreas Dimas Christanto"
   ]
  },
  {
   "cell_type": "code",
   "execution_count": null,
   "id": "abb76fa8",
   "metadata": {},
   "outputs": [
    {
     "ename": "",
     "evalue": "",
     "output_type": "error",
     "traceback": [
      "\u001b[1;31mFailed to start the Kernel. \n",
      "\u001b[1;31mAttributeError: module 'psutil' has no attribute 'Process'. \n",
      "View Jupyter <a href='command:jupyter.viewOutput'>log</a> for further details."
     ]
    }
   ],
   "source": [
    "import pyttsx3 # pip instal pyttsx3 untuk instal \n",
    "\n",
    "## sapi5 - SAPI5 on Windows\n",
    "## nsss - SSpeechSynthesizer on Mac OS X\n",
    "## espeak - eSpeak on every other platform\n",
    "\n",
    "engine = pyttsx3.init('sapi5')\n",
    "voices = engine.getProperty(\"voices\")\n",
    "engine.setProperty(\"voices\",voices[0].id)\n",
    "\n",
    "def bicara(text):\n",
    "    engine.say(text)\n",
    "    engine.runAndWait()\n",
    "if __name__ == '__main__':\n",
    "    bicara(\"Hello, How are you Dimas ?\")\n"
   ]
  },
  {
   "cell_type": "code",
   "execution_count": null,
   "id": "5c631965",
   "metadata": {},
   "outputs": [
    {
     "ename": "",
     "evalue": "",
     "output_type": "error",
     "traceback": [
      "\u001b[1;31mFailed to start the Kernel. \n",
      "\u001b[1;31mAttributeError: module 'psutil' has no attribute 'Process'. \n",
      "View Jupyter <a href='command:jupyter.viewOutput'>log</a> for further details."
     ]
    }
   ],
   "source": [
    "import ipykernel"
   ]
  },
  {
   "cell_type": "code",
   "execution_count": null,
   "id": "78beebf1",
   "metadata": {},
   "outputs": [],
   "source": [
    "import ipykernel"
   ]
  }
 ],
 "metadata": {
  "kernelspec": {
   "display_name": "Python 3.10.6 64-bit (microsoft store)",
   "language": "python",
   "name": "python3"
  },
  "language_info": {
   "codemirror_mode": {
    "name": "ipython",
    "version": 3
   },
   "file_extension": ".py",
   "mimetype": "text/x-python",
   "name": "python",
   "nbconvert_exporter": "python",
   "pygments_lexer": "ipython3",
   "version": "3.10.6"
  },
  "vscode": {
   "interpreter": {
    "hash": "82cfb9355cd4a84fcb8b00d922438d2e2ce306af33a9c3a4fcd35f64e1697b15"
   }
  }
 },
 "nbformat": 4,
 "nbformat_minor": 5
}
