{
 "cells": [
  {
   "cell_type": "markdown",
   "id": "f09e9cb8",
   "metadata": {},
   "source": [
    "# Catatan Sesi 3"
   ]
  },
  {
   "cell_type": "markdown",
   "id": "faa6f94d",
   "metadata": {},
   "source": [
    "# Functin, Basic Module, & Package"
   ]
  },
  {
   "cell_type": "markdown",
   "id": "19d95059",
   "metadata": {},
   "source": [
    "# PYTN-KS08-017 "
   ]
  },
  {
   "cell_type": "markdown",
   "id": "80c6f7d4",
   "metadata": {},
   "source": [
    "Andreas Dimas Christanto"
   ]
  },
  {
   "cell_type": "code",
   "execution_count": 1,
   "id": "16de9eef",
   "metadata": {},
   "outputs": [],
   "source": [
    "import pyttsx3"
   ]
  },
  {
   "cell_type": "code",
   "execution_count": 2,
   "id": "abb76fa8",
   "metadata": {},
   "outputs": [],
   "source": [
    "import pyttsx3 # pip instal pyttsx3 untuk instal \n",
    "\n",
    "## sapi5 - SAPI5 on Windows\n",
    "## nsss - SSpeechSynthesizer on Mac OS X\n",
    "## espeak - eSpeak on every other platform\n",
    "\n",
    "engine = pyttsx3.init('sapi5')\n",
    "voices = engine.getProperty(\"voices\")\n",
    "engine.setProperty(\"voice\",voices[0].id)\n",
    "\n",
    "def bicara(text):\n",
    "    engine.say(text)\n",
    "    engine.runAndWait()\n",
    "if __name__ == '__main__':\n",
    "    bicara(\"Hello I am Hubhubhob hahha.hhaha.hahh.ahahh\")"
   ]
  },
  {
   "cell_type": "markdown",
   "id": "2a74045b",
   "metadata": {},
   "source": [
    "# Type Of Function"
   ]
  },
  {
   "cell_type": "markdown",
   "id": "a5630ad8",
   "metadata": {},
   "source": [
    "1. User-defined Function\n",
    "2. Built-in Function\n",
    "3. Lamda Function\n",
    "4. Recursion Function"
   ]
  },
  {
   "cell_type": "code",
   "execution_count": 3,
   "id": "fae074f4",
   "metadata": {},
   "outputs": [
    {
     "name": "stdout",
     "output_type": "stream",
     "text": [
      "adaad\n"
     ]
    }
   ],
   "source": [
    "def tambah(x,y):\n",
    "    total = x + y\n",
    "    return total\n",
    "tambah(2,3)\n",
    "anama = input()"
   ]
  },
  {
   "cell_type": "code",
   "execution_count": 4,
   "id": "6214664b",
   "metadata": {},
   "outputs": [],
   "source": [
    "bicara(\"Slebew\")\n",
    "bicara(anama)"
   ]
  },
  {
   "cell_type": "code",
   "execution_count": 5,
   "id": "ad77e397",
   "metadata": {},
   "outputs": [
    {
     "data": {
      "text/plain": [
       "3.0"
      ]
     },
     "execution_count": 5,
     "metadata": {},
     "output_type": "execute_result"
    }
   ],
   "source": [
    "def luasseg(a,t):\n",
    "    luas = a * t /2\n",
    "    return(luas)\n",
    "luasseg(2,3)"
   ]
  },
  {
   "cell_type": "code",
   "execution_count": 6,
   "id": "fb5aa72a",
   "metadata": {},
   "outputs": [
    {
     "name": "stdout",
     "output_type": "stream",
     "text": [
      "Genap\n"
     ]
    }
   ],
   "source": [
    "def Testgg(x):\n",
    "    if x %2:\n",
    "        print(\"Ganjil\")\n",
    "    else:\n",
    "        print(\"Genap\")\n",
    "    \n",
    "    return\n",
    "Testgg(2)"
   ]
  },
  {
   "cell_type": "code",
   "execution_count": 7,
   "id": "7666fc97",
   "metadata": {},
   "outputs": [
    {
     "name": "stdout",
     "output_type": "stream",
     "text": [
      "Ganjil\n"
     ]
    }
   ],
   "source": [
    "Testgg(9)"
   ]
  },
  {
   "cell_type": "markdown",
   "id": "d3ce9c0c",
   "metadata": {},
   "source": [
    "# Calling A Function "
   ]
  },
  {
   "cell_type": "markdown",
   "id": "a212f95d",
   "metadata": {},
   "source": [
    "## Pass by Reference vs Value "
   ]
  },
  {
   "cell_type": "code",
   "execution_count": 8,
   "id": "f7d94b43",
   "metadata": {},
   "outputs": [
    {
     "data": {
      "text/plain": [
       "[1, 1, 1999]"
      ]
     },
     "execution_count": 8,
     "metadata": {},
     "output_type": "execute_result"
    }
   ],
   "source": [
    "lizt = [1,1]\n",
    "lizt.append(1999)\n",
    "lizt"
   ]
  },
  {
   "cell_type": "code",
   "execution_count": 9,
   "id": "bc56f6ff",
   "metadata": {},
   "outputs": [],
   "source": [
    "def changeme(mylist):\n",
    "    \" This changes a passed list into this function \"\n",
    "    mylist.append([1,2,3,4,5]);\n",
    "    print(\"values inside the function : \",mylist)\n",
    "    return #none \n",
    "#print(mylist)\n"
   ]
  },
  {
   "cell_type": "code",
   "execution_count": 10,
   "id": "8b09ac4e",
   "metadata": {},
   "outputs": [
    {
     "name": "stdout",
     "output_type": "stream",
     "text": [
      "values inside the function :  [10, 20, 30, [1, 2, 3, 4, 5]]\n",
      "Values Outside the function   [10, 20, 30, [1, 2, 3, 4, 5]]\n"
     ]
    }
   ],
   "source": [
    "mylist1 = [10,20,30];\n",
    "changeme(mylist1);\n",
    "print(\"Values Outside the function  \",mylist1)\n"
   ]
  },
  {
   "cell_type": "code",
   "execution_count": 11,
   "id": "17441b10",
   "metadata": {},
   "outputs": [
    {
     "name": "stdout",
     "output_type": "stream",
     "text": [
      "values inside the function :  [10, 20, 12121, [1, 2, 3, 4, 5]]\n",
      "Values Outside the function   [10, 20, 12121, [1, 2, 3, 4, 5]]\n"
     ]
    }
   ],
   "source": [
    "mylist11 = [10,20,12121];\n",
    "changeme(mylist11);\n",
    "print(\"Values Outside the function  \",mylist11)\n"
   ]
  },
  {
   "cell_type": "code",
   "execution_count": 12,
   "id": "838c2c62",
   "metadata": {},
   "outputs": [],
   "source": [
    "def changeme1(mylist2):\n",
    "    \"This changes a passed list into this function \"\n",
    "    mylist2 = [1,2,3,4];\n",
    "    print(\"Values inside the function :\", mylist2)\n",
    "    return"
   ]
  },
  {
   "cell_type": "code",
   "execution_count": 13,
   "id": "aed22b69",
   "metadata": {},
   "outputs": [
    {
     "name": "stdout",
     "output_type": "stream",
     "text": [
      "Values inside the function : [1, 2, 3, 4]\n",
      "Values Outside the function   [110, 20, 30]\n"
     ]
    }
   ],
   "source": [
    "mylist3 = [110,20,30];\n",
    "changeme1(mylist3);\n",
    "print(\"Values Outside the function  \",mylist3)"
   ]
  },
  {
   "cell_type": "code",
   "execution_count": 14,
   "id": "867be71a",
   "metadata": {},
   "outputs": [
    {
     "name": "stdout",
     "output_type": "stream",
     "text": [
      "Jadi sisa saldo 4\n"
     ]
    },
    {
     "data": {
      "text/plain": [
       "4"
      ]
     },
     "execution_count": 14,
     "metadata": {},
     "output_type": "execute_result"
    }
   ],
   "source": [
    "def hitung(amount, disc, saldo):\n",
    "    \"hitung sisa saldo\"\n",
    "    saldo -= amount-disc\n",
    "    print(\"Jadi sisa saldo\",saldo)\n",
    "    return saldo\n",
    "hitung(1,2,3)"
   ]
  },
  {
   "cell_type": "code",
   "execution_count": 15,
   "id": "2a072e3b",
   "metadata": {},
   "outputs": [
    {
     "name": "stdout",
     "output_type": "stream",
     "text": [
      "Jadi sisa saldo 4010\n",
      "Nominal Belanja : 1000\n",
      "disc : -10\n",
      "saldo sekarang : 4010 \n"
     ]
    }
   ],
   "source": [
    "amount = 1000 \n",
    "disc = 10 \n",
    "saldo = 5000\n",
    "saldo = hitung(amount,disc,saldo)\n",
    "\n",
    "print(f'Nominal Belanja : {amount}')\n",
    "print(f'disc : -{disc}')\n",
    "print(f'saldo sekarang : {saldo} ')"
   ]
  },
  {
   "cell_type": "markdown",
   "id": "348cb3a6",
   "metadata": {},
   "source": [
    "## Fungsi Argumen \n",
    "* default argumen\n",
    "* argumen posisi\n",
    "* argumen kata kunci \n",
    "* dll"
   ]
  },
  {
   "cell_type": "markdown",
   "id": "f18bae09",
   "metadata": {},
   "source": [
    "Requierment Argument"
   ]
  },
  {
   "cell_type": "code",
   "execution_count": 16,
   "id": "62479019",
   "metadata": {
    "scrolled": true
   },
   "outputs": [
    {
     "name": "stdout",
     "output_type": "stream",
     "text": [
      "Jack is a Developer\n"
     ]
    }
   ],
   "source": [
    "def func(name,job):\n",
    "    print(name,'is a',job)\n",
    "    \n",
    "func('Jack','Developer')"
   ]
  },
  {
   "cell_type": "code",
   "execution_count": 17,
   "id": "ad1b6cb4",
   "metadata": {},
   "outputs": [],
   "source": [
    "# 51:09"
   ]
  },
  {
   "cell_type": "code",
   "execution_count": null,
   "id": "4b9d3f9d",
   "metadata": {},
   "outputs": [],
   "source": []
  },
  {
   "cell_type": "markdown",
   "id": "7d4fade2",
   "metadata": {},
   "source": [
    "Keyword Argument"
   ]
  },
  {
   "cell_type": "code",
   "execution_count": 18,
   "id": "bab5bcb6",
   "metadata": {},
   "outputs": [
    {
     "name": "stdout",
     "output_type": "stream",
     "text": [
      "name :  asuw\n",
      "amount : 19\n",
      "disc : 122\n"
     ]
    }
   ],
   "source": [
    "def printme(name, amount, disc ):\n",
    "    \"This prints a passed into this function  \"\n",
    "    print(\"name : \",name)\n",
    "    print(\"amount :\",amount)\n",
    "    print(\"disc :\",disc)\n",
    "    return\n",
    "\n",
    "printme(disc = 122, name = \"asuw\",amount=19)"
   ]
  },
  {
   "cell_type": "markdown",
   "id": "9332431a",
   "metadata": {},
   "source": [
    "Default Argument"
   ]
  },
  {
   "cell_type": "code",
   "execution_count": null,
   "id": "ba69e06e",
   "metadata": {},
   "outputs": [],
   "source": []
  },
  {
   "cell_type": "code",
   "execution_count": 19,
   "id": "8c995e0f",
   "metadata": {},
   "outputs": [],
   "source": [
    "def totalinvoice(name, amount, disc=100 ):\n",
    "    \"This prints a passed into this function  \"\n",
    "    print(\"name\",name)\n",
    "    print(\"amount\", amount)\n",
    "    print(\"disc\",disc)\n",
    "    total = amount-disc\n",
    "    print(10*\"==\")\n",
    "    print(\"Total:\",total)\n",
    "    return\n"
   ]
  },
  {
   "cell_type": "code",
   "execution_count": 20,
   "id": "baefdba0",
   "metadata": {},
   "outputs": [
    {
     "name": "stdout",
     "output_type": "stream",
     "text": [
      "Invoice : 1\n",
      "name hativ8\n",
      "amount 5000\n",
      "disc 5000\n",
      "====================\n",
      "Total: 0\n",
      "\n",
      "\n"
     ]
    }
   ],
   "source": [
    "print(\"Invoice :\",1)\n",
    "totalinvoice(amount=5000,name=\"hativ8\",disc = 5000)\n",
    "print(\"\\n\")"
   ]
  },
  {
   "cell_type": "code",
   "execution_count": 21,
   "id": "9be7b323",
   "metadata": {},
   "outputs": [
    {
     "name": "stdout",
     "output_type": "stream",
     "text": [
      "invoice : 2\n",
      "name Johniasa adad \n",
      "amount 1020\n",
      "disc 100\n",
      "====================\n",
      "Total: 920\n"
     ]
    }
   ],
   "source": [
    "print(\"invoice :\",2)\n",
    "totalinvoice(name=\"Johniasa adad \", amount=1020)"
   ]
  },
  {
   "cell_type": "markdown",
   "id": "489d9515",
   "metadata": {},
   "source": [
    "Variabel Length Argument "
   ]
  },
  {
   "cell_type": "code",
   "execution_count": 22,
   "id": "6eb50186",
   "metadata": {},
   "outputs": [],
   "source": [
    "    \n",
    "def print_argument(*args):\n",
    "    print(type(args))\n",
    "    print(args)"
   ]
  },
  {
   "cell_type": "code",
   "execution_count": 23,
   "id": "153f2a23",
   "metadata": {},
   "outputs": [
    {
     "name": "stdout",
     "output_type": "stream",
     "text": [
      "<class 'tuple'>\n",
      "(1, 2, 3, 22, 4, 5, 23, 23, 23, 2, 2, 3)\n"
     ]
    }
   ],
   "source": [
    "print_argument(1,2,3,22,4,5,23,23,23,2,2,3)"
   ]
  },
  {
   "cell_type": "code",
   "execution_count": 24,
   "id": "57dd746f",
   "metadata": {},
   "outputs": [],
   "source": [
    "def printinfo(arg,*vartuple):\n",
    "    \" This print a variable passed arguments\"\n",
    "    print(\"output is : \")\n",
    "    print(arg)\n",
    "    print(vartuple)\n",
    "    print(type(vartuple))\n",
    "    \n",
    "    for var in vartuple :\n",
    "        print(var)\n",
    "        \n",
    "    print(\"Function done \")\n",
    "    return;"
   ]
  },
  {
   "cell_type": "code",
   "execution_count": 25,
   "id": "9e80add0",
   "metadata": {},
   "outputs": [
    {
     "name": "stdout",
     "output_type": "stream",
     "text": [
      "output is : \n",
      "10\n",
      "()\n",
      "<class 'tuple'>\n",
      "Function done \n"
     ]
    }
   ],
   "source": [
    "printinfo(10)"
   ]
  },
  {
   "cell_type": "code",
   "execution_count": 26,
   "id": "8f470480",
   "metadata": {},
   "outputs": [
    {
     "name": "stdout",
     "output_type": "stream",
     "text": [
      "output is : \n",
      "10\n",
      "(10, 120, 10201, 11)\n",
      "<class 'tuple'>\n",
      "10\n",
      "120\n",
      "10201\n",
      "11\n",
      "Function done \n"
     ]
    }
   ],
   "source": [
    "printinfo(10,10,120,10201,11)"
   ]
  },
  {
   "cell_type": "code",
   "execution_count": 27,
   "id": "4a069a2d",
   "metadata": {},
   "outputs": [],
   "source": [
    "def funcsatu(a,b,c):\n",
    "    \" func ast\"\n",
    "    print(a,b)\n",
    "    print(c)\n",
    "    return"
   ]
  },
  {
   "cell_type": "code",
   "execution_count": 28,
   "id": "066b85fa",
   "metadata": {},
   "outputs": [
    {
     "name": "stdout",
     "output_type": "stream",
     "text": [
      "10 20\n",
      "{1, 3, 4, 6, 7, 8}\n"
     ]
    }
   ],
   "source": [
    "a = 10 \n",
    "b = 20\n",
    "c = set((6,7,8,1,3,4,6)) # melakukan sort \n",
    "funcsatu(a,b,c)"
   ]
  },
  {
   "cell_type": "code",
   "execution_count": 29,
   "id": "e1d6ef52",
   "metadata": {},
   "outputs": [
    {
     "name": "stdout",
     "output_type": "stream",
     "text": [
      "output is : \n",
      "1\n",
      "('Hello', 12, 13, 13, 42, {1, 2, 34})\n",
      "<class 'tuple'>\n",
      "Hello\n",
      "12\n",
      "13\n",
      "13\n",
      "42\n",
      "{1, 2, 34}\n",
      "Function done \n"
     ]
    }
   ],
   "source": [
    "printinfo(1,\"Hello\",12,13,13,42, set({1,2,34,2}))"
   ]
  },
  {
   "cell_type": "code",
   "execution_count": 30,
   "id": "e4c7b227",
   "metadata": {},
   "outputs": [
    {
     "name": "stdout",
     "output_type": "stream",
     "text": [
      "output is : \n",
      "Hello\n",
      "(12, 13, 13, 42, {1, 2, 34})\n",
      "<class 'tuple'>\n",
      "12\n",
      "13\n",
      "13\n",
      "42\n",
      "{1, 2, 34}\n",
      "Function done \n"
     ]
    }
   ],
   "source": [
    "printinfo(\"Hello\",12,13,13,42, set({1,2,34,2}))"
   ]
  },
  {
   "cell_type": "code",
   "execution_count": null,
   "id": "dd6d606a",
   "metadata": {},
   "outputs": [],
   "source": [
    "\n"
   ]
  },
  {
   "cell_type": "code",
   "execution_count": 31,
   "id": "846b2ec0",
   "metadata": {},
   "outputs": [],
   "source": [
    "def add(x,y,*args,**kwargs):\n",
    "    sum = x + y\n",
    "    print(\"Sum x + y = \",sum)\n",
    "    sumarg = 0\n",
    "    for a in args:\n",
    "        sumarg += a\n",
    "        print(\"sumarg :\",sumarg)\n",
    "        #print(a)\n",
    "    print(\"total sumarg : \",sumarg)\n",
    "    \n",
    "    sumkarg = 0\n",
    "    for k, v in kwargs.items():\n",
    "        sumkarg += v\n",
    "        print(\"sumkarg : \",sumkarg)\n",
    "        \n",
    "    print(\"total sumkarg : \", sumkarg)\n",
    "    return sum + sumarg + sumkarg"
   ]
  },
  {
   "cell_type": "code",
   "execution_count": 32,
   "id": "78a8da9f",
   "metadata": {},
   "outputs": [],
   "source": [
    "# 1:08:05"
   ]
  },
  {
   "cell_type": "code",
   "execution_count": 33,
   "id": "1c8cc850",
   "metadata": {},
   "outputs": [
    {
     "name": "stdout",
     "output_type": "stream",
     "text": [
      "Sum x + y =  3\n",
      "sumarg : 9\n",
      "sumarg : 13\n",
      "total sumarg :  13\n",
      "total sumkarg :  0\n"
     ]
    },
    {
     "data": {
      "text/plain": [
       "16"
      ]
     },
     "execution_count": 33,
     "metadata": {},
     "output_type": "execute_result"
    }
   ],
   "source": [
    "add(1,2,9,4)"
   ]
  },
  {
   "cell_type": "code",
   "execution_count": 34,
   "id": "84f08f7d",
   "metadata": {},
   "outputs": [
    {
     "name": "stdout",
     "output_type": "stream",
     "text": [
      "Sum x + y =  3\n",
      "sumarg : 3\n",
      "sumarg : 7\n",
      "sumarg : 12\n",
      "sumarg : 18\n",
      "total sumarg :  18\n",
      "sumkarg :  5\n",
      "sumkarg :  11\n",
      "sumkarg :  23\n",
      "total sumkarg :  23\n",
      "Print total :  44\n"
     ]
    }
   ],
   "source": [
    "total = add(1,2, *(3,4,5,6), **{\"K1\": 5,\"K2\":6,\"K3\":12})\n",
    "print(\"Print total : \", total)"
   ]
  },
  {
   "cell_type": "code",
   "execution_count": 35,
   "id": "062aeba8",
   "metadata": {},
   "outputs": [
    {
     "name": "stdout",
     "output_type": "stream",
     "text": [
      "Inside the function :  30\n",
      " outside the function : 40\n"
     ]
    }
   ],
   "source": [
    "def sum(arg1,arg2):\n",
    "    total2 = 0 \n",
    "    total = arg1 + arg2\n",
    "    total2 = total + arg1\n",
    "    print(\"Inside the function : \", total)\n",
    "    return total2\n",
    "total = sum(10,20)\n",
    "print(\" outside the function :\" , total )"
   ]
  },
  {
   "cell_type": "markdown",
   "id": "35554558",
   "metadata": {},
   "source": [
    "Return Multiple Values "
   ]
  },
  {
   "cell_type": "code",
   "execution_count": 36,
   "id": "0fc3c65e",
   "metadata": {},
   "outputs": [
    {
     "name": "stdout",
     "output_type": "stream",
     "text": [
      " the result : (6, -2)\n"
     ]
    }
   ],
   "source": [
    "def func(a,b):\n",
    "    return a+b,a-b\n",
    "result = func(2,4)\n",
    "print(\" the result :\", result)"
   ]
  },
  {
   "cell_type": "code",
   "execution_count": 37,
   "id": "21bbcc01",
   "metadata": {},
   "outputs": [],
   "source": [
    "def aritmateic(num1, num2):\n",
    "    add = num1 + num2\n",
    "    sub = num1 - num2\n",
    "    mulitply = num1 * num2\n",
    "    division = num1 / num2\n",
    "    return add, sub, mulitply, division"
   ]
  },
  {
   "cell_type": "code",
   "execution_count": 38,
   "id": "e9d00072",
   "metadata": {},
   "outputs": [
    {
     "data": {
      "text/plain": [
       "(1252, 1190, 37851, 39.38709677419355)"
      ]
     },
     "execution_count": 38,
     "metadata": {},
     "output_type": "execute_result"
    }
   ],
   "source": [
    "aritmateic(1221,31)"
   ]
  },
  {
   "cell_type": "code",
   "execution_count": 39,
   "id": "2a4f051f",
   "metadata": {},
   "outputs": [
    {
     "data": {
      "text/plain": [
       "tuple"
      ]
     },
     "execution_count": 39,
     "metadata": {},
     "output_type": "execute_result"
    }
   ],
   "source": [
    "type(aritmateic(1221,31))"
   ]
  },
  {
   "cell_type": "code",
   "execution_count": 40,
   "id": "7fa88df0",
   "metadata": {},
   "outputs": [
    {
     "name": "stdout",
     "output_type": "stream",
     "text": [
      "addition : 12\n",
      " subtraction  8\n",
      "multiple : 20\n",
      "Division 5.0\n"
     ]
    }
   ],
   "source": [
    "a,b,c,d = aritmateic(10,2)\n",
    "print(\"addition :\",a)\n",
    "print(\" subtraction \",b)\n",
    "print(\"multiple :\",c)\n",
    "print(\"Division\",d)"
   ]
  },
  {
   "cell_type": "code",
   "execution_count": 41,
   "id": "3bfdeb01",
   "metadata": {},
   "outputs": [
    {
     "name": "stdout",
     "output_type": "stream",
     "text": [
      " input your values : 11\n",
      "<class 'str'>\n"
     ]
    },
    {
     "ename": "NameError",
     "evalue": "name 'func_asu' is not defined",
     "output_type": "error",
     "traceback": [
      "\u001b[1;31m---------------------------------------------------------------------------\u001b[0m",
      "\u001b[1;31mNameError\u001b[0m                                 Traceback (most recent call last)",
      "Input \u001b[1;32mIn [41]\u001b[0m, in \u001b[0;36m<cell line: 3>\u001b[1;34m()\u001b[0m\n\u001b[0;32m      1\u001b[0m asu \u001b[38;5;241m=\u001b[39m \u001b[38;5;28minput\u001b[39m(\u001b[38;5;124m\"\u001b[39m\u001b[38;5;124m input your values : \u001b[39m\u001b[38;5;124m\"\u001b[39m)\n\u001b[0;32m      2\u001b[0m \u001b[38;5;28mprint\u001b[39m(\u001b[38;5;28mtype\u001b[39m(asu))\n\u001b[1;32m----> 3\u001b[0m x,y \u001b[38;5;241m=\u001b[39m \u001b[43mfunc_asu\u001b[49m(\u001b[38;5;28mint\u001b[39m(asu),\u001b[38;5;241m2\u001b[39m)\n\u001b[0;32m      4\u001b[0m \u001b[38;5;28mprint\u001b[39m(\u001b[38;5;124mf\u001b[39m\u001b[38;5;124m\"\u001b[39m\u001b[38;5;124misi dari X : \u001b[39m\u001b[38;5;132;01m{\u001b[39;00mx\u001b[38;5;132;01m}\u001b[39;00m\u001b[38;5;124m\"\u001b[39m)\n\u001b[0;32m      5\u001b[0m \u001b[38;5;28mprint\u001b[39m(\u001b[38;5;124mf\u001b[39m\u001b[38;5;124m\"\u001b[39m\u001b[38;5;124misi dari Y : \u001b[39m\u001b[38;5;132;01m{\u001b[39;00my\u001b[38;5;132;01m}\u001b[39;00m\u001b[38;5;124m\"\u001b[39m)\n",
      "\u001b[1;31mNameError\u001b[0m: name 'func_asu' is not defined"
     ]
    }
   ],
   "source": [
    "asu = input(\" input your values : \")\n",
    "print(type(asu))\n",
    "x,y = func_asu(int(asu),2)\n",
    "print(f\"isi dari X : {x}\")\n",
    "print(f\"isi dari Y : {y}\")\n"
   ]
  },
  {
   "cell_type": "markdown",
   "id": "235caf9d",
   "metadata": {},
   "source": [
    "### Scope Variabel \n",
    "Global Variabel \n",
    "- Local Variabel \n",
    "- Global vs Local Variabel \n",
    "  Variabel yang di definisikan didalam bdan fungsi adalah local scope, dan variabel yang ditentukn di luar adalah global scope \n",
    "  ini berarti bahwa variabel lokal hnya dapat diakases di dalam fungsi yang di deklrasikan, sedangkan variabel global dapat diakses di seluruh badan program oleh semua fungsi. Saat kalian memanggil sebuah fungsi, variabel yang dideklrasikan didalamnya akan dimasukan kedalam scopenya .\n",
    "  \n",
    "  Berikut adalah contoh sederhannya "
   ]
  },
  {
   "cell_type": "code",
   "execution_count": 42,
   "id": "c1d65edb",
   "metadata": {},
   "outputs": [],
   "source": [
    "# global variabel \n",
    "total = 1\n",
    "def sum(arg1,arg2):\n",
    "    \" add both the parameter and return them \"\n",
    "    total = arg1 + arg2\n",
    "    print(\" inside the function : \", total )\n",
    "    return total \n",
    "def min():\n",
    "    return"
   ]
  },
  {
   "cell_type": "code",
   "execution_count": 43,
   "id": "6e39696d",
   "metadata": {},
   "outputs": [
    {
     "name": "stdout",
     "output_type": "stream",
     "text": [
      " inside the function :  30\n",
      "30\n",
      "1\n"
     ]
    }
   ],
   "source": [
    "print(sum(10,20 ))\n",
    "print(total)"
   ]
  },
  {
   "cell_type": "code",
   "execution_count": null,
   "id": "02d9be42",
   "metadata": {},
   "outputs": [],
   "source": []
  },
  {
   "cell_type": "code",
   "execution_count": 46,
   "id": "3e154b9d",
   "metadata": {},
   "outputs": [
    {
     "data": {
      "text/plain": [
       "50"
      ]
     },
     "execution_count": 46,
     "metadata": {},
     "output_type": "execute_result"
    }
   ],
   "source": [
    "jumlahkucing = 20 \n",
    "\n",
    "def jumlahhewan():\n",
    "    jumlahanjing = 30 \n",
    "    return jumlahkucing+jumlahanjing\n",
    "def jumlahkelinci():\n",
    "    return jumlahkucing+jumlahkucing\n",
    "\n",
    "jumlahhewan()\n",
    "jumlahkelinci()\n"
   ]
  },
  {
   "cell_type": "markdown",
   "id": "de0e4f3a",
   "metadata": {},
   "source": [
    "Python Module\n"
   ]
  },
  {
   "cell_type": "code",
   "execution_count": 47,
   "id": "99777e0a",
   "metadata": {},
   "outputs": [],
   "source": [
    "s = \"Hacktiv8-PTP Pythin for data science\" # string\n",
    "a = [100,200,300] # list\n",
    "\n",
    "def anjay(arg): # function\n",
    "    print(f'arg={arg}')\n",
    "    \n",
    "class Foo: # class\n",
    "    pass"
   ]
  },
  {
   "cell_type": "code",
   "execution_count": 47,
   "id": "6f5b3425",
   "metadata": {},
   "outputs": [
    {
     "name": "stdout",
     "output_type": "stream",
     "text": [
      "Hacktiv8-PTP Pythin for data science\n"
     ]
    },
    {
     "ename": "NameError",
     "evalue": "name 'f' is not defined",
     "output_type": "error",
     "traceback": [
      "\u001b[1;31m---------------------------------------------------------------------------\u001b[0m",
      "\u001b[1;31mNameError\u001b[0m                                 Traceback (most recent call last)",
      "Input \u001b[1;32mIn [47]\u001b[0m, in \u001b[0;36m<cell line: 4>\u001b[1;34m()\u001b[0m\n\u001b[0;32m      2\u001b[0m \u001b[38;5;28mprint\u001b[39m(m\u001b[38;5;241m.\u001b[39ms)\n\u001b[0;32m      3\u001b[0m m\u001b[38;5;241m.\u001b[39ma\n\u001b[1;32m----> 4\u001b[0m \u001b[43mm\u001b[49m\u001b[38;5;241;43m.\u001b[39;49m\u001b[43mfoo\u001b[49m\u001b[43m(\u001b[49m\u001b[43m[\u001b[49m\u001b[38;5;124;43m'\u001b[39;49m\u001b[38;5;124;43mquux\u001b[39;49m\u001b[38;5;124;43m'\u001b[39;49m\u001b[43m,\u001b[49m\u001b[38;5;124;43m'\u001b[39;49m\u001b[38;5;124;43mcorge\u001b[39;49m\u001b[38;5;124;43m'\u001b[39;49m\u001b[43m,\u001b[49m\u001b[38;5;124;43m'\u001b[39;49m\u001b[38;5;124;43mgrault\u001b[39;49m\u001b[38;5;124;43m'\u001b[39;49m\u001b[43m]\u001b[49m\u001b[43m)\u001b[49m\n\u001b[0;32m      5\u001b[0m x \u001b[38;5;241m=\u001b[39m m\u001b[38;5;241m.\u001b[39mFoo()\n\u001b[0;32m      6\u001b[0m x\n",
      "File \u001b[1;32m~\\Hacktiv8\\Hacktiv8-Sesi3\\modul.py:5\u001b[0m, in \u001b[0;36mfoo\u001b[1;34m(arg)\u001b[0m\n\u001b[0;32m      4\u001b[0m \u001b[38;5;28;01mdef\u001b[39;00m \u001b[38;5;21mfoo\u001b[39m(arg): \u001b[38;5;66;03m# function\u001b[39;00m\n\u001b[1;32m----> 5\u001b[0m     \u001b[38;5;28mprint\u001b[39m(\u001b[43mf\u001b[49m\u001b[38;5;241m/\u001b[39m\u001b[38;5;124m'\u001b[39m\u001b[38;5;124marg=\u001b[39m\u001b[38;5;132;01m{arg}\u001b[39;00m\u001b[38;5;124m'\u001b[39m)\n",
      "\u001b[1;31mNameError\u001b[0m: name 'f' is not defined"
     ]
    }
   ],
   "source": [
    "import modul as m\n",
    "print(m.s)\n",
    "m.a\n",
    "m.foo(['quux','corge','grault'])\n",
    "x = m.Foo()\n",
    "x"
   ]
  },
  {
   "cell_type": "code",
   "execution_count": 48,
   "id": "e60b6540",
   "metadata": {},
   "outputs": [
    {
     "data": {
      "text/plain": [
       "['C:\\\\Users\\\\KRISMANTO\\\\Hacktiv8\\\\Hacktiv8-Sesi3',\n",
       " 'C:\\\\Users\\\\KRISMANTO\\\\anaconda3\\\\python39.zip',\n",
       " 'C:\\\\Users\\\\KRISMANTO\\\\anaconda3\\\\DLLs',\n",
       " 'C:\\\\Users\\\\KRISMANTO\\\\anaconda3\\\\lib',\n",
       " 'C:\\\\Users\\\\KRISMANTO\\\\anaconda3',\n",
       " '',\n",
       " 'C:\\\\Users\\\\KRISMANTO\\\\anaconda3\\\\lib\\\\site-packages',\n",
       " 'C:\\\\Users\\\\KRISMANTO\\\\anaconda3\\\\lib\\\\site-packages\\\\win32',\n",
       " 'C:\\\\Users\\\\KRISMANTO\\\\anaconda3\\\\lib\\\\site-packages\\\\win32\\\\lib',\n",
       " 'C:\\\\Users\\\\KRISMANTO\\\\anaconda3\\\\lib\\\\site-packages\\\\Pythonwin']"
      ]
     },
     "execution_count": 48,
     "metadata": {},
     "output_type": "execute_result"
    }
   ],
   "source": [
    "import sys\n",
    "sys.path"
   ]
  },
  {
   "cell_type": "code",
   "execution_count": 40,
   "id": "794cdcaa",
   "metadata": {},
   "outputs": [
    {
     "data": {
      "text/plain": [
       "'C:\\\\Users\\\\KRISMANTO\\\\anaconda3\\\\lib\\\\re.py'"
      ]
     },
     "execution_count": 40,
     "metadata": {},
     "output_type": "execute_result"
    }
   ],
   "source": [
    "import modul as m\n",
    "m.__file__\n",
    "\n",
    "import re\n",
    "re.__file__"
   ]
  },
  {
   "cell_type": "markdown",
   "id": "94c18d0f",
   "metadata": {},
   "source": [
    "The Impor Statement"
   ]
  },
  {
   "cell_type": "code",
   "execution_count": 60,
   "id": "5c6f83d3",
   "metadata": {},
   "outputs": [
    {
     "ename": "SyntaxError",
     "evalue": "invalid syntax (4132036749.py, line 1)",
     "output_type": "error",
     "traceback": [
      "\u001b[1;36m  Input \u001b[1;32mIn [60]\u001b[1;36m\u001b[0m\n\u001b[1;33m    import <module_name>\u001b[0m\n\u001b[1;37m           ^\u001b[0m\n\u001b[1;31mSyntaxError\u001b[0m\u001b[1;31m:\u001b[0m invalid syntax\n"
     ]
    }
   ],
   "source": [
    "import <module_name>"
   ]
  },
  {
   "cell_type": "code",
   "execution_count": 61,
   "id": "78049a42",
   "metadata": {},
   "outputs": [
    {
     "ename": "ModuleNotFoundError",
     "evalue": "No module named 'mod'",
     "output_type": "error",
     "traceback": [
      "\u001b[1;31m---------------------------------------------------------------------------\u001b[0m",
      "\u001b[1;31mModuleNotFoundError\u001b[0m                       Traceback (most recent call last)",
      "Input \u001b[1;32mIn [61]\u001b[0m, in \u001b[0;36m<cell line: 1>\u001b[1;34m()\u001b[0m\n\u001b[1;32m----> 1\u001b[0m \u001b[38;5;28;01mimport\u001b[39;00m \u001b[38;5;21;01mmod\u001b[39;00m\n\u001b[0;32m      2\u001b[0m mod\n",
      "\u001b[1;31mModuleNotFoundError\u001b[0m: No module named 'mod'"
     ]
    }
   ],
   "source": [
    "import mod\n",
    "mod"
   ]
  },
  {
   "cell_type": "code",
   "execution_count": 45,
   "id": "4fb3c642",
   "metadata": {},
   "outputs": [
    {
     "data": {
      "text/plain": [
       "<modul.Foo at 0x20e4c861220>"
      ]
     },
     "execution_count": 45,
     "metadata": {},
     "output_type": "execute_result"
    }
   ],
   "source": [
    "from modul import s, foo\n",
    "s\n",
    "foo('quux')\n",
    "\n",
    "from modul import Foo\n",
    "x = Foo()\n",
    "x"
   ]
  },
  {
   "cell_type": "code",
   "execution_count": 21,
   "id": "79fb6023",
   "metadata": {},
   "outputs": [],
   "source": [
    "a = ['foo','bar','baz']\n",
    "a\n",
    "from modul import a"
   ]
  },
  {
   "cell_type": "markdown",
   "id": "9b18087b",
   "metadata": {},
   "source": [
    "import mod as my_module\n",
    "my_module.a\n",
    "my_module.foo('quux')"
   ]
  },
  {
   "cell_type": "code",
   "execution_count": 25,
   "id": "21b198ae",
   "metadata": {},
   "outputs": [],
   "source": [
    "def bar():\n",
    "    from modul import foo\n",
    "    #Foo('corge')\n",
    "    \n",
    "bar()\n",
    "# kalau ga ada bar( ) maka fungsi modul tidak akan terjadi"
   ]
  },
  {
   "cell_type": "code",
   "execution_count": 64,
   "id": "fabeec4d",
   "metadata": {},
   "outputs": [
    {
     "name": "stdout",
     "output_type": "stream",
     "text": [
      "Module Not Found\n",
      " module ra enak brok \n"
     ]
    }
   ],
   "source": [
    "try: \n",
    "    #no-existenstent module\n",
    "    import baz\n",
    "except ImportError:\n",
    "    print(\"Module Not Found\")\n",
    "    \n",
    "try:\n",
    "    # Existing module, but non-existent object\n",
    "    from mod import baz\n",
    "except ImportError:\n",
    "    print(\" module ra enak brok \")"
   ]
  },
  {
   "cell_type": "markdown",
   "id": "24be94fd",
   "metadata": {},
   "source": [
    "The dir() Function"
   ]
  },
  {
   "cell_type": "code",
   "execution_count": 26,
   "id": "c9f72b49",
   "metadata": {},
   "outputs": [
    {
     "data": {
      "text/plain": [
       "['Foo',\n",
       " 'In',\n",
       " 'Out',\n",
       " '_',\n",
       " '_1',\n",
       " '_10',\n",
       " '_12',\n",
       " '_14',\n",
       " '_19',\n",
       " '_4',\n",
       " '_7',\n",
       " '__',\n",
       " '___',\n",
       " '__builtin__',\n",
       " '__builtins__',\n",
       " '__doc__',\n",
       " '__loader__',\n",
       " '__name__',\n",
       " '__package__',\n",
       " '__spec__',\n",
       " '_dh',\n",
       " '_i',\n",
       " '_i1',\n",
       " '_i10',\n",
       " '_i11',\n",
       " '_i12',\n",
       " '_i13',\n",
       " '_i14',\n",
       " '_i15',\n",
       " '_i16',\n",
       " '_i17',\n",
       " '_i18',\n",
       " '_i19',\n",
       " '_i2',\n",
       " '_i20',\n",
       " '_i21',\n",
       " '_i22',\n",
       " '_i23',\n",
       " '_i24',\n",
       " '_i25',\n",
       " '_i26',\n",
       " '_i3',\n",
       " '_i4',\n",
       " '_i5',\n",
       " '_i6',\n",
       " '_i7',\n",
       " '_i8',\n",
       " '_i9',\n",
       " '_ih',\n",
       " '_ii',\n",
       " '_iii',\n",
       " '_oh',\n",
       " 'a',\n",
       " 'bar',\n",
       " 'exit',\n",
       " 'foo',\n",
       " 'get_ipython',\n",
       " 'm',\n",
       " 'modul',\n",
       " 'quit',\n",
       " 're',\n",
       " 's',\n",
       " 'sys',\n",
       " 'x']"
      ]
     },
     "execution_count": 26,
     "metadata": {},
     "output_type": "execute_result"
    }
   ],
   "source": [
    "dir()\n"
   ]
  },
  {
   "cell_type": "code",
   "execution_count": 28,
   "id": "cb3de016",
   "metadata": {},
   "outputs": [
    {
     "data": {
      "text/plain": [
       "['Foo',\n",
       " 'In',\n",
       " 'Out',\n",
       " '_',\n",
       " '_1',\n",
       " '_10',\n",
       " '_12',\n",
       " '_14',\n",
       " '_19',\n",
       " '_26',\n",
       " '_4',\n",
       " '_7',\n",
       " '__',\n",
       " '___',\n",
       " '__builtin__',\n",
       " '__builtins__',\n",
       " '__doc__',\n",
       " '__loader__',\n",
       " '__name__',\n",
       " '__package__',\n",
       " '__spec__',\n",
       " '_dh',\n",
       " '_i',\n",
       " '_i1',\n",
       " '_i10',\n",
       " '_i11',\n",
       " '_i12',\n",
       " '_i13',\n",
       " '_i14',\n",
       " '_i15',\n",
       " '_i16',\n",
       " '_i17',\n",
       " '_i18',\n",
       " '_i19',\n",
       " '_i2',\n",
       " '_i20',\n",
       " '_i21',\n",
       " '_i22',\n",
       " '_i23',\n",
       " '_i24',\n",
       " '_i25',\n",
       " '_i26',\n",
       " '_i27',\n",
       " '_i28',\n",
       " '_i3',\n",
       " '_i4',\n",
       " '_i5',\n",
       " '_i6',\n",
       " '_i7',\n",
       " '_i8',\n",
       " '_i9',\n",
       " '_ih',\n",
       " '_ii',\n",
       " '_iii',\n",
       " '_oh',\n",
       " 'a',\n",
       " 'bar',\n",
       " 'exit',\n",
       " 'foo',\n",
       " 'get_ipython',\n",
       " 'm',\n",
       " 'modul',\n",
       " 'quit',\n",
       " 'qux',\n",
       " 're',\n",
       " 's',\n",
       " 'sys',\n",
       " 'x']"
      ]
     },
     "execution_count": 28,
     "metadata": {},
     "output_type": "execute_result"
    }
   ],
   "source": [
    "import modul\n",
    "dir()"
   ]
  },
  {
   "cell_type": "code",
   "execution_count": 29,
   "id": "6e8311d1",
   "metadata": {},
   "outputs": [
    {
     "data": {
      "text/plain": [
       "'Hacktiv8-PTP Pythin for data science'"
      ]
     },
     "execution_count": 29,
     "metadata": {},
     "output_type": "execute_result"
    }
   ],
   "source": [
    "modul.s"
   ]
  },
  {
   "cell_type": "code",
   "execution_count": 44,
   "id": "050d1cb9",
   "metadata": {},
   "outputs": [
    {
     "ename": "TypeError",
     "evalue": "Foo() takes no arguments",
     "output_type": "error",
     "traceback": [
      "\u001b[1;31m---------------------------------------------------------------------------\u001b[0m",
      "\u001b[1;31mTypeError\u001b[0m                                 Traceback (most recent call last)",
      "Input \u001b[1;32mIn [44]\u001b[0m, in \u001b[0;36m<cell line: 1>\u001b[1;34m()\u001b[0m\n\u001b[1;32m----> 1\u001b[0m \u001b[43mmodul\u001b[49m\u001b[38;5;241;43m.\u001b[39;49m\u001b[43mFoo\u001b[49m\u001b[43m(\u001b[49m\u001b[43m[\u001b[49m\u001b[38;5;241;43m1\u001b[39;49m\u001b[43m,\u001b[49m\u001b[38;5;241;43m2\u001b[39;49m\u001b[43m,\u001b[49m\u001b[38;5;241;43m3\u001b[39;49m\u001b[43m]\u001b[49m\u001b[43m)\u001b[49m\n",
      "\u001b[1;31mTypeError\u001b[0m: Foo() takes no arguments"
     ]
    }
   ],
   "source": [
    "modul.Foo([1,2,3])"
   ]
  },
  {
   "cell_type": "code",
   "execution_count": 43,
   "id": "d53a79b9",
   "metadata": {},
   "outputs": [
    {
     "data": {
      "text/plain": [
       "['Foo',\n",
       " 'In',\n",
       " 'Out',\n",
       " '_',\n",
       " '_1',\n",
       " '_10',\n",
       " '_12',\n",
       " '_14',\n",
       " '_19',\n",
       " '_26',\n",
       " '_28',\n",
       " '_29',\n",
       " '_38',\n",
       " '_4',\n",
       " '_40',\n",
       " '_42',\n",
       " '_7',\n",
       " '__',\n",
       " '___',\n",
       " '__builtin__',\n",
       " '__builtins__',\n",
       " '__doc__',\n",
       " '__loader__',\n",
       " '__name__',\n",
       " '__package__',\n",
       " '__spec__',\n",
       " '_dh',\n",
       " '_i',\n",
       " '_i1',\n",
       " '_i10',\n",
       " '_i11',\n",
       " '_i12',\n",
       " '_i13',\n",
       " '_i14',\n",
       " '_i15',\n",
       " '_i16',\n",
       " '_i17',\n",
       " '_i18',\n",
       " '_i19',\n",
       " '_i2',\n",
       " '_i20',\n",
       " '_i21',\n",
       " '_i22',\n",
       " '_i23',\n",
       " '_i24',\n",
       " '_i25',\n",
       " '_i26',\n",
       " '_i27',\n",
       " '_i28',\n",
       " '_i29',\n",
       " '_i3',\n",
       " '_i30',\n",
       " '_i31',\n",
       " '_i32',\n",
       " '_i33',\n",
       " '_i34',\n",
       " '_i35',\n",
       " '_i36',\n",
       " '_i37',\n",
       " '_i38',\n",
       " '_i39',\n",
       " '_i4',\n",
       " '_i40',\n",
       " '_i41',\n",
       " '_i42',\n",
       " '_i43',\n",
       " '_i5',\n",
       " '_i6',\n",
       " '_i7',\n",
       " '_i8',\n",
       " '_i9',\n",
       " '_ih',\n",
       " '_ii',\n",
       " '_iii',\n",
       " '_oh',\n",
       " 'a',\n",
       " 'bar',\n",
       " 'exit',\n",
       " 'foo',\n",
       " 'get_ipython',\n",
       " 'm',\n",
       " 'modul',\n",
       " 'quit',\n",
       " 'qux',\n",
       " 're',\n",
       " 's',\n",
       " 'sys',\n",
       " 'x']"
      ]
     },
     "execution_count": 43,
     "metadata": {},
     "output_type": "execute_result"
    }
   ],
   "source": [
    "import modul\n",
    "dir()"
   ]
  },
  {
   "cell_type": "code",
   "execution_count": 56,
   "id": "aad681ad",
   "metadata": {},
   "outputs": [],
   "source": [
    "from jact import fact"
   ]
  },
  {
   "cell_type": "code",
   "execution_count": 54,
   "id": "01427a69",
   "metadata": {},
   "outputs": [],
   "source": [
    "import sys\n",
    "import jact"
   ]
  },
  {
   "cell_type": "markdown",
   "id": "567be26f",
   "metadata": {},
   "source": [
    "Reloading a Module"
   ]
  },
  {
   "cell_type": "code",
   "execution_count": 57,
   "id": "6225111c",
   "metadata": {},
   "outputs": [
    {
     "name": "stdout",
     "output_type": "stream",
     "text": [
      "[1, 2, 3, 4, 2]\n",
      "a= [1, 2, 3, 4, 2]\n"
     ]
    }
   ],
   "source": [
    "import mod\n"
   ]
  },
  {
   "cell_type": "code",
   "execution_count": 58,
   "id": "70373f8f",
   "metadata": {},
   "outputs": [
    {
     "data": {
      "text/plain": [
       "[1, 2, 3, 4, 2]"
      ]
     },
     "execution_count": 58,
     "metadata": {},
     "output_type": "execute_result"
    }
   ],
   "source": [
    "mod.a\n"
   ]
  },
  {
   "cell_type": "markdown",
   "id": "60e548c1",
   "metadata": {},
   "source": [
    "Python Packages"
   ]
  },
  {
   "cell_type": "code",
   "execution_count": 69,
   "id": "353cd7e3",
   "metadata": {},
   "outputs": [],
   "source": [
    "import mod1"
   ]
  },
  {
   "cell_type": "code",
   "execution_count": 70,
   "id": "e51218f1",
   "metadata": {},
   "outputs": [],
   "source": [
    "import mod2"
   ]
  },
  {
   "cell_type": "code",
   "execution_count": 64,
   "id": "6314583a",
   "metadata": {},
   "outputs": [
    {
     "data": {
      "text/plain": [
       "<module 'mod1' from 'C:\\\\Users\\\\KRISMANTO\\\\Hacktiv8\\\\Hacktiv8-Sesi3\\\\mod1.py'>"
      ]
     },
     "execution_count": 64,
     "metadata": {},
     "output_type": "execute_result"
    }
   ],
   "source": [
    "mod1\n"
   ]
  },
  {
   "cell_type": "code",
   "execution_count": 65,
   "id": "630be79b",
   "metadata": {},
   "outputs": [
    {
     "data": {
      "text/plain": [
       "<module 'mod2' from 'C:\\\\Users\\\\KRISMANTO\\\\Hacktiv8\\\\Hacktiv8-Sesi3\\\\mod2.py'>"
      ]
     },
     "execution_count": 65,
     "metadata": {},
     "output_type": "execute_result"
    }
   ],
   "source": [
    "mod2\n"
   ]
  },
  {
   "cell_type": "code",
   "execution_count": 67,
   "id": "5ec90a90",
   "metadata": {},
   "outputs": [
    {
     "ename": "ModuleNotFoundError",
     "evalue": "No module named 'pkg'",
     "output_type": "error",
     "traceback": [
      "\u001b[1;31m---------------------------------------------------------------------------\u001b[0m",
      "\u001b[1;31mModuleNotFoundError\u001b[0m                       Traceback (most recent call last)",
      "Input \u001b[1;32mIn [67]\u001b[0m, in \u001b[0;36m<cell line: 1>\u001b[1;34m()\u001b[0m\n\u001b[1;32m----> 1\u001b[0m \u001b[38;5;28;01mimport\u001b[39;00m \u001b[38;5;21;01mpkg\u001b[39;00m\n",
      "\u001b[1;31mModuleNotFoundError\u001b[0m: No module named 'pkg'"
     ]
    }
   ],
   "source": [
    "import pkg"
   ]
  },
  {
   "cell_type": "code",
   "execution_count": 71,
   "id": "f14cf626",
   "metadata": {},
   "outputs": [
    {
     "name": "stdout",
     "output_type": "stream",
     "text": [
      "[mod1] foo()\n"
     ]
    }
   ],
   "source": [
    "import pkg.mod1, pkg.mod2\n",
    "pkg.mod1.foo()"
   ]
  },
  {
   "cell_type": "code",
   "execution_count": 68,
   "id": "8c293ad8",
   "metadata": {},
   "outputs": [
    {
     "data": {
      "text/plain": [
       "<function mod1.foo()>"
      ]
     },
     "execution_count": 68,
     "metadata": {},
     "output_type": "execute_result"
    }
   ],
   "source": [
    "x = pkg.mod2.Bar()\n",
    "x"
   ]
  },
  {
   "cell_type": "code",
   "execution_count": 73,
   "id": "0c2371ec",
   "metadata": {},
   "outputs": [
    {
     "data": {
      "text/plain": [
       "<pkg.mod2.Bar at 0x20e4d176df0>"
      ]
     },
     "execution_count": 73,
     "metadata": {},
     "output_type": "execute_result"
    }
   ],
   "source": [
    "from pkg.mod2 import Bar as Qux\n",
    "x = Qux()\n",
    "x\n"
   ]
  },
  {
   "cell_type": "markdown",
   "id": "2cecac51",
   "metadata": {},
   "source": [
    "PIP"
   ]
  },
  {
   "cell_type": "code",
   "execution_count": 74,
   "id": "3c0d043a",
   "metadata": {},
   "outputs": [
    {
     "name": "stdout",
     "output_type": "stream",
     "text": [
      "pip 21.2.4 from C:\\Users\\KRISMANTO\\anaconda3\\lib\\site-packages\\pip (python 3.9)\n",
      "\n",
      "Note: you may need to restart the kernel to use updated packages.\n"
     ]
    }
   ],
   "source": [
    "pip --version"
   ]
  },
  {
   "cell_type": "markdown",
   "id": "a3c1fdc6",
   "metadata": {},
   "source": [
    "Basic Package Instalataion "
   ]
  },
  {
   "cell_type": "code",
   "execution_count": 75,
   "id": "2b2f4583",
   "metadata": {},
   "outputs": [
    {
     "name": "stdout",
     "output_type": "stream",
     "text": [
      "\n",
      "Usage:   \n",
      "  C:\\Users\\KRISMANTO\\anaconda3\\python.exe -m pip <command> [options]\n",
      "\n",
      "Commands:\n",
      "  install                     Install packages.\n",
      "  download                    Download packages.\n",
      "  uninstall                   Uninstall packages.\n",
      "  freeze                      Output installed packages in requirements format.\n",
      "  list                        List installed packages.\n",
      "  show                        Show information about installed packages.\n",
      "  check                       Verify installed packages have compatible dependencies.\n",
      "  config                      Manage local and global configuration.\n",
      "  search                      Search PyPI for packages.\n",
      "  cache                       Inspect and manage pip's wheel cache.\n",
      "  index                       Inspect information available from package indexes.\n",
      "  wheel                       Build wheels from your requirements.\n",
      "  hash                        Compute hashes of package archives.\n",
      "  completion                  A helper command used for command completion.\n",
      "  debug                       Show information useful for debugging.\n",
      "  help                        Show help for commands.\n",
      "\n",
      "General Options:\n",
      "  -h, --help                  Show help.\n",
      "  --isolated                  Run pip in an isolated mode, ignoring\n",
      "                              environment variables and user configuration.\n",
      "  -v, --verbose               Give more output. Option is additive, and can be\n",
      "                              used up to 3 times.\n",
      "  -V, --version               Show version and exit.\n",
      "  -q, --quiet                 Give less output. Option is additive, and can be\n",
      "                              used up to 3 times (corresponding to WARNING,\n",
      "                              ERROR, and CRITICAL logging levels).\n",
      "  --log <path>                Path to a verbose appending log.\n",
      "  --no-input                  Disable prompting for input.\n",
      "  --proxy <proxy>             Specify a proxy in the form\n",
      "                              [user:passwd@]proxy.server:port.\n",
      "  --retries <retries>         Maximum number of retries each connection should\n",
      "                              attempt (default 5 times).\n",
      "  --timeout <sec>             Set the socket timeout (default 15 seconds).\n",
      "  --exists-action <action>    Default action when a path already exists:\n",
      "                              (s)witch, (i)gnore, (w)ipe, (b)ackup, (a)bort.\n",
      "  --trusted-host <hostname>   Mark this host or host:port pair as trusted,\n",
      "                              even though it does not have valid or any HTTPS.\n",
      "  --cert <path>               Path to PEM-encoded CA certificate bundle. If\n",
      "                              provided, overrides the default. See 'SSL\n",
      "                              Certificate Verification' in pip documentation\n",
      "                              for more information.\n",
      "  --client-cert <path>        Path to SSL client certificate, a single file\n",
      "                              containing the private key and the certificate\n",
      "                              in PEM format.\n",
      "  --cache-dir <dir>           Store the cache data in <dir>.\n",
      "  --no-cache-dir              Disable the cache.\n",
      "  --disable-pip-version-check\n",
      "                              Don't periodically check PyPI to determine\n",
      "                              whether a new version of pip is available for\n",
      "                              download. Implied with --no-index.\n",
      "  --no-color                  Suppress colored output.\n",
      "  --no-python-version-warning\n",
      "                              Silence deprecation warnings for upcoming\n",
      "                              unsupported Pythons.\n",
      "  --use-feature <feature>     Enable new functionality, that may be backward\n",
      "                              incompatible.\n",
      "  --use-deprecated <feature>  Enable deprecated functionality, that will be\n",
      "                              removed in the future.\n",
      "Note: you may need to restart the kernel to use updated packages.\n"
     ]
    }
   ],
   "source": [
    "pip help"
   ]
  },
  {
   "cell_type": "code",
   "execution_count": 76,
   "id": "0cb241da",
   "metadata": {},
   "outputs": [
    {
     "name": "stdout",
     "output_type": "stream",
     "text": [
      "Requirement already satisfied: requests in c:\\users\\krismanto\\anaconda3\\lib\\site-packages (2.27.1)\n",
      "Requirement already satisfied: charset-normalizer~=2.0.0 in c:\\users\\krismanto\\anaconda3\\lib\\site-packages (from requests) (2.0.4)\n",
      "Requirement already satisfied: urllib3<1.27,>=1.21.1 in c:\\users\\krismanto\\anaconda3\\lib\\site-packages (from requests) (1.26.9)\n",
      "Requirement already satisfied: idna<4,>=2.5 in c:\\users\\krismanto\\anaconda3\\lib\\site-packages (from requests) (3.3)\n",
      "Requirement already satisfied: certifi>=2017.4.17 in c:\\users\\krismanto\\anaconda3\\lib\\site-packages (from requests) (2021.10.8)\n",
      "Note: you may need to restart the kernel to use updated packages.\n"
     ]
    }
   ],
   "source": [
    "pip install requests"
   ]
  },
  {
   "cell_type": "code",
   "execution_count": 77,
   "id": "dc8ff400",
   "metadata": {},
   "outputs": [
    {
     "ename": "SyntaxError",
     "evalue": "invalid syntax (629497118.py, line 1)",
     "output_type": "error",
     "traceback": [
      "\u001b[1;36m  Input \u001b[1;32mIn [77]\u001b[1;36m\u001b[0m\n\u001b[1;33m    python -m pip install --upgrade pip\u001b[0m\n\u001b[1;37m              ^\u001b[0m\n\u001b[1;31mSyntaxError\u001b[0m\u001b[1;31m:\u001b[0m invalid syntax\n"
     ]
    }
   ],
   "source": [
    "python -m pip install --upgrade pip"
   ]
  },
  {
   "cell_type": "code",
   "execution_count": 78,
   "id": "58e03e33",
   "metadata": {},
   "outputs": [
    {
     "name": "stdout",
     "output_type": "stream",
     "text": [
      "Package                           Version\n",
      "--------------------------------- --------------------\n",
      "aiohttp                           3.8.1\n",
      "aiosignal                         1.2.0\n",
      "alabaster                         0.7.12\n",
      "anaconda-client                   1.9.0\n",
      "anaconda-navigator                2.1.4\n",
      "anaconda-project                  0.10.2\n",
      "anyio                             3.5.0\n",
      "appdirs                           1.4.4\n",
      "argon2-cffi                       21.3.0\n",
      "argon2-cffi-bindings              21.2.0\n",
      "arrow                             1.2.2\n",
      "astroid                           2.6.6\n",
      "astropy                           5.0.4\n",
      "asttokens                         2.0.5\n",
      "async-timeout                     4.0.1\n",
      "atomicwrites                      1.4.0\n",
      "attrs                             21.4.0\n",
      "Automat                           20.2.0\n",
      "autopep8                          1.6.0\n",
      "Babel                             2.9.1\n",
      "backcall                          0.2.0\n",
      "backports.functools-lru-cache     1.6.4\n",
      "backports.tempfile                1.0\n",
      "backports.weakref                 1.0.post1\n",
      "bcrypt                            3.2.0\n",
      "beautifulsoup4                    4.11.1\n",
      "binaryornot                       0.4.4\n",
      "bitarray                          2.4.1\n",
      "bkcharts                          0.2\n",
      "black                             19.10b0\n",
      "bleach                            4.1.0\n",
      "bokeh                             2.4.2\n",
      "boto3                             1.21.32\n",
      "botocore                          1.24.32\n",
      "Bottleneck                        1.3.4\n",
      "brotlipy                          0.7.0\n",
      "cachetools                        4.2.2\n",
      "certifi                           2021.10.8\n",
      "cffi                              1.15.0\n",
      "chardet                           4.0.0\n",
      "Note: you may need to restart the kernel to use updated packages.\n",
      "charset-normalizer                2.0.4\n",
      "click                             8.0.4\n",
      "cloudpickle                       2.0.0\n",
      "clyent                            1.2.2\n",
      "colorama                          0.4.4\n",
      "colorcet                          2.0.6\n",
      "comtypes                          1.1.10\n",
      "conda                             4.14.0\n",
      "conda-build                       3.21.8\n",
      "conda-content-trust               0+unknown\n",
      "conda-pack                        0.6.0\n",
      "conda-package-handling            1.8.1\n",
      "conda-repo-cli                    1.0.5\n",
      "conda-token                       0.3.0\n",
      "conda-verify                      3.4.2\n",
      "constantly                        15.1.0\n",
      "cookiecutter                      1.7.3\n",
      "cryptography                      3.4.8\n",
      "cssselect                         1.1.0\n",
      "cycler                            0.11.0\n",
      "Cython                            0.29.28\n",
      "cytoolz                           0.11.0\n",
      "daal4py                           2021.5.0\n",
      "dask                              2022.2.1\n",
      "datashader                        0.13.0\n",
      "datashape                         0.5.4\n",
      "debugpy                           1.5.1\n",
      "decorator                         5.1.1\n",
      "defusedxml                        0.7.1\n",
      "diff-match-patch                  20200713\n",
      "distributed                       2022.2.1\n",
      "docutils                          0.17.1\n",
      "entrypoints                       0.4\n",
      "et-xmlfile                        1.1.0\n",
      "executing                         0.8.3\n",
      "fastjsonschema                    2.15.1\n",
      "filelock                          3.6.0\n",
      "flake8                            3.9.2\n",
      "Flask                             1.1.2\n",
      "fonttools                         4.25.0\n",
      "frozenlist                        1.2.0\n",
      "fsspec                            2022.2.0\n",
      "future                            0.18.2\n",
      "gensim                            4.1.2\n",
      "glob2                             0.7\n",
      "google-api-core                   1.25.1\n",
      "google-auth                       1.33.0\n",
      "google-cloud-core                 1.7.1\n",
      "google-cloud-storage              1.31.0\n",
      "google-crc32c                     1.1.2\n",
      "google-resumable-media            1.3.1\n",
      "googleapis-common-protos          1.53.0\n",
      "greenlet                          1.1.1\n",
      "grpcio                            1.42.0\n",
      "h5py                              3.6.0\n",
      "HeapDict                          1.0.1\n",
      "holoviews                         1.14.8\n",
      "hvplot                            0.7.3\n",
      "hyperlink                         21.0.0\n",
      "idna                              3.3\n",
      "imagecodecs                       2021.8.26\n",
      "imageio                           2.9.0\n",
      "imagesize                         1.3.0\n",
      "importlib-metadata                4.11.3\n",
      "incremental                       21.3.0\n",
      "inflection                        0.5.1\n",
      "iniconfig                         1.1.1\n",
      "intake                            0.6.5\n",
      "intervaltree                      3.1.0\n",
      "ipykernel                         6.9.1\n",
      "ipython                           8.2.0\n",
      "ipython-genutils                  0.2.0\n",
      "ipywidgets                        7.6.5\n",
      "isort                             5.9.3\n",
      "itemadapter                       0.3.0\n",
      "itemloaders                       1.0.4\n",
      "itsdangerous                      2.0.1\n",
      "jdcal                             1.4.1\n",
      "jedi                              0.18.1\n",
      "Jinja2                            2.11.3\n",
      "jinja2-time                       0.2.0\n",
      "jmespath                          0.10.0\n",
      "joblib                            1.1.0\n",
      "json5                             0.9.6\n",
      "jsonschema                        4.4.0\n",
      "jupyter                           1.0.0\n",
      "jupyter-client                    6.1.12\n",
      "jupyter-console                   6.4.0\n",
      "jupyter-contrib-core              0.4.0\n",
      "jupyter-contrib-nbextensions      0.5.1\n",
      "jupyter-core                      4.9.2\n",
      "jupyter-highlight-selected-word   0.2.0\n",
      "jupyter-latex-envs                1.4.6\n",
      "jupyter-nbextensions-configurator 0.5.0\n",
      "jupyter-server                    1.13.5\n",
      "jupyterlab                        3.3.2\n",
      "jupyterlab-pygments               0.1.2\n",
      "jupyterlab-server                 2.10.3\n",
      "jupyterlab-widgets                1.0.0\n",
      "keyring                           23.4.0\n",
      "kiwisolver                        1.3.2\n",
      "lazy-object-proxy                 1.6.0\n",
      "libarchive-c                      2.9\n",
      "llvmlite                          0.38.0\n",
      "locket                            0.2.1\n",
      "lxml                              4.8.0\n",
      "Markdown                          3.3.4\n",
      "MarkupSafe                        2.0.1\n",
      "matplotlib                        3.5.1\n",
      "matplotlib-inline                 0.1.2\n",
      "mccabe                            0.6.1\n",
      "menuinst                          1.4.18\n",
      "mistune                           0.8.4\n",
      "mkl-fft                           1.3.1\n",
      "mkl-random                        1.2.2\n",
      "mkl-service                       2.4.0\n",
      "mock                              4.0.3\n",
      "mpmath                            1.2.1\n",
      "msgpack                           1.0.2\n",
      "multidict                         5.1.0\n",
      "multipledispatch                  0.6.0\n",
      "munkres                           1.1.4\n",
      "mypy-extensions                   0.4.3\n",
      "navigator-updater                 0.2.1\n",
      "nbclassic                         0.3.5\n",
      "nbclient                          0.5.13\n",
      "nbconvert                         6.4.4\n",
      "nbformat                          5.3.0\n",
      "nest-asyncio                      1.5.5\n",
      "networkx                          2.7.1\n",
      "nltk                              3.7\n",
      "nose                              1.3.7\n",
      "notebook                          6.4.8\n",
      "numba                             0.55.1\n",
      "numexpr                           2.8.1\n",
      "numpy                             1.21.5\n",
      "numpydoc                          1.2\n",
      "olefile                           0.46\n",
      "openpyxl                          3.0.9\n",
      "packaging                         21.3\n",
      "panda                             0.3.1\n",
      "pandas                            1.4.2\n",
      "pandocfilters                     1.5.0\n",
      "panel                             0.13.0\n",
      "param                             1.12.0\n",
      "paramiko                          2.8.1\n",
      "parsel                            1.6.0\n",
      "parso                             0.8.3\n",
      "partd                             1.2.0\n",
      "pathlib                           1.0.1\n",
      "pathspec                          0.7.0\n",
      "patsy                             0.5.2\n",
      "pep8                              1.7.1\n",
      "pexpect                           4.8.0\n",
      "pickleshare                       0.7.5\n",
      "Pillow                            9.0.1\n",
      "pip                               21.2.4\n",
      "pkginfo                           1.8.2\n",
      "plotly                            5.6.0\n",
      "pluggy                            1.0.0\n",
      "poyo                              0.5.0\n",
      "prometheus-client                 0.13.1\n",
      "prompt-toolkit                    3.0.20\n",
      "Protego                           0.1.16\n",
      "protobuf                          3.19.1\n",
      "psutil                            5.8.0\n",
      "ptyprocess                        0.7.0\n",
      "pure-eval                         0.2.2\n",
      "py                                1.11.0\n",
      "pyasn1                            0.4.8\n",
      "pyasn1-modules                    0.2.8\n",
      "pycodestyle                       2.7.0\n",
      "pycosat                           0.6.3\n",
      "pycparser                         2.21\n",
      "pyct                              0.4.6\n",
      "pycurl                            7.44.1\n",
      "PyDispatcher                      2.0.5\n",
      "pydocstyle                        6.1.1\n",
      "pyerfa                            2.0.0\n",
      "pyflakes                          2.3.1\n",
      "Pygments                          2.11.2\n",
      "PyHamcrest                        2.0.2\n",
      "PyJWT                             2.4.0\n",
      "pylint                            2.9.6\n",
      "pyls-spyder                       0.4.0\n",
      "PyMySQL                           1.0.2\n",
      "PyNaCl                            1.4.0\n",
      "pyodbc                            4.0.32\n",
      "pyOpenSSL                         21.0.0\n",
      "pyparsing                         3.0.4\n",
      "pypiwin32                         223\n",
      "pyreadline                        2.1\n"
     ]
    },
    {
     "name": "stdout",
     "output_type": "stream",
     "text": [
      "pyrsistent                        0.18.0\n",
      "PySocks                           1.7.1\n",
      "pytest                            7.1.1\n",
      "python-dateutil                   2.8.2\n",
      "python-lsp-black                  1.0.0\n",
      "python-lsp-jsonrpc                1.0.0\n",
      "python-lsp-server                 1.2.4\n",
      "python-slugify                    5.0.2\n",
      "python-snappy                     0.6.0\n",
      "pyttsx3                           2.90\n",
      "pytz                              2021.3\n",
      "pyviz-comms                       2.0.2\n",
      "PyWavelets                        1.3.0\n",
      "pywin32                           302\n",
      "pywin32-ctypes                    0.2.0\n",
      "pywinpty                          2.0.2\n",
      "PyYAML                            6.0\n",
      "pyzmq                             22.3.0\n",
      "QDarkStyle                        3.0.2\n",
      "qstylizer                         0.1.10\n",
      "QtAwesome                         1.0.3\n",
      "qtconsole                         5.3.0\n",
      "QtPy                              2.0.1\n",
      "queuelib                          1.5.0\n",
      "regex                             2022.3.15\n",
      "requests                          2.27.1\n",
      "requests-file                     1.5.1\n",
      "rope                              0.22.0\n",
      "rsa                               4.7.2\n",
      "Rtree                             0.9.7\n",
      "ruamel-yaml-conda                 0.15.100\n",
      "s3transfer                        0.5.0\n",
      "scikit-image                      0.19.2\n",
      "scikit-learn                      1.0.2\n",
      "scikit-learn-intelex              2021.20220215.102710\n",
      "scipy                             1.7.3\n",
      "Scrapy                            2.6.1\n",
      "seaborn                           0.11.2\n",
      "Send2Trash                        1.8.0\n",
      "service-identity                  18.1.0\n",
      "setuptools                        61.2.0\n",
      "sip                               4.19.13\n",
      "six                               1.16.0\n",
      "smart-open                        5.1.0\n",
      "sniffio                           1.2.0\n",
      "snowballstemmer                   2.2.0\n",
      "sortedcollections                 2.1.0\n",
      "sortedcontainers                  2.4.0\n",
      "soupsieve                         2.3.1\n",
      "Sphinx                            4.4.0\n",
      "sphinxcontrib-applehelp           1.0.2\n",
      "sphinxcontrib-devhelp             1.0.2\n",
      "sphinxcontrib-htmlhelp            2.0.0\n",
      "sphinxcontrib-jsmath              1.0.1\n",
      "sphinxcontrib-qthelp              1.0.3\n",
      "sphinxcontrib-serializinghtml     1.1.5\n",
      "spyder                            5.1.5\n",
      "spyder-kernels                    2.1.3\n",
      "SQLAlchemy                        1.4.32\n",
      "stack-data                        0.2.0\n",
      "statsmodels                       0.13.2\n",
      "sympy                             1.10.1\n",
      "tables                            3.6.1\n",
      "tabulate                          0.8.9\n",
      "TBB                               0.2\n",
      "tblib                             1.7.0\n",
      "tenacity                          8.0.1\n",
      "terminado                         0.13.1\n",
      "testpath                          0.5.0\n",
      "text-unidecode                    1.3\n",
      "textdistance                      4.2.1\n",
      "threadpoolctl                     2.2.0\n",
      "three-merge                       0.1.1\n",
      "tifffile                          2021.7.2\n",
      "tinycss                           0.4\n",
      "tldextract                        3.2.0\n",
      "toml                              0.10.2\n",
      "tomli                             1.2.2\n",
      "toolz                             0.11.2\n",
      "tornado                           6.1\n",
      "tqdm                              4.64.0\n",
      "traitlets                         5.1.1\n",
      "Twisted                           22.2.0\n",
      "twisted-iocpsupport               1.0.2\n",
      "typed-ast                         1.4.3\n",
      "typing_extensions                 4.1.1\n",
      "ujson                             5.1.0\n",
      "Unidecode                         1.2.0\n",
      "urllib3                           1.26.9\n",
      "w3lib                             1.21.0\n",
      "watchdog                          2.1.6\n",
      "wcwidth                           0.2.5\n",
      "webencodings                      0.5.1\n",
      "websocket-client                  0.58.0\n",
      "Werkzeug                          2.0.3\n",
      "wheel                             0.37.1\n",
      "widgetsnbextension                3.5.2\n",
      "win-inet-pton                     1.1.0\n",
      "win-unicode-console               0.5\n",
      "wincertstore                      0.2\n",
      "wrapt                             1.12.1\n",
      "xarray                            0.20.1\n",
      "xlrd                              2.0.1\n",
      "XlsxWriter                        3.0.3\n",
      "xlwings                           0.24.9\n",
      "yapf                              0.31.0\n",
      "yarl                              1.6.3\n",
      "zict                              2.0.0\n",
      "zipp                              3.7.0\n",
      "zope.interface                    5.4.0\n"
     ]
    }
   ],
   "source": [
    "pip list \n"
   ]
  },
  {
   "cell_type": "code",
   "execution_count": 79,
   "id": "238a6bac",
   "metadata": {},
   "outputs": [
    {
     "name": "stdout",
     "output_type": "stream",
     "text": [
      "Name: requests\n",
      "Version: 2.27.1\n",
      "Summary: Python HTTP for Humans.\n",
      "Home-page: https://requests.readthedocs.io\n",
      "Author: Kenneth Reitz\n",
      "Author-email: me@kennethreitz.org\n",
      "License: Apache 2.0\n",
      "Location: c:\\users\\krismanto\\anaconda3\\lib\\site-packages\n",
      "Requires: charset-normalizer, urllib3, idna, certifi\n",
      "Required-by: tldextract, Sphinx, requests-file, panel, panda, jupyterlab-server, google-api-core, cookiecutter, conda, conda-repo-cli, conda-build, anaconda-project, anaconda-client\n",
      "Note: you may need to restart the kernel to use updated packages.\n"
     ]
    }
   ],
   "source": [
    "pip show requests"
   ]
  },
  {
   "cell_type": "markdown",
   "id": "1a506b35",
   "metadata": {},
   "source": [
    "Using Requirement Files"
   ]
  },
  {
   "cell_type": "code",
   "execution_count": 80,
   "id": "c1b3a850",
   "metadata": {},
   "outputs": [
    {
     "ename": "SyntaxError",
     "evalue": "invalid syntax (2718436203.py, line 1)",
     "output_type": "error",
     "traceback": [
      "\u001b[1;36m  Input \u001b[1;32mIn [80]\u001b[1;36m\u001b[0m\n\u001b[1;33m    pip freeze > requirements.txt\u001b[0m\n\u001b[1;37m        ^\u001b[0m\n\u001b[1;31mSyntaxError\u001b[0m\u001b[1;31m:\u001b[0m invalid syntax\n"
     ]
    }
   ],
   "source": [
    "pip freeze > requirements.txt\n",
    "cat requirements.txt"
   ]
  },
  {
   "cell_type": "code",
   "execution_count": null,
   "id": "1d0f7090",
   "metadata": {},
   "outputs": [],
   "source": []
  },
  {
   "cell_type": "code",
   "execution_count": null,
   "id": "10a19cba",
   "metadata": {},
   "outputs": [],
   "source": []
  },
  {
   "cell_type": "code",
   "execution_count": null,
   "id": "aedb2918",
   "metadata": {},
   "outputs": [],
   "source": []
  },
  {
   "cell_type": "code",
   "execution_count": null,
   "id": "d2d83205",
   "metadata": {},
   "outputs": [],
   "source": []
  },
  {
   "cell_type": "code",
   "execution_count": null,
   "id": "4ddbcbb9",
   "metadata": {},
   "outputs": [],
   "source": []
  },
  {
   "cell_type": "code",
   "execution_count": null,
   "id": "8821bd06",
   "metadata": {},
   "outputs": [],
   "source": []
  },
  {
   "cell_type": "code",
   "execution_count": null,
   "id": "51f5405a",
   "metadata": {},
   "outputs": [],
   "source": []
  },
  {
   "cell_type": "code",
   "execution_count": null,
   "id": "019363c4",
   "metadata": {},
   "outputs": [],
   "source": []
  },
  {
   "cell_type": "code",
   "execution_count": 59,
   "id": "f5926217",
   "metadata": {},
   "outputs": [],
   "source": [
    "# tanya claas"
   ]
  },
  {
   "cell_type": "code",
   "execution_count": null,
   "id": "aa52d4fe",
   "metadata": {},
   "outputs": [],
   "source": []
  }
 ],
 "metadata": {
  "kernelspec": {
   "display_name": "Python 3 (ipykernel)",
   "language": "python",
   "name": "python3"
  },
  "language_info": {
   "codemirror_mode": {
    "name": "ipython",
    "version": 3
   },
   "file_extension": ".py",
   "mimetype": "text/x-python",
   "name": "python",
   "nbconvert_exporter": "python",
   "pygments_lexer": "ipython3",
   "version": "3.9.12"
  },
  "vscode": {
   "interpreter": {
    "hash": "82cfb9355cd4a84fcb8b00d922438d2e2ce306af33a9c3a4fcd35f64e1697b15"
   }
  }
 },
 "nbformat": 4,
 "nbformat_minor": 5
}
